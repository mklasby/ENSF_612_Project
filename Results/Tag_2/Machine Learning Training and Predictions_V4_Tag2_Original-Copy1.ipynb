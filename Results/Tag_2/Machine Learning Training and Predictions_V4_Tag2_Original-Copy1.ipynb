{
 "cells": [
  {
   "cell_type": "markdown",
   "metadata": {
    "application/vnd.databricks.v1+cell": {
     "inputWidgets": {},
     "nuid": "94bcd22c-af1c-4217-8d42-b3e7834f4512",
     "showTitle": false,
     "title": ""
    }
   },
   "source": [
    "# Model training and predictions \n",
    "### Read from file and data cleaning"
   ]
  },
  {
   "cell_type": "code",
   "execution_count": 2,
   "metadata": {},
   "outputs": [],
   "source": [
    "from pyspark.sql import SparkSession\n",
    "spark  = SparkSession.builder.appName('App').config(\"spark.driver.memory\", \"14g\").getOrCreate()"
   ]
  },
  {
   "cell_type": "code",
   "execution_count": 2,
   "metadata": {},
   "outputs": [
    {
     "name": "stdout",
     "output_type": "stream",
     "text": [
      "[('spark.rdd.compress', 'True'), ('spark.app.name', 'App'), ('spark.serializer.objectStreamReset', '100'), ('spark.driver.port', '54071'), ('spark.master', 'local[*]'), ('spark.submit.pyFiles', ''), ('spark.executor.id', 'driver'), ('spark.submit.deployMode', 'client'), ('spark.app.id', 'local-1607815439594'), ('spark.driver.memory', '14g'), ('spark.driver.host', 'kailundembp.hitronhub.home'), ('spark.ui.showConsoleProgress', 'true')]\n"
     ]
    }
   ],
   "source": [
    "print(spark.sparkContext._conf.getAll())"
   ]
  },
  {
   "cell_type": "code",
   "execution_count": 11,
   "metadata": {
    "application/vnd.databricks.v1+cell": {
     "inputWidgets": {},
     "nuid": "065feedb-a74d-4330-adc9-cc9ad5f84691",
     "showTitle": false,
     "title": ""
    }
   },
   "outputs": [],
   "source": [
    "# File location and type\n",
    "file_location = \"sample_train2 (1).csv\"\n",
    "\n",
    "# CSV options\n",
    "infer_schema = \"true\"\n",
    "first_row_is_header = \"true\"\n",
    "delimiter = \",\"\n",
    "multiline = \"true\"\n",
    "escape = \"\\\"\"\n",
    "\n",
    "# The applied options are for CSV files. For other file types, these will be ignored.\n",
    "df = spark.read.csv(file_location,\n",
    "                  inferSchema = infer_schema, \n",
    "                  sep = delimiter, \n",
    "                  header = first_row_is_header, \n",
    "                  multiLine = multiline, \n",
    "                  escape = escape)\n",
    "df = df.repartition(16)"
   ]
  },
  {
   "cell_type": "code",
   "execution_count": 5,
   "metadata": {},
   "outputs": [
    {
     "name": "stdout",
     "output_type": "stream",
     "text": [
      "+-----+--------------------+--------------------+-------------------+\n",
      "|  _c0|                Body|               Title|                tag|\n",
      "+-----+--------------------+--------------------+-------------------+\n",
      "|53817|<p>I can use Serv...|How can I update ...|             apache|\n",
      "| 3423|<p>I have a GridV...|How to change in ...|           gridview|\n",
      "|43911|<p>I'm struggling...|UIPickerView sele...|          core-data|\n",
      "|52872|<p>Is there a way...|How can I find ou...|wireless-networking|\n",
      "|12734|<p><a href=\"http:...|How to Removing f...|          functions|\n",
      "|53749|<p>I need to supp...|Mod Auth CAS Two ...|     authentication|\n",
      "|76673|<p>Disclaimer: I'...|Reload Current Pa...|         javascript|\n",
      "|77443|<p>At the request...|HP iLO Wildcard S...|                ssl|\n",
      "|  137|<p>Suppose I have...|Can I return the ...|             lucene|\n",
      "|60665|<p>I need to get ...|JQPlot Basic Char...|             jquery|\n",
      "|52822|<p>can someone co...|Please confirm ch...|           .net-4.0|\n",
      "| 8792|<p>I have an exte...|Extension methods...|             vb.net|\n",
      "|78852|<p>I am currently...|How to clone a Gi...|                git|\n",
      "|67845|<p>I indeed to us...|C wait3() int* st...|              linux|\n",
      "|41065|<p>When using an ...|What is going on ...|      visual-studio|\n",
      "|80648|<p>Small question...|Substring output ...|             string|\n",
      "|79148|<p>So I have a cs...|Best way to impor...|             sqlite|\n",
      "|32488|<p>I'm using RIA ...|How to limit the ...| entity-framework-4|\n",
      "|23484|<p>I developed ma...|how to close open...|               html|\n",
      "| 9892|<p>I have a funct...|Will an optional ...|               ruby|\n",
      "+-----+--------------------+--------------------+-------------------+\n",
      "only showing top 20 rows\n",
      "\n"
     ]
    }
   ],
   "source": [
    "df.show()"
   ]
  },
  {
   "cell_type": "markdown",
   "metadata": {
    "application/vnd.databricks.v1+cell": {
     "inputWidgets": {},
     "nuid": "e54dae11-6071-4213-b321-82dceaf39d26",
     "showTitle": false,
     "title": ""
    }
   },
   "source": [
    "### Indexing tags in both test and train data sets"
   ]
  },
  {
   "cell_type": "code",
   "execution_count": 6,
   "metadata": {
    "application/vnd.databricks.v1+cell": {
     "inputWidgets": {},
     "nuid": "e5db86d3-2799-44dd-8d9e-561f2ca04ce9",
     "showTitle": false,
     "title": ""
    }
   },
   "outputs": [],
   "source": [
    "from pyspark.ml.feature import StringIndexer\n",
    "\n",
    "#Encode tag's using String indexer\n",
    "\n",
    "tag_idx = StringIndexer(inputCol='tag', outputCol = 'tag_idx')\n",
    "tag_encode = tag_idx.fit(df)\n",
    "df = tag_encode.transform(df)"
   ]
  },
  {
   "cell_type": "code",
   "execution_count": 7,
   "metadata": {
    "application/vnd.databricks.v1+cell": {
     "inputWidgets": {},
     "nuid": "289fe291-d258-4f3e-bedd-9df37a585581",
     "showTitle": false,
     "title": ""
    }
   },
   "outputs": [
    {
     "data": {
      "text/plain": [
       "100118"
      ]
     },
     "execution_count": 7,
     "metadata": {},
     "output_type": "execute_result"
    }
   ],
   "source": [
    "df.count()"
   ]
  },
  {
   "cell_type": "markdown",
   "metadata": {
    "application/vnd.databricks.v1+cell": {
     "inputWidgets": {},
     "nuid": "b3048eeb-1785-4ae8-a074-cb7005a17ce8",
     "showTitle": false,
     "title": ""
    }
   },
   "source": [
    "### Split test/train sets"
   ]
  },
  {
   "cell_type": "code",
   "execution_count": 12,
   "metadata": {
    "application/vnd.databricks.v1+cell": {
     "inputWidgets": {},
     "nuid": "8169090a-d13a-4424-ab48-9d2c4c441fcd",
     "showTitle": false,
     "title": ""
    }
   },
   "outputs": [],
   "source": [
    "TRAINING_DATA_RATIO = 0.9\n",
    "RANDOM_SEED = 1234\n",
    "\n",
    "splits = [TRAINING_DATA_RATIO, 1.0 - TRAINING_DATA_RATIO]\n",
    "training_data, test_data = df.randomSplit(splits, RANDOM_SEED)"
   ]
  },
  {
   "cell_type": "code",
   "execution_count": 9,
   "metadata": {
    "application/vnd.databricks.v1+cell": {
     "inputWidgets": {},
     "nuid": "bd817135-9e82-41b1-9b31-eb29175e2b33",
     "showTitle": false,
     "title": ""
    }
   },
   "outputs": [
    {
     "name": "stdout",
     "output_type": "stream",
     "text": [
      "Number of training set rows: 90163\n",
      "Number of test set rows: 9955\n"
     ]
    }
   ],
   "source": [
    "print(\"Number of training set rows: %d\" % training_data.count())\n",
    "print(\"Number of test set rows: %d\" % test_data.count())"
   ]
  },
  {
   "cell_type": "markdown",
   "metadata": {
    "application/vnd.databricks.v1+cell": {
     "inputWidgets": {},
     "nuid": "a04fd838-ed54-4370-a033-eee96911d62c",
     "showTitle": false,
     "title": ""
    }
   },
   "source": [
    "# Preprocessing "
   ]
  },
  {
   "cell_type": "code",
   "execution_count": 16,
   "metadata": {},
   "outputs": [
    {
     "name": "stderr",
     "output_type": "stream",
     "text": [
      "[nltk_data] Downloading package punkt to\n",
      "[nltk_data]     /Users/kailunzhang/nltk_data...\n",
      "[nltk_data]   Package punkt is already up-to-date!\n",
      "[nltk_data] Downloading package stopwords to\n",
      "[nltk_data]     /Users/kailunzhang/nltk_data...\n",
      "[nltk_data]   Package stopwords is already up-to-date!\n"
     ]
    }
   ],
   "source": [
    "from bs4 import BeautifulSoup\n",
    "import nltk\n",
    "nltk.download('punkt')\n",
    "nltk.download('stopwords')\n",
    "from nltk.corpus import stopwords\n",
    "stop_en = stopwords.words('english')\n",
    "from nltk.tokenize import sent_tokenize\n",
    "from nltk.tokenize import word_tokenize\n",
    "from nltk.stem import PorterStemmer\n",
    "from nltk.tokenize import RegexpTokenizer\n",
    "from pyspark.sql.functions import *\n",
    "from pyspark.sql.types import *\n",
    "from pyspark.ml.feature import RegexTokenizer\n",
    "\n",
    "\"\"\" Helper functions for preprocessing. TODO: Consider wrapping into class below?\n",
    "\"\"\"\n",
    "\n",
    "@udf(\"String\")\n",
    "def lazy_prep_udf(c):\n",
    "  \"\"\"\n",
    "  Clean noises from the string of text in given column\n",
    "\n",
    "  Args:\n",
    "    c - Column containing string of text\n",
    "\n",
    "  Returns:\n",
    "    Column with the cleaned string of text\n",
    "  \"\"\"\n",
    "  df = BeautifulSoup(c)\n",
    "  \n",
    "  #noise\n",
    "  urls = df.find_all('a')\n",
    "  if urls != None:\n",
    "    if len(urls)>0: \n",
    "      df.a.clear()\n",
    "  \n",
    "  return df.get_text().lower()\n",
    "\n",
    "def tokenize(df, inputCol, outputCol):\n",
    "  \"\"\"\n",
    "Split string of text in dataframe to word tokens.\n",
    "\n",
    "Args:\n",
    "  @param df Dataframe containing string of text\n",
    "  @param inputCol name of input column containin the string of texts\n",
    "  @param outputCol name of output column containin the word tokens\n",
    "  \n",
    "Returns:\n",
    "  Dataframe containing the output column and the input column is dropped\n",
    "\"\"\"\n",
    "  tokenizer = RegexTokenizer(inputCol = inputCol, outputCol = outputCol, pattern=r\"\\s+\") \n",
    "  df = tokenizer.transform(df).drop(inputCol)\n",
    "  return df\n",
    "\n",
    "def remove_punc(text):\n",
    "  \"\"\"Removes all punctuation marks from text.\n",
    "  Args: \n",
    "    text (String): text column to convert \n",
    "  Returns:\n",
    "    String.sql.Row: text w.o punctuation \n",
    "  \"\"\"\n",
    "  mod_punc = '!\"$%&\\'()*,-./:;<=>?@[\\\\]^_`{|}~'\n",
    "  text = text.translate(str.maketrans(' ', ' ', mod_punc))\n",
    "  return text.strip()\n",
    "\n",
    "\n",
    "def remove_num(text):\n",
    "  \"\"\"Removes all numbers from text.\n",
    "  Args: \n",
    "    text (String): text column to convert \n",
    "  Returns:\n",
    "    String: text w.o numbers \n",
    "  \"\"\"\n",
    "  numbers=\"0123456789\"\n",
    "  text = text.translate(str.maketrans(' ', ' ', numbers))\n",
    "  return text.strip()\n",
    "\n",
    "\n",
    "  from nltk.tokenize import RegexpTokenizer \n",
    "\n",
    "@udf(\"String\")\n",
    "def trad_prep_udf(body):\n",
    "  \"\"\"Traditional body text preprocessing pieline. \n",
    "  Args: \n",
    "    text (pyspark.sql.Row): Text String to process\n",
    "  Returns: \n",
    "    pyspark.sql.Row.ArrayType: cleaned tokens \n",
    "  \"\"\"\n",
    "  body = BeautifulSoup(body)\n",
    "  stemmer = PorterStemmer()\n",
    "  \n",
    "  #noise\n",
    "  urls = body.find_all('a')\n",
    "  if len(urls)>0: \n",
    "    body.a.clear()\n",
    "  \n",
    "  text = body.get_text()\n",
    "  \n",
    "  words = []\n",
    "  text = text.lower()\n",
    "\n",
    "  tokenizer = RegexpTokenizer(r'\\w+')\n",
    "  # text = remove_punc(text)\n",
    "  # text = remove_num(text)\n",
    "  sents=tokenizer.tokenize(text)\n",
    "  for sent in sents: \n",
    "    for word in nltk.word_tokenize(sent):\n",
    "      if word in stop_en: continue\n",
    "      # if len(word) < 3: continue\n",
    "      words.append(stemmer.stem(word))\n",
    "  return \" \".join(words)\n",
    "\n",
    "\n",
    "  \"\"\"\n",
    "Combine word tokens from title and body.\n",
    "\n",
    "Args:\n",
    "  df1 Dataframe containing Column with lists of stemmed word tokens from title\n",
    "  inputCol1 name of the column containing lists of stemmed word tokens from title, cannot be same as inputCol2\n",
    "  df2 Dataframe containing Column with lists of stemmed word tokens from body\n",
    "  inputCol2 name of the column containing lists of stemmed word tokens from body, cannot be same as inputCol2\n",
    "  outputCol column name of the ouput column containing the combined list of word tokens from title and body\n",
    "\"\"\"\n",
    "def combine_tokens(df, inputCol1, inputCol2, outputCol):\n",
    "  result = df.withColumn(outputCol, concat(col(inputCol1), col(inputCol2)))\n",
    "  return result"
   ]
  },
  {
   "cell_type": "code",
   "execution_count": 17,
   "metadata": {
    "application/vnd.databricks.v1+cell": {
     "inputWidgets": {},
     "nuid": "0a396fbd-bd45-42c9-9e63-4625969c443d",
     "showTitle": false,
     "title": ""
    }
   },
   "outputs": [],
   "source": [
    "class Preprocessing:\n",
    "  \"\"\"Preprocessing stackoverflow question by remove html tags and tokenize words\"\"\"\n",
    "  \n",
    "  def __init__(self, df, titleCol, bodyCol):\n",
    "    \"\"\"\n",
    "    Construct a Proprocessing object with attribute df: df cleans the text string in the given df using either lazy or traditional preprocessing\n",
    "    \"\"\"\n",
    "    df = df.withColumn(\"Lazy_Title\", lazy_prep_udf( df[titleCol] ) )\n",
    "    df = df.withColumn(\"Lazy_Body\", lazy_prep_udf( df[bodyCol] ) )\n",
    "    df = df.withColumn(\"Trad_Title\", trad_prep_udf( df[titleCol] ) )\n",
    "    self.df = df.withColumn(\"Trad_Body\", trad_prep_udf( df[bodyCol] ) )\n",
    "\n",
    "  def get_token(self):\n",
    "    self.df = tokenize(self.df, \"Lazy_Title\", 'Lazy_Title_Tokens')\n",
    "    self.df = tokenize(self.df, \"Lazy_Body\", 'Lazy_Body_Tokens')\n",
    "    self.df = tokenize(self.df, \"Trad_Title\", 'Trad_Title_Tokens')\n",
    "    self.df = tokenize(self.df, \"Trad_Body\", 'Trad_Body_Tokens')\n",
    "    return self.df"
   ]
  },
  {
   "cell_type": "code",
   "execution_count": 18,
   "metadata": {},
   "outputs": [],
   "source": [
    "#Pre-processing the data\n",
    "preProcessing = Preprocessing(df, \"Title\", \"Body\")\n",
    "df_data = preProcessing.get_token()"
   ]
  },
  {
   "cell_type": "code",
   "execution_count": 19,
   "metadata": {},
   "outputs": [
    {
     "name": "stdout",
     "output_type": "stream",
     "text": [
      "+-----------+-----+\n",
      "|        tag|count|\n",
      "+-----------+-----+\n",
      "|     jquery| 3841|\n",
      "|       .net| 2617|\n",
      "|      mysql| 2364|\n",
      "|    asp.net| 2021|\n",
      "|       html| 1964|\n",
      "|        css| 1786|\n",
      "|objective-c| 1756|\n",
      "|        ios| 1683|\n",
      "|    android| 1478|\n",
      "| javascript| 1196|\n",
      "|      regex| 1109|\n",
      "|     arrays| 1102|\n",
      "|        xml| 1093|\n",
      "|        sql| 1014|\n",
      "|       ruby|  954|\n",
      "| sql-server|  912|\n",
      "|       ajax|  800|\n",
      "|        wpf|  772|\n",
      "|   database|  769|\n",
      "|    windows|  765|\n",
      "+-----------+-----+\n",
      "only showing top 20 rows\n",
      "\n"
     ]
    }
   ],
   "source": [
    "from pyspark.sql.functions import desc, col\n",
    "\n",
    "tag_counts = df.select('tag').groupby('tag').count().sort(desc('count'))\n",
    "tag_counts.sort(col('count').desc()).show()"
   ]
  },
  {
   "cell_type": "code",
   "execution_count": 14,
   "metadata": {},
   "outputs": [],
   "source": [
    "body_counts = df_data.select('Trad_Body_Tokens').rdd.flatMap(lambda l : [(w,1) for w in l.Trad_Body_Tokens]).reduceByKey(lambda a,b: a+b).collect()\n",
    "body_counts.sort(key=lambda tup: -tup[1])"
   ]
  },
  {
   "cell_type": "code",
   "execution_count": 15,
   "metadata": {},
   "outputs": [
    {
     "data": {
      "text/plain": [
       "[('0', 102730),\n",
       " ('use', 95802),\n",
       " ('1', 95336),\n",
       " ('new', 57867),\n",
       " ('class', 56422),\n",
       " ('get', 56200),\n",
       " ('file', 54214),\n",
       " ('id', 53403),\n",
       " ('2', 51670),\n",
       " ('name', 51301)]"
      ]
     },
     "metadata": {},
     "output_type": "display_data"
    }
   ],
   "source": [
    "display(body_counts[:10])"
   ]
  },
  {
   "cell_type": "code",
   "execution_count": 16,
   "metadata": {},
   "outputs": [],
   "source": [
    "title_counts = df_data.select('Trad_Title_Tokens').rdd.flatMap(lambda l : [(w,1) for w in l.Trad_Title_Tokens]).reduceByKey(lambda a,b: a+b).collect()\n",
    "title_counts.sort(key=lambda tup: -tup[1])"
   ]
  },
  {
   "cell_type": "code",
   "execution_count": 17,
   "metadata": {},
   "outputs": [
    {
     "data": {
      "text/plain": [
       "[('use', 10112),\n",
       " ('file', 5646),\n",
       " ('c', 5221),\n",
       " ('get', 4457),\n",
       " ('jqueri', 4223),\n",
       " ('php', 4106),\n",
       " ('net', 3420),\n",
       " ('data', 3370),\n",
       " ('error', 3265),\n",
       " ('valu', 3223)]"
      ]
     },
     "metadata": {},
     "output_type": "display_data"
    }
   ],
   "source": [
    "display(title_counts[:10])"
   ]
  },
  {
   "cell_type": "code",
   "execution_count": null,
   "metadata": {},
   "outputs": [],
   "source": []
  },
  {
   "cell_type": "code",
   "execution_count": 20,
   "metadata": {
    "application/vnd.databricks.v1+cell": {
     "inputWidgets": {},
     "nuid": "7578aed6-f212-4f34-a64b-e7932436a2c3",
     "showTitle": false,
     "title": ""
    }
   },
   "outputs": [],
   "source": [
    "#Pre-processing the data\n",
    "preProcessing = Preprocessing(test_data, \"Title\", \"Body\")\n",
    "test_data = preProcessing.get_token()\n",
    "preProcessing = Preprocessing(training_data, \"Title\", \"Body\")\n",
    "training_data = preProcessing.get_token()\n"
   ]
  },
  {
   "cell_type": "markdown",
   "metadata": {
    "application/vnd.databricks.v1+cell": {
     "inputWidgets": {},
     "nuid": "4625edde-dab5-4a10-8f95-288b6987da53",
     "showTitle": false,
     "title": ""
    }
   },
   "source": [
    "# Machine Learning Data Preparation"
   ]
  },
  {
   "cell_type": "markdown",
   "metadata": {
    "application/vnd.databricks.v1+cell": {
     "inputWidgets": {},
     "nuid": "395ce8e9-2359-4434-aa05-4b6ea45716b5",
     "showTitle": false,
     "title": ""
    }
   },
   "source": [
    "### Feature Engineering"
   ]
  },
  {
   "cell_type": "code",
   "execution_count": 21,
   "metadata": {},
   "outputs": [],
   "source": [
    "from pyspark.ml.feature import CountVectorizer, IDF, NGram, VectorAssembler, StringIndexer, HashingTF\n",
    "from pyspark.ml import Pipeline\n",
    "def feature_engineer():\n",
    "# FOR LAZY PRE-PROCESSING\n",
    "  lazy_body_vector = CountVectorizer(inputCol = 'Lazy_Body_Tokens', outputCol = 'lazy_body_vector', minDF=0.01 , maxDF=0.85)\n",
    "  lazy_title_vector = CountVectorizer(inputCol = 'Lazy_Title_Tokens', outputCol = 'lazy_title_vector', minDF=0.01 , maxDF=0.85)\n",
    "  # FOR TRAD PRE-PROCESSING\n",
    "  trad_body_vector = CountVectorizer(inputCol = 'Trad_Body_Tokens', outputCol = 'trad_body_vector', minDF=0.01 , maxDF=0.99)\n",
    "  trad_title_vector = CountVectorizer(inputCol = 'Trad_Title_Tokens', outputCol = 'trad_title_vector', minDF=0.01 , maxDF=0.99)\n",
    "\n",
    "  lazy_features = VectorAssembler(inputCols=['lazy_body_vector', 'lazy_title_vector'], outputCol='lazy_features')\n",
    "  trad_features = VectorAssembler(inputCols=['trad_body_vector', 'trad_title_vector'], outputCol='trad_features')\n",
    "  pipe = Pipeline(stages=[lazy_body_vector, lazy_title_vector, lazy_features, trad_body_vector, trad_title_vector, trad_features])\n",
    "  pipe_model = pipe.fit(training_data)\n",
    "  train_df = pipe_model.transform(training_data)  \n",
    "  test_df = pipe_model.transform(test_data)\n",
    "  return train_df, test_df"
   ]
  },
  {
   "cell_type": "code",
   "execution_count": 22,
   "metadata": {
    "application/vnd.databricks.v1+cell": {
     "inputWidgets": {},
     "nuid": "ab8d93cb-96cf-4acc-b3f2-df9b062f9d3c",
     "showTitle": false,
     "title": ""
    }
   },
   "outputs": [],
   "source": [
    "train_df, test_df = feature_engineer()"
   ]
  },
  {
   "cell_type": "code",
   "execution_count": 21,
   "metadata": {},
   "outputs": [
    {
     "name": "stdout",
     "output_type": "stream",
     "text": [
      "+--------------------+--------------------+--------------------+\n",
      "|    Trad_Body_Tokens|       trad_features|                Body|\n",
      "+--------------------+--------------------+--------------------+\n",
      "|[pleas, help, for...|(1004,[7,8,22,32,...|<p>Please help me...|\n",
      "|[fairli, new, ope...|(1004,[1,3,13,15,...|<p>I'm fairly new...|\n",
      "|[visual, studio, ...|(1004,[0,1,2,3,4,...|<p>My Visual Stud...|\n",
      "|[test, bandwidth,...|(1004,[13,17,36,6...|<p>To test bandwi...|\n",
      "|[tri, debug, ie, ...|(1004,[6,15,21,45...|<p>I'm trying to ...|\n",
      "|[wrote, page, cal...|(1004,[3,5,10,14,...|<p>I wrote a page...|\n",
      "|[switch, tf, svn,...|(1004,[1,3,6,34,3...|<p>We just switch...|\n",
      "|[print, 2, argume...|(1004,[2,9,14,16,...|<p>I can print mo...|\n",
      "|[site, need, acce...|(1004,[1,13,21,30...|<p>The site needs...|\n",
      "|[face, problem, s...|(1004,[1,14,26,34...|<p>I am facing a ...|\n",
      "|[could, join, mul...|(1004,[0,44,47,74...|<p>How could i jo...|\n",
      "|[want, use, ssi, ...|(1004,[1,5,17,21,...|<p>I want to use ...|\n",
      "|[iphon, app, need...|(1004,[1,5,12,13,...|<p>In my iPhone a...|\n",
      "|[work, small, ins...|(1004,[9,13,14,21...|<p>I work for a s...|\n",
      "|[pleas, find, cod...|(1004,[0,1,2,3,6,...|<p>Please find th...|\n",
      "|[opengl, es, scen...|(1004,[0,1,2,9,10...|<p>I have an Open...|\n",
      "|[int, 0, helper, ...|(1004,[0,8,24,25,...|<pre><code>@{\n",
      "   ...|\n",
      "|[memori, alloc, p...|(1004,[1,3,5,21,3...|<p>How memory is ...|\n",
      "|[question, basic,...|(1004,[0,1,2,4,5,...|<p>My question is...|\n",
      "|[process, write, ...|(1004,[5,21,32,43...|<p>I'm in the pro...|\n",
      "+--------------------+--------------------+--------------------+\n",
      "only showing top 20 rows\n",
      "\n"
     ]
    }
   ],
   "source": [
    "test_df.select(\"Trad_Body_Tokens\", \"trad_features\", 'Body').show()"
   ]
  },
  {
   "cell_type": "markdown",
   "metadata": {
    "application/vnd.databricks.v1+cell": {
     "inputWidgets": {},
     "nuid": "53a18ae5-d3d3-42ec-a232-ecaa76765e5a",
     "showTitle": false,
     "title": ""
    }
   },
   "source": [
    "# Model Training"
   ]
  },
  {
   "cell_type": "markdown",
   "metadata": {},
   "source": [
    "## Metrics helper"
   ]
  },
  {
   "cell_type": "code",
   "execution_count": 22,
   "metadata": {},
   "outputs": [],
   "source": [
    "from pyspark.mllib.evaluation import MulticlassMetrics\n",
    "\n",
    "\n",
    "def print_metrics(results_df, by_tag = False, ground_truth_col='tag_idx', prediction_col='prediction'):\n",
    "    labels_and_predictions = results_df.select([ground_truth_col, prediction_col])\n",
    "    # Instantiate metrics object\n",
    "    metrics = MulticlassMetrics(labels_and_predictions.rdd)\n",
    "    # Overall statistics\n",
    "    precision = metrics.precision(1.0)\n",
    "    recall = metrics.recall(1.0)\n",
    "    f1Score = metrics.fMeasure(1.0)\n",
    "    print(\"Summary Stats\")\n",
    "    print(\"Precision = %s\" % precision)\n",
    "    print(\"Recall = %s\" % recall)\n",
    "    print(\"F1 Score = %s\" % f1Score)\n",
    "    # Weighted stats\n",
    "    print(\"Weighted recall = %s\" % metrics.weightedRecall)\n",
    "    print(\"Weighted precision = %s\" % metrics.weightedPrecision)\n",
    "    print(\"Weighted F(1) Score = %s\" % metrics.weightedFMeasure())\n",
    "    print(\"Weighted F(0.5) Score = %s\" % metrics.weightedFMeasure(beta=0.5))\n",
    "    print(\"Weighted false positive rate = %s\" % metrics.weightedFalsePositiveRate)\n",
    "\n",
    "    if by_tag: \n",
    "        # Statistics by class\n",
    "        labels = df.rdd.map(lambda lp: lp.tag_idx).distinct().collect()\n",
    "        # print(labels)\n",
    "        for label in sorted(labels):\n",
    "            try:\n",
    "                print(\"Class %s precision = %s\" % (label, metrics.precision(label)))\n",
    "                print(\"Class %s recall = %s\" % (label, metrics.recall(label)))\n",
    "                print(\"Class %s F1 Measure = %s\" % (label, metrics.fMeasure(label, beta=1.0)))\n",
    "            except: \n",
    "                print(\"Class %s not in this set!\" % (label))"
   ]
  },
  {
   "cell_type": "markdown",
   "metadata": {
    "application/vnd.databricks.v1+cell": {
     "inputWidgets": {},
     "nuid": "b6263fc0-8c15-432e-8e0d-469888daba62",
     "showTitle": false,
     "title": ""
    }
   },
   "source": [
    "## Logistic Regression"
   ]
  },
  {
   "cell_type": "markdown",
   "metadata": {
    "application/vnd.databricks.v1+cell": {
     "inputWidgets": {},
     "nuid": "1de3f3b4-9709-4d78-a507-7c16a5205b28",
     "showTitle": false,
     "title": ""
    }
   },
   "source": [
    "**Hyperparameter Tuning**"
   ]
  },
  {
   "cell_type": "markdown",
   "metadata": {
    "application/vnd.databricks.v1+cell": {
     "inputWidgets": {},
     "nuid": "941b6e25-aca0-4396-ac3f-259858856f87",
     "showTitle": false,
     "title": ""
    }
   },
   "source": [
    "**Model training and transformation of test set**"
   ]
  },
  {
   "cell_type": "code",
   "execution_count": 24,
   "metadata": {
    "application/vnd.databricks.v1+cell": {
     "inputWidgets": {},
     "nuid": "eb12f781-fefa-4701-9e98-1d356a5d04c2",
     "showTitle": false,
     "title": ""
    }
   },
   "outputs": [],
   "source": [
    "from pyspark.ml.classification import LogisticRegression\n",
    "# Trad model\n",
    "lr_trad = LogisticRegression(featuresCol = \"trad_features\", labelCol = \"tag_idx\", fitIntercept=True, elasticNetParam=0.0, regParam=0.0)\n",
    "lr_trad_model = lr_trad.fit(train_df)\n",
    "lr_trad_results = lr_trad_model.transform(test_df)"
   ]
  },
  {
   "cell_type": "markdown",
   "metadata": {
    "application/vnd.databricks.v1+cell": {
     "inputWidgets": {},
     "nuid": "9c89235e-9b48-4f41-b5ec-2def5a0cf989",
     "showTitle": false,
     "title": ""
    }
   },
   "source": [
    "**Performance Metrics**"
   ]
  },
  {
   "cell_type": "code",
   "execution_count": 25,
   "metadata": {
    "application/vnd.databricks.v1+cell": {
     "inputWidgets": {},
     "nuid": "3b5006f9-eca7-4ddc-be08-522eef4f2543",
     "showTitle": false,
     "title": ""
    }
   },
   "outputs": [
    {
     "name": "stdout",
     "output_type": "stream",
     "text": [
      "Summary Stats\n",
      "Precision = 0.1722689075630252\n",
      "Recall = 0.14487632508833923\n",
      "F1 Score = 0.15738963531669867\n",
      "Weighted recall = 0.1713711702661979\n",
      "Weighted precision = 0.1825228047581572\n",
      "Weighted F(1) Score = 0.17428808989866643\n",
      "Weighted F(0.5) Score = 0.17856372596695255\n",
      "Weighted false positive rate = 0.0058381737696372865\n"
     ]
    }
   ],
   "source": [
    "# Trad Metrics\n",
    "#lr_trad = LogisticRegression(featuresCol = \"trad_features\", labelCol = \"tag_idx\", fitIntercept=False, elasticNetParam=0.0, regParam=0)\n",
    "print_metrics(lr_trad_results)"
   ]
  },
  {
   "cell_type": "markdown",
   "metadata": {
    "application/vnd.databricks.v1+cell": {
     "inputWidgets": {},
     "nuid": "78f66ea8-63e3-414d-a14a-e44c45433e72",
     "showTitle": false,
     "title": ""
    }
   },
   "source": [
    "##Random Forest"
   ]
  },
  {
   "cell_type": "markdown",
   "metadata": {
    "application/vnd.databricks.v1+cell": {
     "inputWidgets": {},
     "nuid": "5f024fa7-1511-46e5-8690-2a760c54b8a4",
     "showTitle": false,
     "title": ""
    }
   },
   "source": [
    "**Model training and transformation of test set**"
   ]
  },
  {
   "cell_type": "code",
   "execution_count": 27,
   "metadata": {
    "application/vnd.databricks.v1+cell": {
     "inputWidgets": {},
     "nuid": "f38f1e78-330a-4efa-8652-f51e24d58002",
     "showTitle": false,
     "title": ""
    }
   },
   "outputs": [],
   "source": [
    "from pyspark.ml.classification import RandomForestClassifier\n",
    "# Trad Model\n",
    "# TODO: Select best hyper parameters\n",
    "rf_trad = RandomForestClassifier(featuresCol = \"trad_features\", labelCol = \"tag_idx\", maxDepth=15, numTrees=15)\n",
    "rf_trad_model = rf_trad.fit(train_df)\n",
    "rf_trad_result = rf_trad_model.transform(test_df)"
   ]
  },
  {
   "cell_type": "markdown",
   "metadata": {
    "application/vnd.databricks.v1+cell": {
     "inputWidgets": {},
     "nuid": "4a6fd10f-777e-4505-86c8-15c116b3a436",
     "showTitle": false,
     "title": ""
    }
   },
   "source": [
    "**Performance Metrics**"
   ]
  },
  {
   "cell_type": "code",
   "execution_count": 28,
   "metadata": {},
   "outputs": [
    {
     "name": "stdout",
     "output_type": "stream",
     "text": [
      "Weighted recall = 0.18322451029633346\n",
      "Weighted precision = 0.5746728250026691\n",
      "Weighted F(1) Score = 0.2463187383258534\n",
      "Weighted F(0.5) Score = 0.3400012619469306\n",
      "Weighted false positive rate = 0.009260470331998562\n"
     ]
    }
   ],
   "source": [
    "# Trad Metrics 15 x 15\n",
    "from pyspark.mllib.evaluation import MulticlassMetrics\n",
    "\n",
    "#Get labels/predictions in RDD expected by metrics classes\n",
    "rf_trad_labels_and_predictions = rf_trad_result.select([\"tag_idx\", \"prediction\"])\n",
    "\n",
    "# Instantiate metrics object\n",
    "rf_trad_metrics = MulticlassMetrics(rf_trad_labels_and_predictions.rdd)\n",
    "\n",
    "# Weighted stats\n",
    "print(\"Weighted recall = %s\" % rf_trad_metrics.weightedRecall)\n",
    "print(\"Weighted precision = %s\" % rf_trad_metrics.weightedPrecision)\n",
    "print(\"Weighted F(1) Score = %s\" % rf_trad_metrics.weightedFMeasure())\n",
    "print(\"Weighted F(0.5) Score = %s\" % rf_trad_metrics.weightedFMeasure(beta=0.5))\n",
    "print(\"Weighted false positive rate = %s\" % rf_trad_metrics.weightedFalsePositiveRate)"
   ]
  },
  {
   "cell_type": "markdown",
   "metadata": {
    "application/vnd.databricks.v1+cell": {
     "inputWidgets": {},
     "nuid": "44099856-5436-483d-b518-a55d418e5cb2",
     "showTitle": false,
     "title": ""
    }
   },
   "source": [
    "# Results Analysis\n",
    "As we can see from the above, the __ and __ model performed best on the lazy features and traditional features, respectively. We will now use the __ model to determine the highest performing and lowest performing classes."
   ]
  },
  {
   "cell_type": "code",
   "execution_count": 29,
   "metadata": {},
   "outputs": [
    {
     "name": "stdout",
     "output_type": "stream",
     "text": [
      "+----+--------------------+--------------------+------------------+-------+--------------------+--------------------+--------------------+--------------------+--------------------+--------------------+--------------------+--------------------+--------------------+--------------------+--------------------+--------------------+----------+\n",
      "| _c0|                Body|               Title|               tag|tag_idx|   Lazy_Title_Tokens|    Lazy_Body_Tokens|   Trad_Title_Tokens|    Trad_Body_Tokens|    lazy_body_vector|   lazy_title_vector|       lazy_features|    trad_body_vector|   trad_title_vector|       trad_features|       rawPrediction|         probability|prediction|\n",
      "+----+--------------------+--------------------+------------------+-------+--------------------+--------------------+--------------------+--------------------+--------------------+--------------------+--------------------+--------------------+--------------------+--------------------+--------------------+--------------------+----------+\n",
      "| 363|<p>Please help me...|SQL Query on spec...|             query|   61.0|[sql, query, on, ...|[please, help, me...|[sql, queri, spec...|[pleas, help, for...|(953,[0,2,3,4,11,...|(106,[8,34,68],[1...|(1059,[0,2,3,4,11...|(903,[7,8,22,32,4...|(101,[18,35],[1.0...|(1004,[7,8,22,32,...|[0.14038327665113...|[0.00935888511007...|      15.0|\n",
      "| 423|<p>I'm fairly new...|Recommended Books...|           windows|   19.0|[recommended, boo...|[i'm, fairly, new...|[recommend, book,...|[fairli, new, ope...|(953,[0,2,3,4,5,8...|     (106,[9],[1.0])|(1059,[0,2,3,4,5,...|(903,[1,3,13,15,2...|         (101,[],[])|(1004,[1,3,13,15,...|[0.22729328490821...|[0.01515288566054...|      23.0|\n",
      "| 905|<p>My Visual Stud...|Why log4net doesn...|        nhibernate|  154.0|[why, log4net, do...|[my, visual, stud...|[log4net, log, nh...|[visual, studio, ...|(953,[1,3,4,5,6,7...|    (106,[39],[1.0])|(1059,[1,3,4,5,6,...|(903,[0,1,2,3,4,6...|         (101,[],[])|(1004,[0,1,2,3,4,...|[0.20647888239628...|[0.01376525882641...|      20.0|\n",
      "|1035|<p>To test bandwi...|Can I pull data f...|       performance|   34.0|[can, i, pull, da...|[to, test, bandwi...|[pull, data, serv...|[test, bandwidth,...|(953,[2,9,15,17,2...|(106,[0,5,10,12,1...|(1059,[2,9,15,17,...|(903,[13,17,36,66...|(101,[7,13],[1.0,...|(1004,[13,17,36,6...|[0.27468654911539...|[0.01831243660769...|       1.0|\n",
      "|1101|<p>I'm trying to ...|How do I clear IE...| internet-explorer|   75.0|[how, do, i, clea...|[i'm, trying, to,...|[clear, ie, cach,...|[tri, debug, ie, ...|(953,[0,3,5,11,13...|(106,[3,12,18,20,...|(1059,[0,3,5,11,1...|(903,[6,15,21,45,...|(101,[47,58],[1.0...|(1004,[6,15,21,45...|[0.27468654911539...|[0.01831243660769...|       1.0|\n",
      "|1141|<p>I wrote a page...|Data in AJAX call...|       jquery-ajax|  234.0|[data, in, ajax, ...|[i, wrote, a, pag...|[data, ajax, call...|[wrote, page, cal...|(953,[0,1,2,4,6,7...|(106,[1,11,24,47,...|(1059,[0,1,2,4,6,...|(903,[3,5,10,14,1...|(101,[7,19,77],[1...|(1004,[3,5,10,14,...|[1.24453204243810...|[0.08296880282920...|       0.0|\n",
      "|1266|<p>We just switch...|Any tips for usin...|               svn|  182.0|[any, tips, for, ...|[we, just, switch...|[tip, use, subver...|[switch, tf, svn,...|(953,[0,2,3,4,5,8...|(106,[5,9,13],[1....|(1059,[0,2,3,4,5,...|(903,[1,3,6,34,37...|(101,[0,1,6],[1.0...|(1004,[1,3,6,34,3...|[0.24864085224304...|[0.01657605681620...|      12.0|\n",
      "|1339|<p>I can print mo...|argument list in ...|                 c|   31.0|[argument, list, ...|[i, can, print, m...|[argument, list, ...|[print, 2, argume...|(953,[4,6,7,11,13...|(106,[1,47,60],[1...|(1059,[4,6,7,11,1...|(903,[2,9,14,16,2...|(101,[19,32],[1.0...|(1004,[2,9,14,16,...|[0.38392255452775...|[0.02559483696851...|      20.0|\n",
      "|1392|<p>The site needs...|Is there a way fo...|               ssl|  156.0|[is, there, a, wa...|[the, site, needs...|[way, iis6, http,...|[site, need, acce...|(953,[0,2,3,4,8,9...|(106,[0,1,2,4,7,9...|(1059,[0,2,3,4,8,...|(903,[1,13,21,30,...|    (101,[45],[1.0])|(1004,[1,13,21,30...|[0.26192187535860...|[0.01746145835724...|       3.0|\n",
      "|1403|<p>I am facing a ...|SVN replication u...|               svn|  182.0|[svn, replication...|[i, am, facing, a...|[svn, replic, use...|[face, problem, s...|(953,[0,2,3,4,5,8...|    (106,[13],[1.0])|(1059,[0,2,3,4,5,...|(903,[1,14,26,34,...|     (101,[0],[1.0])|(1004,[1,14,26,34...|[0.27468654911539...|[0.01831243660769...|       1.0|\n",
      "|1564|<p>How could i jo...|Join nested / mul...|             mysql|    2.0|[join, nested, /,...|[how, could, i, j...|[join, nest, mult...|[could, join, mul...|(953,[0,1,6,7,10,...|(106,[2,5,68],[1....|(1059,[0,1,6,7,10...|(903,[0,44,47,74,...|    (101,[35],[2.0])|(1004,[0,44,47,74...|[0.14736865523837...|[0.00982457701589...|       2.0|\n",
      "|1716|<p>I want to use ...|Using SSIS BIDS w...|visual-studio-2012|  347.0|[using, ssis, bid...|[i, want, to, use...|[use, ssi, bid, v...|[want, use, ssi, ...|(953,[0,3,4,5,9,1...|(106,[5,13],[1.0,...|(1059,[0,3,4,5,9,...|(903,[1,5,17,21,3...|     (101,[0],[1.0])|(1004,[1,5,17,21,...|[0.21183822575530...|[0.01412254838368...|      15.0|\n",
      "|1854|<p>In my iPhone a...|Warning: UIKit sh...|    multithreading|   20.0|[warning:, uikit,...|[in, my, iphone, ...|[warn, uikit, cal...|[iphon, app, need...|(953,[0,1,4,6,7,1...|(106,[2,10,14,94]...|(1059,[0,1,4,6,7,...|(903,[1,5,12,13,2...|    (101,[40],[1.0])|(1004,[1,5,12,13,...|[0.07995339425553...|[0.00533022628370...|       6.0|\n",
      "|1919|<p>I work for a s...|For remote IT pur...|               vpn|  422.0|[for, remote, it,...|[i, work, for, a,...|[remot, purpos, v...|[work, small, ins...|(953,[0,2,3,4,5,9...|(106,[9,25,32],[1...|(1059,[0,2,3,4,5,...|(903,[9,13,14,21,...|         (101,[],[])|(1004,[9,13,14,21...|[0.25370836528255...|[0.01691389101883...|       1.0|\n",
      "|2432|<p>Please find th...|ImageMagick, crea...|              html|    4.0|[imagemagick,, cr...|[please, find, th...|[imagemagick, cre...|[pleas, find, cod...|(953,[0,1,4,8,9,1...|(106,[19,51],[1.0...|(1059,[0,1,4,8,9,...|(903,[0,1,2,3,6,8...|(101,[1,16,20,83]...|(1004,[0,1,2,3,6,...|[0.39275227331596...|[0.02618348488773...|      33.0|\n",
      "|2465|<p>I have an Open...|Applying Translat...|       objective-c|    6.0|[applying, transl...|[i, have, an, ope...|[appli, translat,...|[opengl, es, scen...|(953,[0,1,2,3,4,5...|(106,[0,16,103],[...|(1059,[0,1,2,3,4,...|(903,[0,1,2,9,10,...|    (101,[78],[1.0])|(1004,[0,1,2,9,10...|[0.24023313110289...|[0.01601554207352...|       6.0|\n",
      "|2520|<pre><code>@{\n",
      "   ...|Access global pag...|             razor|  281.0|[access, global, ...|[@{, int, i, =, 0...|[access, global, ...|[int, 0, helper, ...|(953,[1,2,4,6,7,2...|(106,[1,55,81],[1...|(1059,[1,2,4,6,7,...|(903,[0,8,24,25,3...|(101,[26,46,59],[...|(1004,[0,8,24,25,...|[0.25218665239327...|[0.01681244349288...|       1.0|\n",
      "|2566|<p>How memory is ...|Memory Allocation...|                 c|   31.0|[memory, allocati...|[how, memory, is,...|[memori, alloc, p...|[memori, alloc, p...|(953,[1,2,5,11,22...|(106,[9,64],[1.0,...|(1059,[1,2,5,11,2...|(903,[1,3,5,21,34...|    (101,[15],[1.0])|(1004,[1,3,5,21,3...|[0.23656720474677...|[0.01577114698311...|       6.0|\n",
      "|2633|<p>My question is...|Excel process sti...|             excel|   91.0|[excel, process, ...|[my, question, is...|[excel, process, ...|[question, basic,...|(953,[0,1,2,3,4,5...|(106,[1,67],[1.0,...|(1059,[0,1,2,3,4,...|(903,[0,1,2,4,5,7...|(101,[6,58],[1.0,...|(1004,[0,1,2,4,5,...|[0.64359045617143...|[0.04290603041142...|       0.0|\n",
      "|2642|<p>I'm in the pro...|Trying to make a ...|               css|    5.0|[trying, to, make...|[i'm, in, the, pr...|[tri, make, websi...|[process, write, ...|(953,[0,2,3,4,5,8...|(106,[0,2,5,38,85...|(1059,[0,2,3,4,5,...|(903,[5,21,32,43,...|(101,[26,55],[1.0...|(1004,[5,21,32,43...|[0.94049647460104...|[0.06269976497340...|       5.0|\n",
      "+----+--------------------+--------------------+------------------+-------+--------------------+--------------------+--------------------+--------------------+--------------------+--------------------+--------------------+--------------------+--------------------+--------------------+--------------------+--------------------+----------+\n",
      "only showing top 20 rows\n",
      "\n"
     ]
    }
   ],
   "source": [
    "# TODO: Update with best performing model \n",
    "top_df = rf_trad_result\n",
    "top_df.show()"
   ]
  },
  {
   "cell_type": "code",
   "execution_count": 40,
   "metadata": {},
   "outputs": [],
   "source": [
    "# write prepared file for further use\n",
    "top_df.write.parquet(\"top_df2\")"
   ]
  },
  {
   "cell_type": "code",
   "execution_count": 3,
   "metadata": {},
   "outputs": [
    {
     "name": "stdout",
     "output_type": "stream",
     "text": [
      "+---------------+-------+----------+\n",
      "|            tag|tag_idx|prediction|\n",
      "+---------------+-------+----------+\n",
      "|         string|   21.0|      21.0|\n",
      "|      resources|  428.0|       1.0|\n",
      "|          mysql|    2.0|      15.0|\n",
      "|         jquery|    0.0|      33.0|\n",
      "|         arrays|   11.0|      11.0|\n",
      "|     javascript|    9.0|       9.0|\n",
      "|    objective-c|    6.0|       1.0|\n",
      "|  url-rewriting|  457.0|       7.0|\n",
      "|    google-maps|  111.0|       8.0|\n",
      "|            csv|  202.0|       1.0|\n",
      "|  serialization|  204.0|       1.0|\n",
      "|   asynchronous|  304.0|      20.0|\n",
      "|         arrays|   11.0|      11.0|\n",
      "|       servlets|  199.0|       4.0|\n",
      "|    backbone.js|  266.0|       0.0|\n",
      "|           .net|    1.0|       7.0|\n",
      "|          table|  167.0|       2.0|\n",
      "|           ruby|   14.0|       1.0|\n",
      "|windows-phone-7|  137.0|       7.0|\n",
      "|            ssl|  156.0|      12.0|\n",
      "+---------------+-------+----------+\n",
      "only showing top 20 rows\n",
      "\n"
     ]
    }
   ],
   "source": [
    "top_df = spark.read.parquet(\"top_df2\")\n",
    "top_df.cache()\n",
    "top_df.select([\"tag\", \"tag_idx\", \"prediction\"]).show()"
   ]
  },
  {
   "cell_type": "code",
   "execution_count": 4,
   "metadata": {},
   "outputs": [
    {
     "data": {
      "text/plain": [
       "9955"
      ]
     },
     "execution_count": 4,
     "metadata": {},
     "output_type": "execute_result"
    }
   ],
   "source": [
    "top_df.count()"
   ]
  },
  {
   "cell_type": "code",
   "execution_count": 31,
   "metadata": {},
   "outputs": [
    {
     "name": "stdout",
     "output_type": "stream",
     "text": [
      "+------------------+-------+----------+\n",
      "|               tag|tag_idx|prediction|\n",
      "+------------------+-------+----------+\n",
      "|             query|   61.0|      15.0|\n",
      "|           windows|   19.0|      23.0|\n",
      "|        nhibernate|  154.0|      20.0|\n",
      "|       performance|   34.0|       1.0|\n",
      "| internet-explorer|   75.0|       1.0|\n",
      "|       jquery-ajax|  234.0|       0.0|\n",
      "|               svn|  182.0|      12.0|\n",
      "|                 c|   31.0|      20.0|\n",
      "|               ssl|  156.0|       3.0|\n",
      "|               svn|  182.0|       1.0|\n",
      "|             mysql|    2.0|       2.0|\n",
      "|visual-studio-2012|  347.0|      15.0|\n",
      "|    multithreading|   20.0|       6.0|\n",
      "|               vpn|  422.0|       1.0|\n",
      "|              html|    4.0|      33.0|\n",
      "|       objective-c|    6.0|       6.0|\n",
      "|             razor|  281.0|       1.0|\n",
      "|                 c|   31.0|       6.0|\n",
      "|             excel|   91.0|       0.0|\n",
      "|               css|    5.0|       5.0|\n",
      "+------------------+-------+----------+\n",
      "only showing top 20 rows\n",
      "\n"
     ]
    }
   ],
   "source": [
    "#top_df.select([\"tag\", \"tag_idx\", \"prediction\"]).show()"
   ]
  },
  {
   "cell_type": "code",
   "execution_count": 8,
   "metadata": {},
   "outputs": [],
   "source": [
    "from pyspark.mllib.evaluation import MulticlassMetrics\n",
    "import pandas as pd\n",
    "from pyspark.sql.functions import desc, col\n",
    "\n",
    "def get_label_metrics(results_df, ground_truth_col='tag_idx', prediction_col='prediction'):\n",
    "    \"\"\"Get pandas dataframe of top 10 tags with metrics from top_df\n",
    "\n",
    "    Params: \n",
    "        results_df (pyspark DataFrame): top_df to get metrics of\n",
    "\n",
    "    Returns:\n",
    "        (pd.DataFrame): pandas dataframe in form of {column: [row_data]} for plotting\n",
    "    \"\"\"\n",
    "    labels_and_predictions = results_df.select([ground_truth_col, prediction_col])\n",
    "    # Instantiate metrics object\n",
    "    metrics = MulticlassMetrics(labels_and_predictions.rdd)\n",
    "\n",
    "    #get dict of labels to plot\n",
    "    label_metrics = {}\n",
    "\n",
    "    # Statistics by class\n",
    "    labels = df.rdd.map(lambda lp: lp.tag_idx).distinct().collect()\n",
    "    # print(labels)\n",
    "    for label in sorted(labels):\n",
    "        prec_recall_fMeasure = ()\n",
    "        try:\n",
    "            prec = metrics.precision(label)\n",
    "            recall = metrics.recall(label)\n",
    "            fMeasure = metrics.fMeasure(label, beta=1.0)\n",
    "            prec_recall_fMeasure = (fMeasure, prec, recall) \n",
    "            label_metrics[label] = prec_recall_fMeasure\n",
    "        except: \n",
    "            label_metrics[label] = (0,0,0)\n",
    "\n",
    "    # get tags in string form: \n",
    "    tags = results_df.select(['tag', 'tag_idx']).distinct().collect()\n",
    "    tag_pairs = {x['tag_idx']: x['tag'] for x in tags}\n",
    "\n",
    "    # Convert tag classes into strings \n",
    "    tag_metrics = {}\n",
    "    for tag_index in tag_pairs: \n",
    "        tag_metrics[tag_pairs[tag_index]] = label_metrics[tag_index]\n",
    "\n",
    "    # Top 10 tags\n",
    "    top_10_tags = sorted(tag_metrics, key=lambda x: tag_metrics[x][0], reverse=True)\n",
    "\n",
    "    # Get overall tag counts from input DF\n",
    "    tag_counts = train_df.select('tag').groupby('tag').count().sort(desc('count')).collect()\n",
    "    tag_counts = {x['tag']: x['count'] for x in tag_counts}\n",
    "\n",
    "    # Get ready for plotting\n",
    "    plot_dict = {}\n",
    "    tag_list = []\n",
    "    f1_list = []\n",
    "    precision_list = []\n",
    "    recall_list = []\n",
    "    tag_count_list = []\n",
    "\n",
    "    for tag in top_10_tags:\n",
    "        tag_list.append(tag)\n",
    "        f1_list.append(tag_metrics[tag][0])\n",
    "        precision_list.append(tag_metrics[tag][1])\n",
    "        recall_list.append(tag_metrics[tag][2])\n",
    "        tag_count_list.append(tag_counts[tag])\n",
    "\n",
    "    plot_df = pd.DataFrame({\"Tag\": tag_list, \"F1Measure\": f1_list, \"Precision\":precision_list, \"Recall\":recall_list, \"Count\":tag_count_list})\n",
    "    \n",
    "    return plot_df"
   ]
  },
  {
   "cell_type": "code",
   "execution_count": 23,
   "metadata": {},
   "outputs": [
    {
     "name": "stdout",
     "output_type": "stream",
     "text": [
      "                  Tag  F1Measure  Precision    Recall  Count\n",
      "0              arrays   0.470588   0.711864  0.351464    984\n",
      "1               mysql   0.443439   0.780876  0.309637   2113\n",
      "2                 css   0.443089   0.648810  0.336420   1618\n",
      "3               regex   0.431535   0.514851  0.371429   1008\n",
      "4      multithreading   0.419890   0.622951  0.316667    682\n",
      "..                ...        ...        ...       ...    ...\n",
      "495     google-chrome   0.000000   0.000000  0.000000    193\n",
      "496              hash   0.000000   0.000000  0.000000     73\n",
      "497  jquery-selectors   0.000000   0.000000  0.000000     67\n",
      "498            bitmap   0.000000   0.000000  0.000000     63\n",
      "499      memory-leaks   0.000000   0.000000  0.000000     61\n",
      "\n",
      "[500 rows x 5 columns]\n"
     ]
    }
   ],
   "source": [
    "plot_df = get_label_metrics(top_df)\n",
    "print(plot_df)"
   ]
  },
  {
   "cell_type": "code",
   "execution_count": 33,
   "metadata": {},
   "outputs": [
    {
     "data": {
      "text/html": [
       "<div>\n",
       "<style scoped>\n",
       "    .dataframe tbody tr th:only-of-type {\n",
       "        vertical-align: middle;\n",
       "    }\n",
       "\n",
       "    .dataframe tbody tr th {\n",
       "        vertical-align: top;\n",
       "    }\n",
       "\n",
       "    .dataframe thead th {\n",
       "        text-align: right;\n",
       "    }\n",
       "</style>\n",
       "<table border=\"1\" class=\"dataframe\">\n",
       "  <thead>\n",
       "    <tr style=\"text-align: right;\">\n",
       "      <th></th>\n",
       "      <th>Tag</th>\n",
       "      <th>F1Measure</th>\n",
       "      <th>Precision</th>\n",
       "      <th>Recall</th>\n",
       "      <th>Count</th>\n",
       "    </tr>\n",
       "  </thead>\n",
       "  <tbody>\n",
       "    <tr>\n",
       "      <th>0</th>\n",
       "      <td>arrays</td>\n",
       "      <td>0.470588</td>\n",
       "      <td>0.711864</td>\n",
       "      <td>0.351464</td>\n",
       "      <td>984</td>\n",
       "    </tr>\n",
       "    <tr>\n",
       "      <th>1</th>\n",
       "      <td>mysql</td>\n",
       "      <td>0.443439</td>\n",
       "      <td>0.780876</td>\n",
       "      <td>0.309637</td>\n",
       "      <td>2113</td>\n",
       "    </tr>\n",
       "    <tr>\n",
       "      <th>2</th>\n",
       "      <td>css</td>\n",
       "      <td>0.443089</td>\n",
       "      <td>0.648810</td>\n",
       "      <td>0.336420</td>\n",
       "      <td>1618</td>\n",
       "    </tr>\n",
       "    <tr>\n",
       "      <th>3</th>\n",
       "      <td>regex</td>\n",
       "      <td>0.431535</td>\n",
       "      <td>0.514851</td>\n",
       "      <td>0.371429</td>\n",
       "      <td>1008</td>\n",
       "    </tr>\n",
       "    <tr>\n",
       "      <th>4</th>\n",
       "      <td>multithreading</td>\n",
       "      <td>0.419890</td>\n",
       "      <td>0.622951</td>\n",
       "      <td>0.316667</td>\n",
       "      <td>682</td>\n",
       "    </tr>\n",
       "    <tr>\n",
       "      <th>5</th>\n",
       "      <td>linq</td>\n",
       "      <td>0.415842</td>\n",
       "      <td>0.600000</td>\n",
       "      <td>0.318182</td>\n",
       "      <td>409</td>\n",
       "    </tr>\n",
       "    <tr>\n",
       "      <th>6</th>\n",
       "      <td>templates</td>\n",
       "      <td>0.410256</td>\n",
       "      <td>0.432432</td>\n",
       "      <td>0.390244</td>\n",
       "      <td>273</td>\n",
       "    </tr>\n",
       "    <tr>\n",
       "      <th>7</th>\n",
       "      <td>xml</td>\n",
       "      <td>0.407609</td>\n",
       "      <td>0.681818</td>\n",
       "      <td>0.290698</td>\n",
       "      <td>983</td>\n",
       "    </tr>\n",
       "    <tr>\n",
       "      <th>8</th>\n",
       "      <td>eclipse</td>\n",
       "      <td>0.376344</td>\n",
       "      <td>0.479452</td>\n",
       "      <td>0.309735</td>\n",
       "      <td>589</td>\n",
       "    </tr>\n",
       "    <tr>\n",
       "      <th>9</th>\n",
       "      <td>jquery</td>\n",
       "      <td>0.374424</td>\n",
       "      <td>0.788835</td>\n",
       "      <td>0.245468</td>\n",
       "      <td>3429</td>\n",
       "    </tr>\n",
       "  </tbody>\n",
       "</table>\n",
       "</div>"
      ],
      "text/plain": [
       "              Tag  F1Measure  Precision    Recall  Count\n",
       "0          arrays   0.470588   0.711864  0.351464    984\n",
       "1           mysql   0.443439   0.780876  0.309637   2113\n",
       "2             css   0.443089   0.648810  0.336420   1618\n",
       "3           regex   0.431535   0.514851  0.371429   1008\n",
       "4  multithreading   0.419890   0.622951  0.316667    682\n",
       "5            linq   0.415842   0.600000  0.318182    409\n",
       "6       templates   0.410256   0.432432  0.390244    273\n",
       "7             xml   0.407609   0.681818  0.290698    983\n",
       "8         eclipse   0.376344   0.479452  0.309735    589\n",
       "9          jquery   0.374424   0.788835  0.245468   3429"
      ]
     },
     "execution_count": 33,
     "metadata": {},
     "output_type": "execute_result"
    }
   ],
   "source": [
    "plot_df[:10]"
   ]
  },
  {
   "cell_type": "code",
   "execution_count": 24,
   "metadata": {},
   "outputs": [
    {
     "name": "stdout",
     "output_type": "stream",
     "text": [
      "                        Tag  F1Measure  Precision  Recall  Count\n",
      "109     windows-server-2003        0.0        0.0     0.0     38\n",
      "148                workflow        0.0        0.0     0.0     38\n",
      "188                triggers        0.0        0.0     0.0     39\n",
      "170  multidimensional-array        0.0        0.0     0.0     39\n",
      "225                download        0.0        0.0     0.0     40\n",
      "255                     gps        0.0        0.0     0.0     41\n",
      "479                  router        0.0        0.0     0.0     41\n",
      "103               amazon-s3        0.0        0.0     0.0     42\n",
      "93               namespaces        0.0        0.0     0.0     42\n",
      "175                checkbox        0.0        0.0     0.0     43\n"
     ]
    }
   ],
   "source": [
    "bottom_10 = plot_df.sort_values(\"Count\").head(10)\n",
    "print(bottom_10)"
   ]
  },
  {
   "cell_type": "code",
   "execution_count": 25,
   "metadata": {},
   "outputs": [
    {
     "name": "stderr",
     "output_type": "stream",
     "text": [
      "/Users/kailunzhang/opt/anaconda3/lib/python3.7/site-packages/ipykernel_launcher.py:5: UserWarning: Matplotlib is currently using module://ipykernel.pylab.backend_inline, which is a non-GUI backend, so cannot show the figure.\n",
      "  \"\"\"\n"
     ]
    },
    {
     "data": {
      "image/png": "[encoded data removed]",
      "text/plain": [
       "<Figure size 1296x864 with 1 Axes>"
      ]
     },
     "metadata": {
      "needs_background": "light"
     },
     "output_type": "display_data"
    }
   ],
   "source": [
    "import matplotlib.pyplot as plt\n",
    "import seaborn as sns\n",
    "fig, ax = plt.subplots(nrows=1, ncols=1, figsize=[18,12])\n",
    "sns.barplot(x=\"Tag\", y=\"F1Measure\", data=plot_df[:10], ax=ax)\n",
    "fig.show()\n",
    "# TODO: Update file name \n",
    "plt.savefig(\"Tag2_existing_top10_f1\")"
   ]
  },
  {
   "cell_type": "code",
   "execution_count": 26,
   "metadata": {},
   "outputs": [
    {
     "name": "stderr",
     "output_type": "stream",
     "text": [
      "/Users/kailunzhang/opt/anaconda3/lib/python3.7/site-packages/ipykernel_launcher.py:5: UserWarning: Matplotlib is currently using module://ipykernel.pylab.backend_inline, which is a non-GUI backend, so cannot show the figure.\n",
      "  \"\"\"\n"
     ]
    },
    {
     "data": {
      "image/png": "[encoded data removed]",
      "text/plain": [
       "<Figure size 1296x864 with 1 Axes>"
      ]
     },
     "metadata": {
      "needs_background": "light"
     },
     "output_type": "display_data"
    }
   ],
   "source": [
    "import matplotlib.pyplot as plt\n",
    "import seaborn as sns\n",
    "fig, ax = plt.subplots(nrows=1, ncols=1, figsize=[18,12])\n",
    "sns.barplot(x=\"Tag\", y=\"F1Measure\", data=bottom_10, ax=ax)\n",
    "fig.show()\n",
    "plt.savefig(\"Tag2_existing_bottom10_f1\")"
   ]
  },
  {
   "cell_type": "code",
   "execution_count": 27,
   "metadata": {},
   "outputs": [
    {
     "name": "stderr",
     "output_type": "stream",
     "text": [
      "/Users/kailunzhang/opt/anaconda3/lib/python3.7/site-packages/ipykernel_launcher.py:5: UserWarning: Matplotlib is currently using module://ipykernel.pylab.backend_inline, which is a non-GUI backend, so cannot show the figure.\n",
      "  \"\"\"\n"
     ]
    },
    {
     "data": {
      "image/png": "[encoded data removed]",
      "text/plain": [
       "<Figure size 1296x864 with 1 Axes>"
      ]
     },
     "metadata": {
      "needs_background": "light"
     },
     "output_type": "display_data"
    }
   ],
   "source": [
    "import matplotlib.pyplot as plt\n",
    "import seaborn as sns\n",
    "fig, ax = plt.subplots(nrows=1, ncols=1, figsize=[18,12])\n",
    "sns.barplot(x=\"Tag\", y=\"Precision\", data=plot_df[:10], ax=ax)\n",
    "fig.show()\n",
    "plt.savefig(\"Tag2_existing_top10_prec\")"
   ]
  },
  {
   "cell_type": "code",
   "execution_count": 28,
   "metadata": {},
   "outputs": [
    {
     "name": "stderr",
     "output_type": "stream",
     "text": [
      "/Users/kailunzhang/opt/anaconda3/lib/python3.7/site-packages/ipykernel_launcher.py:5: UserWarning: Matplotlib is currently using module://ipykernel.pylab.backend_inline, which is a non-GUI backend, so cannot show the figure.\n",
      "  \"\"\"\n"
     ]
    },
    {
     "data": {
      "image/png": "[encoded data removed]",
      "text/plain": [
       "<Figure size 1296x864 with 1 Axes>"
      ]
     },
     "metadata": {
      "needs_background": "light"
     },
     "output_type": "display_data"
    }
   ],
   "source": [
    "import matplotlib.pyplot as plt\n",
    "import seaborn as sns\n",
    "fig, ax = plt.subplots(nrows=1, ncols=1, figsize=[18,12])\n",
    "sns.barplot(x=\"Tag\", y=\"Recall\", data=plot_df[:10], ax=ax)\n",
    "fig.show()\n",
    "plt.savefig(\"Tag2_existing_top10_recall\")"
   ]
  },
  {
   "cell_type": "code",
   "execution_count": 29,
   "metadata": {},
   "outputs": [
    {
     "name": "stderr",
     "output_type": "stream",
     "text": [
      "/Users/kailunzhang/opt/anaconda3/lib/python3.7/site-packages/ipykernel_launcher.py:5: UserWarning: Matplotlib is currently using module://ipykernel.pylab.backend_inline, which is a non-GUI backend, so cannot show the figure.\n",
      "  \"\"\"\n"
     ]
    },
    {
     "data": {
      "image/png": "[encoded data removed]",
      "text/plain": [
       "<Figure size 1296x864 with 1 Axes>"
      ]
     },
     "metadata": {
      "needs_background": "light"
     },
     "output_type": "display_data"
    }
   ],
   "source": [
    "import matplotlib.pyplot as plt\n",
    "import seaborn as sns\n",
    "fig, ax = plt.subplots(nrows=1, ncols=1, figsize=[18,12])\n",
    "sns.barplot(x=\"Tag\", y=\"Count\", data=plot_df[:10], ax=ax)\n",
    "fig.show()\n",
    "plt.savefig(\"Tag2_existing_top10_count\")"
   ]
  },
  {
   "cell_type": "code",
   "execution_count": 30,
   "metadata": {},
   "outputs": [
    {
     "name": "stderr",
     "output_type": "stream",
     "text": [
      "/Users/kailunzhang/opt/anaconda3/lib/python3.7/site-packages/ipykernel_launcher.py:5: UserWarning: Matplotlib is currently using module://ipykernel.pylab.backend_inline, which is a non-GUI backend, so cannot show the figure.\n",
      "  \"\"\"\n"
     ]
    },
    {
     "data": {
      "image/png": "[encoded data removed]",
      "text/plain": [
       "<Figure size 1296x864 with 1 Axes>"
      ]
     },
     "metadata": {
      "needs_background": "light"
     },
     "output_type": "display_data"
    }
   ],
   "source": [
    "import matplotlib.pyplot as plt\n",
    "import seaborn as sns\n",
    "fig, ax = plt.subplots(nrows=1, ncols=1, figsize=[18,12])\n",
    "sns.barplot(x=\"Tag\", y=\"Count\", data=bottom_10, ax=ax)\n",
    "fig.show()\n",
    "plt.savefig(\"Tag2_existing_bottom10_count\")"
   ]
  },
  {
   "cell_type": "code",
   "execution_count": 31,
   "metadata": {},
   "outputs": [
    {
     "name": "stderr",
     "output_type": "stream",
     "text": [
      "/Users/kailunzhang/opt/anaconda3/lib/python3.7/site-packages/ipykernel_launcher.py:7: UserWarning: Matplotlib is currently using module://ipykernel.pylab.backend_inline, which is a non-GUI backend, so cannot show the figure.\n",
      "  import sys\n"
     ]
    },
    {
     "data": {
      "image/png": "[encoded data removed]",
      "text/plain": [
       "<Figure size 1296x864 with 1 Axes>"
      ]
     },
     "metadata": {
      "needs_background": "light"
     },
     "output_type": "display_data"
    }
   ],
   "source": [
    "# Counts vs F1\n",
    "\n",
    "import matplotlib.pyplot as plt\n",
    "import seaborn as sns\n",
    "fig, ax = plt.subplots(nrows=1, ncols=1, figsize=[18,12])\n",
    "sns.scatterplot(x=\"Count\", y=\"F1Measure\", data=plot_df, ax=ax)\n",
    "fig.show()\n",
    "plt.savefig(\"Tag 2 F1Measure vs Count\")"
   ]
  },
  {
   "cell_type": "code",
   "execution_count": null,
   "metadata": {},
   "outputs": [],
   "source": []
  }
 ],
 "metadata": {
  "application/vnd.databricks.v1+notebook": {
   "dashboards": [],
   "language": "python",
   "notebookName": "Machine Learning Training and Predictions",
   "notebookOrigID": 3436719999264986,
   "widgets": {}
  },
  "kernelspec": {
   "display_name": "Python 3",
   "language": "python",
   "name": "python3"
  },
  "language_info": {
   "codemirror_mode": {
    "name": "ipython",
    "version": 3
   },
   "file_extension": ".py",
   "mimetype": "text/x-python",
   "name": "python",
   "nbconvert_exporter": "python",
   "pygments_lexer": "ipython3",
   "version": "3.7.6"
  }
 },
 "nbformat": 4,
 "nbformat_minor": 1
}
