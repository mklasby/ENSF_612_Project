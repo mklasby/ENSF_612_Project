{
 "cells": [
  {
   "cell_type": "markdown",
   "metadata": {
    "application/vnd.databricks.v1+cell": {
     "inputWidgets": {},
     "nuid": "94bcd22c-af1c-4217-8d42-b3e7834f4512",
     "showTitle": false,
     "title": ""
    }
   },
   "source": [
    "# Model training and predictions \n",
    "### Read from file and data cleaning"
   ]
  },
  {
   "cell_type": "code",
   "execution_count": 1,
   "metadata": {},
   "outputs": [],
   "source": [
    "from pyspark.sql import SparkSession\n",
    "spark  = SparkSession.builder.appName('App').config(\"spark.driver.memory\", \"14g\").getOrCreate()"
   ]
  },
  {
   "cell_type": "code",
   "execution_count": 2,
   "metadata": {},
   "outputs": [
    {
     "name": "stdout",
     "output_type": "stream",
     "text": [
      "[('spark.rdd.compress', 'True'), ('spark.app.name', 'App'), ('spark.serializer.objectStreamReset', '100'), ('spark.driver.port', '54071'), ('spark.master', 'local[*]'), ('spark.submit.pyFiles', ''), ('spark.executor.id', 'driver'), ('spark.submit.deployMode', 'client'), ('spark.app.id', 'local-1607815439594'), ('spark.driver.memory', '14g'), ('spark.driver.host', 'kailundembp.hitronhub.home'), ('spark.ui.showConsoleProgress', 'true')]\n"
     ]
    }
   ],
   "source": [
    "print(spark.sparkContext._conf.getAll())"
   ]
  },
  {
   "cell_type": "code",
   "execution_count": 3,
   "metadata": {},
   "outputs": [
    {
     "data": {
      "text/plain": [
       "' NOTE: If prepared data exists, load it here: \\n'"
      ]
     },
     "execution_count": 3,
     "metadata": {},
     "output_type": "execute_result"
    }
   ],
   "source": [
    "\"\"\" NOTE: If prepared data exists, load it here: \n",
    "\"\"\"\n",
    "\n",
    "# test_df = spark.read.parquet(\"test_df\")\n",
    "# test_df = test_df.repartition(16)\n",
    "# train_df = spark.read.parquet(\"train_df\")\n",
    "# train_df = train_df.repartition(16)"
   ]
  },
  {
   "cell_type": "code",
   "execution_count": 4,
   "metadata": {
    "application/vnd.databricks.v1+cell": {
     "inputWidgets": {},
     "nuid": "065feedb-a74d-4330-adc9-cc9ad5f84691",
     "showTitle": false,
     "title": ""
    }
   },
   "outputs": [],
   "source": [
    "# File location and type\n",
    "file_location = \"sample_train2 (1).csv\"\n",
    "\n",
    "# CSV options\n",
    "infer_schema = \"true\"\n",
    "first_row_is_header = \"true\"\n",
    "delimiter = \",\"\n",
    "multiline = \"true\"\n",
    "escape = \"\\\"\"\n",
    "\n",
    "# The applied options are for CSV files. For other file types, these will be ignored.\n",
    "df = spark.read.csv(file_location,\n",
    "                  inferSchema = infer_schema, \n",
    "                  sep = delimiter, \n",
    "                  header = first_row_is_header, \n",
    "                  multiLine = multiline, \n",
    "                  escape = escape)\n",
    "df = df.repartition(16)"
   ]
  },
  {
   "cell_type": "code",
   "execution_count": 5,
   "metadata": {},
   "outputs": [
    {
     "name": "stdout",
     "output_type": "stream",
     "text": [
      "+-----+--------------------+--------------------+-------------------+\n",
      "|  _c0|                Body|               Title|                tag|\n",
      "+-----+--------------------+--------------------+-------------------+\n",
      "|53817|<p>I can use Serv...|How can I update ...|             apache|\n",
      "| 3423|<p>I have a GridV...|How to change in ...|           gridview|\n",
      "|43911|<p>I'm struggling...|UIPickerView sele...|          core-data|\n",
      "|52872|<p>Is there a way...|How can I find ou...|wireless-networking|\n",
      "|12734|<p><a href=\"http:...|How to Removing f...|          functions|\n",
      "|53749|<p>I need to supp...|Mod Auth CAS Two ...|     authentication|\n",
      "|76673|<p>Disclaimer: I'...|Reload Current Pa...|         javascript|\n",
      "|77443|<p>At the request...|HP iLO Wildcard S...|                ssl|\n",
      "|  137|<p>Suppose I have...|Can I return the ...|             lucene|\n",
      "|60665|<p>I need to get ...|JQPlot Basic Char...|             jquery|\n",
      "|52822|<p>can someone co...|Please confirm ch...|           .net-4.0|\n",
      "| 8792|<p>I have an exte...|Extension methods...|             vb.net|\n",
      "|78852|<p>I am currently...|How to clone a Gi...|                git|\n",
      "|67845|<p>I indeed to us...|C wait3() int* st...|              linux|\n",
      "|41065|<p>When using an ...|What is going on ...|      visual-studio|\n",
      "|80648|<p>Small question...|Substring output ...|             string|\n",
      "|79148|<p>So I have a cs...|Best way to impor...|             sqlite|\n",
      "|32488|<p>I'm using RIA ...|How to limit the ...| entity-framework-4|\n",
      "|23484|<p>I developed ma...|how to close open...|               html|\n",
      "| 9892|<p>I have a funct...|Will an optional ...|               ruby|\n",
      "+-----+--------------------+--------------------+-------------------+\n",
      "only showing top 20 rows\n",
      "\n"
     ]
    }
   ],
   "source": [
    "df.show()"
   ]
  },
  {
   "cell_type": "markdown",
   "metadata": {
    "application/vnd.databricks.v1+cell": {
     "inputWidgets": {},
     "nuid": "e54dae11-6071-4213-b321-82dceaf39d26",
     "showTitle": false,
     "title": ""
    }
   },
   "source": [
    "### Indexing tags in both test and train data sets"
   ]
  },
  {
   "cell_type": "code",
   "execution_count": 6,
   "metadata": {
    "application/vnd.databricks.v1+cell": {
     "inputWidgets": {},
     "nuid": "e5db86d3-2799-44dd-8d9e-561f2ca04ce9",
     "showTitle": false,
     "title": ""
    }
   },
   "outputs": [],
   "source": [
    "from pyspark.ml.feature import StringIndexer\n",
    "\n",
    "#Encode tag's using String indexer\n",
    "\n",
    "tag_idx = StringIndexer(inputCol='tag', outputCol = 'tag_idx')\n",
    "tag_encode = tag_idx.fit(df)\n",
    "df = tag_encode.transform(df)"
   ]
  },
  {
   "cell_type": "code",
   "execution_count": 7,
   "metadata": {
    "application/vnd.databricks.v1+cell": {
     "inputWidgets": {},
     "nuid": "289fe291-d258-4f3e-bedd-9df37a585581",
     "showTitle": false,
     "title": ""
    }
   },
   "outputs": [
    {
     "data": {
      "text/plain": [
       "100118"
      ]
     },
     "execution_count": 7,
     "metadata": {},
     "output_type": "execute_result"
    }
   ],
   "source": [
    "df.count()"
   ]
  },
  {
   "cell_type": "markdown",
   "metadata": {
    "application/vnd.databricks.v1+cell": {
     "inputWidgets": {},
     "nuid": "b3048eeb-1785-4ae8-a074-cb7005a17ce8",
     "showTitle": false,
     "title": ""
    }
   },
   "source": [
    "### Split test/train sets"
   ]
  },
  {
   "cell_type": "code",
   "execution_count": 8,
   "metadata": {
    "application/vnd.databricks.v1+cell": {
     "inputWidgets": {},
     "nuid": "8169090a-d13a-4424-ab48-9d2c4c441fcd",
     "showTitle": false,
     "title": ""
    }
   },
   "outputs": [],
   "source": [
    "TRAINING_DATA_RATIO = 0.9\n",
    "RANDOM_SEED = 1234\n",
    "\n",
    "splits = [TRAINING_DATA_RATIO, 1.0 - TRAINING_DATA_RATIO]\n",
    "training_data, test_data = df.randomSplit(splits, RANDOM_SEED)"
   ]
  },
  {
   "cell_type": "code",
   "execution_count": 9,
   "metadata": {
    "application/vnd.databricks.v1+cell": {
     "inputWidgets": {},
     "nuid": "bd817135-9e82-41b1-9b31-eb29175e2b33",
     "showTitle": false,
     "title": ""
    }
   },
   "outputs": [
    {
     "name": "stdout",
     "output_type": "stream",
     "text": [
      "Number of training set rows: 90163\n",
      "Number of test set rows: 9955\n"
     ]
    }
   ],
   "source": [
    "print(\"Number of training set rows: %d\" % training_data.count())\n",
    "print(\"Number of test set rows: %d\" % test_data.count())"
   ]
  },
  {
   "cell_type": "markdown",
   "metadata": {
    "application/vnd.databricks.v1+cell": {
     "inputWidgets": {},
     "nuid": "a04fd838-ed54-4370-a033-eee96911d62c",
     "showTitle": false,
     "title": ""
    }
   },
   "source": [
    "# Preprocessing "
   ]
  },
  {
   "cell_type": "code",
   "execution_count": 10,
   "metadata": {},
   "outputs": [
    {
     "name": "stderr",
     "output_type": "stream",
     "text": [
      "[nltk_data] Downloading package punkt to\n",
      "[nltk_data]     /Users/kailunzhang/nltk_data...\n",
      "[nltk_data]   Package punkt is already up-to-date!\n",
      "[nltk_data] Downloading package stopwords to\n",
      "[nltk_data]     /Users/kailunzhang/nltk_data...\n",
      "[nltk_data]   Package stopwords is already up-to-date!\n"
     ]
    }
   ],
   "source": [
    "from bs4 import BeautifulSoup\n",
    "import nltk\n",
    "nltk.download('punkt')\n",
    "nltk.download('stopwords')\n",
    "from nltk.corpus import stopwords\n",
    "stop_en = stopwords.words('english')\n",
    "from nltk.tokenize import sent_tokenize\n",
    "from nltk.tokenize import word_tokenize\n",
    "from nltk.stem import PorterStemmer\n",
    "from nltk.tokenize import RegexpTokenizer\n",
    "from pyspark.sql.functions import *\n",
    "from pyspark.sql.types import *\n",
    "from pyspark.ml.feature import RegexTokenizer\n",
    "\n",
    "\"\"\" Helper functions for preprocessing. TODO: Consider wrapping into class below?\n",
    "\"\"\"\n",
    "\n",
    "@udf(\"String\")\n",
    "def lazy_prep_udf(c):\n",
    "  \"\"\"\n",
    "  Clean noises from the string of text in given column\n",
    "\n",
    "  Args:\n",
    "    c - Column containing string of text\n",
    "\n",
    "  Returns:\n",
    "    Column with the cleaned string of text\n",
    "  \"\"\"\n",
    "  df = BeautifulSoup(c)\n",
    "  \n",
    "  #noise\n",
    "  urls = df.find_all('a')\n",
    "  if urls != None:\n",
    "    if len(urls)>0: \n",
    "      df.a.clear()\n",
    "  \n",
    "  return df.get_text().lower()\n",
    "\n",
    "def tokenize(df, inputCol, outputCol):\n",
    "  \"\"\"\n",
    "Split string of text in dataframe to word tokens.\n",
    "\n",
    "Args:\n",
    "  @param df Dataframe containing string of text\n",
    "  @param inputCol name of input column containin the string of texts\n",
    "  @param outputCol name of output column containin the word tokens\n",
    "  \n",
    "Returns:\n",
    "  Dataframe containing the output column and the input column is dropped\n",
    "\"\"\"\n",
    "  tokenizer = RegexTokenizer(inputCol = inputCol, outputCol = outputCol, pattern=r\"\\s+\") \n",
    "  df = tokenizer.transform(df).drop(inputCol)\n",
    "  return df\n",
    "\n",
    "def remove_punc(text):\n",
    "  \"\"\"Removes all punctuation marks from text.\n",
    "  Args: \n",
    "    text (String): text column to convert \n",
    "  Returns:\n",
    "    String.sql.Row: text w.o punctuation \n",
    "  \"\"\"\n",
    "  mod_punc = '!\"$%&\\'()*,-./:;<=>?@[\\\\]^_`{|}~'\n",
    "  text = text.translate(str.maketrans(' ', ' ', mod_punc))\n",
    "  return text.strip()\n",
    "\n",
    "\n",
    "def remove_num(text):\n",
    "  \"\"\"Removes all numbers from text.\n",
    "  Args: \n",
    "    text (String): text column to convert \n",
    "  Returns:\n",
    "    String: text w.o numbers \n",
    "  \"\"\"\n",
    "  numbers=\"0123456789\"\n",
    "  text = text.translate(str.maketrans(' ', ' ', numbers))\n",
    "  return text.strip()\n",
    "\n",
    "\n",
    "  from nltk.tokenize import RegexpTokenizer \n",
    "\n",
    "@udf(\"String\")\n",
    "def trad_prep_udf(body):\n",
    "  \"\"\"Traditional body text preprocessing pieline. \n",
    "  Args: \n",
    "    text (pyspark.sql.Row): Text String to process\n",
    "  Returns: \n",
    "    pyspark.sql.Row.ArrayType: cleaned tokens \n",
    "  \"\"\"\n",
    "  body = BeautifulSoup(body)\n",
    "  stemmer = PorterStemmer()\n",
    "  \n",
    "  #noise\n",
    "  urls = body.find_all('a')\n",
    "  if len(urls)>0: \n",
    "    body.a.clear()\n",
    "  \n",
    "  text = body.get_text()\n",
    "  \n",
    "  words = []\n",
    "  text = text.lower()\n",
    "\n",
    "  tokenizer = RegexpTokenizer(r'\\w+')\n",
    "  # text = remove_punc(text)\n",
    "  # text = remove_num(text)\n",
    "  sents=tokenizer.tokenize(text)\n",
    "  for sent in sents: \n",
    "    for word in nltk.word_tokenize(sent):\n",
    "      if word in stop_en: continue\n",
    "      # if len(word) < 3: continue\n",
    "      words.append(stemmer.stem(word))\n",
    "  return \" \".join(words)\n",
    "\n",
    "\n",
    "  \"\"\"\n",
    "Combine word tokens from title and body.\n",
    "\n",
    "Args:\n",
    "  df1 Dataframe containing Column with lists of stemmed word tokens from title\n",
    "  inputCol1 name of the column containing lists of stemmed word tokens from title, cannot be same as inputCol2\n",
    "  df2 Dataframe containing Column with lists of stemmed word tokens from body\n",
    "  inputCol2 name of the column containing lists of stemmed word tokens from body, cannot be same as inputCol2\n",
    "  outputCol column name of the ouput column containing the combined list of word tokens from title and body\n",
    "\"\"\"\n",
    "def combine_tokens(df, inputCol1, inputCol2, outputCol):\n",
    "  result = df.withColumn(outputCol, concat(col(inputCol1), col(inputCol2)))\n",
    "  return result"
   ]
  },
  {
   "cell_type": "code",
   "execution_count": 11,
   "metadata": {
    "application/vnd.databricks.v1+cell": {
     "inputWidgets": {},
     "nuid": "0a396fbd-bd45-42c9-9e63-4625969c443d",
     "showTitle": false,
     "title": ""
    }
   },
   "outputs": [],
   "source": [
    "class Preprocessing:\n",
    "  \"\"\"Preprocessing stackoverflow question by remove html tags and tokenize words\"\"\"\n",
    "  \n",
    "  def __init__(self, df, titleCol, bodyCol):\n",
    "    \"\"\"\n",
    "    Construct a Proprocessing object with attribute df: df cleans the text string in the given df using either lazy or traditional preprocessing\n",
    "    \"\"\"\n",
    "    df = df.withColumn(\"Lazy_Title\", lazy_prep_udf( df[titleCol] ) )\n",
    "    df = df.withColumn(\"Lazy_Body\", lazy_prep_udf( df[bodyCol] ) )\n",
    "    df = df.withColumn(\"Trad_Title\", trad_prep_udf( df[titleCol] ) )\n",
    "    self.df = df.withColumn(\"Trad_Body\", trad_prep_udf( df[bodyCol] ) )\n",
    "\n",
    "  def get_token(self):\n",
    "    self.df = tokenize(self.df, \"Lazy_Title\", 'Lazy_Title_Tokens')\n",
    "    self.df = tokenize(self.df, \"Lazy_Body\", 'Lazy_Body_Tokens')\n",
    "    self.df = tokenize(self.df, \"Trad_Title\", 'Trad_Title_Tokens')\n",
    "    self.df = tokenize(self.df, \"Trad_Body\", 'Trad_Body_Tokens')\n",
    "    return self.df"
   ]
  },
  {
   "cell_type": "code",
   "execution_count": 12,
   "metadata": {},
   "outputs": [],
   "source": [
    "#Pre-processing the data\n",
    "preProcessing = Preprocessing(df, \"Title\", \"Body\")\n",
    "df_data = preProcessing.get_token()"
   ]
  },
  {
   "cell_type": "code",
   "execution_count": 13,
   "metadata": {},
   "outputs": [
    {
     "name": "stdout",
     "output_type": "stream",
     "text": [
      "+-----------+-----+\n",
      "|        tag|count|\n",
      "+-----------+-----+\n",
      "|     jquery| 3841|\n",
      "|       .net| 2617|\n",
      "|      mysql| 2364|\n",
      "|    asp.net| 2021|\n",
      "|       html| 1964|\n",
      "|        css| 1786|\n",
      "|objective-c| 1756|\n",
      "|        ios| 1683|\n",
      "|    android| 1478|\n",
      "| javascript| 1196|\n",
      "|      regex| 1109|\n",
      "|     arrays| 1102|\n",
      "|        xml| 1093|\n",
      "|        sql| 1014|\n",
      "|       ruby|  954|\n",
      "| sql-server|  912|\n",
      "|       ajax|  800|\n",
      "|        wpf|  772|\n",
      "|   database|  769|\n",
      "|    windows|  765|\n",
      "+-----------+-----+\n",
      "only showing top 20 rows\n",
      "\n"
     ]
    }
   ],
   "source": [
    "from pyspark.sql.functions import desc, col\n",
    "\n",
    "tag_counts = df.select('tag').groupby('tag').count().sort(desc('count'))\n",
    "tag_counts.sort(col('count').desc()).show()"
   ]
  },
  {
   "cell_type": "code",
   "execution_count": 14,
   "metadata": {},
   "outputs": [],
   "source": [
    "body_counts = df_data.select('Trad_Body_Tokens').rdd.flatMap(lambda l : [(w,1) for w in l.Trad_Body_Tokens]).reduceByKey(lambda a,b: a+b).collect()\n",
    "body_counts.sort(key=lambda tup: -tup[1])"
   ]
  },
  {
   "cell_type": "code",
   "execution_count": 15,
   "metadata": {},
   "outputs": [
    {
     "data": {
      "text/plain": [
       "[('0', 102730),\n",
       " ('use', 95802),\n",
       " ('1', 95336),\n",
       " ('new', 57867),\n",
       " ('class', 56422),\n",
       " ('get', 56200),\n",
       " ('file', 54214),\n",
       " ('id', 53403),\n",
       " ('2', 51670),\n",
       " ('name', 51301)]"
      ]
     },
     "metadata": {},
     "output_type": "display_data"
    }
   ],
   "source": [
    "display(body_counts[:10])"
   ]
  },
  {
   "cell_type": "code",
   "execution_count": 16,
   "metadata": {},
   "outputs": [],
   "source": [
    "title_counts = df_data.select('Trad_Title_Tokens').rdd.flatMap(lambda l : [(w,1) for w in l.Trad_Title_Tokens]).reduceByKey(lambda a,b: a+b).collect()\n",
    "title_counts.sort(key=lambda tup: -tup[1])"
   ]
  },
  {
   "cell_type": "code",
   "execution_count": 17,
   "metadata": {},
   "outputs": [
    {
     "data": {
      "text/plain": [
       "[('use', 10112),\n",
       " ('file', 5646),\n",
       " ('c', 5221),\n",
       " ('get', 4457),\n",
       " ('jqueri', 4223),\n",
       " ('php', 4106),\n",
       " ('net', 3420),\n",
       " ('data', 3370),\n",
       " ('error', 3265),\n",
       " ('valu', 3223)]"
      ]
     },
     "metadata": {},
     "output_type": "display_data"
    }
   ],
   "source": [
    "display(title_counts[:10])"
   ]
  },
  {
   "cell_type": "code",
   "execution_count": null,
   "metadata": {},
   "outputs": [],
   "source": []
  },
  {
   "cell_type": "code",
   "execution_count": 18,
   "metadata": {
    "application/vnd.databricks.v1+cell": {
     "inputWidgets": {},
     "nuid": "7578aed6-f212-4f34-a64b-e7932436a2c3",
     "showTitle": false,
     "title": ""
    }
   },
   "outputs": [],
   "source": [
    "#Pre-processing the data\n",
    "preProcessing = Preprocessing(test_data, \"Title\", \"Body\")\n",
    "test_data = preProcessing.get_token()\n",
    "preProcessing = Preprocessing(training_data, \"Title\", \"Body\")\n",
    "training_data = preProcessing.get_token()\n"
   ]
  },
  {
   "cell_type": "markdown",
   "metadata": {
    "application/vnd.databricks.v1+cell": {
     "inputWidgets": {},
     "nuid": "4625edde-dab5-4a10-8f95-288b6987da53",
     "showTitle": false,
     "title": ""
    }
   },
   "source": [
    "# Machine Learning Data Preparation"
   ]
  },
  {
   "cell_type": "markdown",
   "metadata": {
    "application/vnd.databricks.v1+cell": {
     "inputWidgets": {},
     "nuid": "395ce8e9-2359-4434-aa05-4b6ea45716b5",
     "showTitle": false,
     "title": ""
    }
   },
   "source": [
    "### Feature Engineering"
   ]
  },
  {
   "cell_type": "code",
   "execution_count": 19,
   "metadata": {},
   "outputs": [],
   "source": [
    "from pyspark.ml.feature import CountVectorizer, IDF, NGram, VectorAssembler, StringIndexer, HashingTF\n",
    "from pyspark.ml import Pipeline\n",
    "def feature_engineer():\n",
    "# FOR LAZY PRE-PROCESSING\n",
    "  lazy_body_vector = CountVectorizer(inputCol = 'Lazy_Body_Tokens', outputCol = 'lazy_body_vector', minDF=0.01 , maxDF=0.85)\n",
    "  lazy_title_vector = CountVectorizer(inputCol = 'Lazy_Title_Tokens', outputCol = 'lazy_title_vector', minDF=0.01 , maxDF=0.85)\n",
    "  # FOR TRAD PRE-PROCESSING\n",
    "  trad_body_vector = CountVectorizer(inputCol = 'Trad_Body_Tokens', outputCol = 'trad_body_vector', minDF=0.01 , maxDF=0.99)\n",
    "  trad_title_vector = CountVectorizer(inputCol = 'Trad_Title_Tokens', outputCol = 'trad_title_vector', minDF=0.01 , maxDF=0.99)\n",
    "\n",
    "  lazy_features = VectorAssembler(inputCols=['lazy_body_vector', 'lazy_title_vector'], outputCol='lazy_features')\n",
    "  trad_features = VectorAssembler(inputCols=['trad_body_vector', 'trad_title_vector'], outputCol='trad_features')\n",
    "  pipe = Pipeline(stages=[lazy_body_vector, lazy_title_vector, lazy_features, trad_body_vector, trad_title_vector, trad_features])\n",
    "  pipe_model = pipe.fit(training_data)\n",
    "  train_df = pipe_model.transform(training_data)  \n",
    "  test_df = pipe_model.transform(test_data)\n",
    "  return train_df, test_df"
   ]
  },
  {
   "cell_type": "code",
   "execution_count": 20,
   "metadata": {
    "application/vnd.databricks.v1+cell": {
     "inputWidgets": {},
     "nuid": "ab8d93cb-96cf-4acc-b3f2-df9b062f9d3c",
     "showTitle": false,
     "title": ""
    }
   },
   "outputs": [],
   "source": [
    "train_df, test_df = feature_engineer()"
   ]
  },
  {
   "cell_type": "code",
   "execution_count": 21,
   "metadata": {},
   "outputs": [
    {
     "name": "stdout",
     "output_type": "stream",
     "text": [
      "+--------------------+--------------------+--------------------+\n",
      "|    Trad_Body_Tokens|       trad_features|                Body|\n",
      "+--------------------+--------------------+--------------------+\n",
      "|[pleas, help, for...|(1004,[7,8,22,32,...|<p>Please help me...|\n",
      "|[fairli, new, ope...|(1004,[1,3,13,15,...|<p>I'm fairly new...|\n",
      "|[visual, studio, ...|(1004,[0,1,2,3,4,...|<p>My Visual Stud...|\n",
      "|[test, bandwidth,...|(1004,[13,17,36,6...|<p>To test bandwi...|\n",
      "|[tri, debug, ie, ...|(1004,[6,15,21,45...|<p>I'm trying to ...|\n",
      "|[wrote, page, cal...|(1004,[3,5,10,14,...|<p>I wrote a page...|\n",
      "|[switch, tf, svn,...|(1004,[1,3,6,34,3...|<p>We just switch...|\n",
      "|[print, 2, argume...|(1004,[2,9,14,16,...|<p>I can print mo...|\n",
      "|[site, need, acce...|(1004,[1,13,21,30...|<p>The site needs...|\n",
      "|[face, problem, s...|(1004,[1,14,26,34...|<p>I am facing a ...|\n",
      "|[could, join, mul...|(1004,[0,44,47,74...|<p>How could i jo...|\n",
      "|[want, use, ssi, ...|(1004,[1,5,17,21,...|<p>I want to use ...|\n",
      "|[iphon, app, need...|(1004,[1,5,12,13,...|<p>In my iPhone a...|\n",
      "|[work, small, ins...|(1004,[9,13,14,21...|<p>I work for a s...|\n",
      "|[pleas, find, cod...|(1004,[0,1,2,3,6,...|<p>Please find th...|\n",
      "|[opengl, es, scen...|(1004,[0,1,2,9,10...|<p>I have an Open...|\n",
      "|[int, 0, helper, ...|(1004,[0,8,24,25,...|<pre><code>@{\n",
      "   ...|\n",
      "|[memori, alloc, p...|(1004,[1,3,5,21,3...|<p>How memory is ...|\n",
      "|[question, basic,...|(1004,[0,1,2,4,5,...|<p>My question is...|\n",
      "|[process, write, ...|(1004,[5,21,32,43...|<p>I'm in the pro...|\n",
      "+--------------------+--------------------+--------------------+\n",
      "only showing top 20 rows\n",
      "\n"
     ]
    }
   ],
   "source": [
    "test_df.select(\"Trad_Body_Tokens\", \"trad_features\", 'Body').show()"
   ]
  },
  {
   "cell_type": "markdown",
   "metadata": {
    "application/vnd.databricks.v1+cell": {
     "inputWidgets": {},
     "nuid": "53a18ae5-d3d3-42ec-a232-ecaa76765e5a",
     "showTitle": false,
     "title": ""
    }
   },
   "source": [
    "# Model Training"
   ]
  },
  {
   "cell_type": "markdown",
   "metadata": {},
   "source": [
    "## Metrics helper"
   ]
  },
  {
   "cell_type": "code",
   "execution_count": 22,
   "metadata": {},
   "outputs": [],
   "source": [
    "from pyspark.mllib.evaluation import MulticlassMetrics\n",
    "\n",
    "\n",
    "def print_metrics(results_df, by_tag = False, ground_truth_col='tag_idx', prediction_col='prediction'):\n",
    "    labels_and_predictions = results_df.select([ground_truth_col, prediction_col])\n",
    "    # Instantiate metrics object\n",
    "    metrics = MulticlassMetrics(labels_and_predictions.rdd)\n",
    "    # Overall statistics\n",
    "    precision = metrics.precision(1.0)\n",
    "    recall = metrics.recall(1.0)\n",
    "    f1Score = metrics.fMeasure(1.0)\n",
    "    print(\"Summary Stats\")\n",
    "    print(\"Precision = %s\" % precision)\n",
    "    print(\"Recall = %s\" % recall)\n",
    "    print(\"F1 Score = %s\" % f1Score)\n",
    "    # Weighted stats\n",
    "    print(\"Weighted recall = %s\" % metrics.weightedRecall)\n",
    "    print(\"Weighted precision = %s\" % metrics.weightedPrecision)\n",
    "    print(\"Weighted F(1) Score = %s\" % metrics.weightedFMeasure())\n",
    "    print(\"Weighted F(0.5) Score = %s\" % metrics.weightedFMeasure(beta=0.5))\n",
    "    print(\"Weighted false positive rate = %s\" % metrics.weightedFalsePositiveRate)\n",
    "\n",
    "    if by_tag: \n",
    "        # Statistics by class\n",
    "        labels = df.rdd.map(lambda lp: lp.tag_idx).distinct().collect()\n",
    "        # print(labels)\n",
    "        for label in sorted(labels):\n",
    "            try:\n",
    "                print(\"Class %s precision = %s\" % (label, metrics.precision(label)))\n",
    "                print(\"Class %s recall = %s\" % (label, metrics.recall(label)))\n",
    "                print(\"Class %s F1 Measure = %s\" % (label, metrics.fMeasure(label, beta=1.0)))\n",
    "            except: \n",
    "                print(\"Class %s not in this set!\" % (label))"
   ]
  },
  {
   "cell_type": "markdown",
   "metadata": {
    "application/vnd.databricks.v1+cell": {
     "inputWidgets": {},
     "nuid": "b6263fc0-8c15-432e-8e0d-469888daba62",
     "showTitle": false,
     "title": ""
    }
   },
   "source": [
    "## Logistic Regression"
   ]
  },
  {
   "cell_type": "markdown",
   "metadata": {
    "application/vnd.databricks.v1+cell": {
     "inputWidgets": {},
     "nuid": "1de3f3b4-9709-4d78-a507-7c16a5205b28",
     "showTitle": false,
     "title": ""
    }
   },
   "source": [
    "**Hyperparameter Tuning**"
   ]
  },
  {
   "cell_type": "markdown",
   "metadata": {
    "application/vnd.databricks.v1+cell": {
     "inputWidgets": {},
     "nuid": "941b6e25-aca0-4396-ac3f-259858856f87",
     "showTitle": false,
     "title": ""
    }
   },
   "source": [
    "**Model training and transformation of test set**"
   ]
  },
  {
   "cell_type": "code",
   "execution_count": 24,
   "metadata": {
    "application/vnd.databricks.v1+cell": {
     "inputWidgets": {},
     "nuid": "eb12f781-fefa-4701-9e98-1d356a5d04c2",
     "showTitle": false,
     "title": ""
    }
   },
   "outputs": [],
   "source": [
    "from pyspark.ml.classification import LogisticRegression\n",
    "# Trad model\n",
    "lr_trad = LogisticRegression(featuresCol = \"trad_features\", labelCol = \"tag_idx\", fitIntercept=True, elasticNetParam=0.0, regParam=0.0)\n",
    "lr_trad_model = lr_trad.fit(train_df)\n",
    "lr_trad_results = lr_trad_model.transform(test_df)"
   ]
  },
  {
   "cell_type": "markdown",
   "metadata": {
    "application/vnd.databricks.v1+cell": {
     "inputWidgets": {},
     "nuid": "9c89235e-9b48-4f41-b5ec-2def5a0cf989",
     "showTitle": false,
     "title": ""
    }
   },
   "source": [
    "**Performance Metrics**"
   ]
  },
  {
   "cell_type": "code",
   "execution_count": 25,
   "metadata": {
    "application/vnd.databricks.v1+cell": {
     "inputWidgets": {},
     "nuid": "3b5006f9-eca7-4ddc-be08-522eef4f2543",
     "showTitle": false,
     "title": ""
    }
   },
   "outputs": [
    {
     "name": "stdout",
     "output_type": "stream",
     "text": [
      "Summary Stats\n",
      "Precision = 0.1722689075630252\n",
      "Recall = 0.14487632508833923\n",
      "F1 Score = 0.15738963531669867\n",
      "Weighted recall = 0.1713711702661979\n",
      "Weighted precision = 0.1825228047581572\n",
      "Weighted F(1) Score = 0.17428808989866643\n",
      "Weighted F(0.5) Score = 0.17856372596695255\n",
      "Weighted false positive rate = 0.0058381737696372865\n"
     ]
    }
   ],
   "source": [
    "# Trad Metrics\n",
    "#lr_trad = LogisticRegression(featuresCol = \"trad_features\", labelCol = \"tag_idx\", fitIntercept=False, elasticNetParam=0.0, regParam=0)\n",
    "print_metrics(lr_trad_results)"
   ]
  },
  {
   "cell_type": "markdown",
   "metadata": {
    "application/vnd.databricks.v1+cell": {
     "inputWidgets": {},
     "nuid": "78f66ea8-63e3-414d-a14a-e44c45433e72",
     "showTitle": false,
     "title": ""
    }
   },
   "source": [
    "##Random Forest"
   ]
  },
  {
   "cell_type": "markdown",
   "metadata": {
    "application/vnd.databricks.v1+cell": {
     "inputWidgets": {},
     "nuid": "5f024fa7-1511-46e5-8690-2a760c54b8a4",
     "showTitle": false,
     "title": ""
    }
   },
   "source": [
    "**Model training and transformation of test set**"
   ]
  },
  {
   "cell_type": "code",
   "execution_count": 27,
   "metadata": {
    "application/vnd.databricks.v1+cell": {
     "inputWidgets": {},
     "nuid": "f38f1e78-330a-4efa-8652-f51e24d58002",
     "showTitle": false,
     "title": ""
    }
   },
   "outputs": [],
   "source": [
    "from pyspark.ml.classification import RandomForestClassifier\n",
    "# Trad Model\n",
    "# TODO: Select best hyper parameters\n",
    "rf_trad = RandomForestClassifier(featuresCol = \"trad_features\", labelCol = \"tag_idx\", maxDepth=15, numTrees=15)\n",
    "rf_trad_model = rf_trad.fit(train_df)\n",
    "rf_trad_result = rf_trad_model.transform(test_df)"
   ]
  },
  {
   "cell_type": "markdown",
   "metadata": {
    "application/vnd.databricks.v1+cell": {
     "inputWidgets": {},
     "nuid": "4a6fd10f-777e-4505-86c8-15c116b3a436",
     "showTitle": false,
     "title": ""
    }
   },
   "source": [
    "**Performance Metrics**"
   ]
  },
  {
   "cell_type": "code",
   "execution_count": 28,
   "metadata": {},
   "outputs": [
    {
     "name": "stdout",
     "output_type": "stream",
     "text": [
      "Weighted recall = 0.18322451029633346\n",
      "Weighted precision = 0.5746728250026691\n",
      "Weighted F(1) Score = 0.2463187383258534\n",
      "Weighted F(0.5) Score = 0.3400012619469306\n",
      "Weighted false positive rate = 0.009260470331998562\n"
     ]
    }
   ],
   "source": [
    "# Trad Metrics 15 x 15\n",
    "from pyspark.mllib.evaluation import MulticlassMetrics\n",
    "\n",
    "#Get labels/predictions in RDD expected by metrics classes\n",
    "rf_trad_labels_and_predictions = rf_trad_result.select([\"tag_idx\", \"prediction\"])\n",
    "\n",
    "# Instantiate metrics object\n",
    "rf_trad_metrics = MulticlassMetrics(rf_trad_labels_and_predictions.rdd)\n",
    "\n",
    "# Weighted stats\n",
    "print(\"Weighted recall = %s\" % rf_trad_metrics.weightedRecall)\n",
    "print(\"Weighted precision = %s\" % rf_trad_metrics.weightedPrecision)\n",
    "print(\"Weighted F(1) Score = %s\" % rf_trad_metrics.weightedFMeasure())\n",
    "print(\"Weighted F(0.5) Score = %s\" % rf_trad_metrics.weightedFMeasure(beta=0.5))\n",
    "print(\"Weighted false positive rate = %s\" % rf_trad_metrics.weightedFalsePositiveRate)"
   ]
  },
  {
   "cell_type": "markdown",
   "metadata": {
    "application/vnd.databricks.v1+cell": {
     "inputWidgets": {},
     "nuid": "44099856-5436-483d-b518-a55d418e5cb2",
     "showTitle": false,
     "title": ""
    }
   },
   "source": [
    "# Results Analysis\n",
    "As we can see from the above, the __ and __ model performed best on the lazy features and traditional features, respectively. We will now use the __ model to determine the highest performing and lowest performing classes."
   ]
  },
  {
   "cell_type": "code",
   "execution_count": 29,
   "metadata": {},
   "outputs": [
    {
     "name": "stdout",
     "output_type": "stream",
     "text": [
      "+----+--------------------+--------------------+------------------+-------+--------------------+--------------------+--------------------+--------------------+--------------------+--------------------+--------------------+--------------------+--------------------+--------------------+--------------------+--------------------+----------+\n",
      "| _c0|                Body|               Title|               tag|tag_idx|   Lazy_Title_Tokens|    Lazy_Body_Tokens|   Trad_Title_Tokens|    Trad_Body_Tokens|    lazy_body_vector|   lazy_title_vector|       lazy_features|    trad_body_vector|   trad_title_vector|       trad_features|       rawPrediction|         probability|prediction|\n",
      "+----+--------------------+--------------------+------------------+-------+--------------------+--------------------+--------------------+--------------------+--------------------+--------------------+--------------------+--------------------+--------------------+--------------------+--------------------+--------------------+----------+\n",
      "| 363|<p>Please help me...|SQL Query on spec...|             query|   61.0|[sql, query, on, ...|[please, help, me...|[sql, queri, spec...|[pleas, help, for...|(953,[0,2,3,4,11,...|(106,[8,34,68],[1...|(1059,[0,2,3,4,11...|(903,[7,8,22,32,4...|(101,[18,35],[1.0...|(1004,[7,8,22,32,...|[0.14038327665113...|[0.00935888511007...|      15.0|\n",
      "| 423|<p>I'm fairly new...|Recommended Books...|           windows|   19.0|[recommended, boo...|[i'm, fairly, new...|[recommend, book,...|[fairli, new, ope...|(953,[0,2,3,4,5,8...|     (106,[9],[1.0])|(1059,[0,2,3,4,5,...|(903,[1,3,13,15,2...|         (101,[],[])|(1004,[1,3,13,15,...|[0.22729328490821...|[0.01515288566054...|      23.0|\n",
      "| 905|<p>My Visual Stud...|Why log4net doesn...|        nhibernate|  154.0|[why, log4net, do...|[my, visual, stud...|[log4net, log, nh...|[visual, studio, ...|(953,[1,3,4,5,6,7...|    (106,[39],[1.0])|(1059,[1,3,4,5,6,...|(903,[0,1,2,3,4,6...|         (101,[],[])|(1004,[0,1,2,3,4,...|[0.20647888239628...|[0.01376525882641...|      20.0|\n",
      "|1035|<p>To test bandwi...|Can I pull data f...|       performance|   34.0|[can, i, pull, da...|[to, test, bandwi...|[pull, data, serv...|[test, bandwidth,...|(953,[2,9,15,17,2...|(106,[0,5,10,12,1...|(1059,[2,9,15,17,...|(903,[13,17,36,66...|(101,[7,13],[1.0,...|(1004,[13,17,36,6...|[0.27468654911539...|[0.01831243660769...|       1.0|\n",
      "|1101|<p>I'm trying to ...|How do I clear IE...| internet-explorer|   75.0|[how, do, i, clea...|[i'm, trying, to,...|[clear, ie, cach,...|[tri, debug, ie, ...|(953,[0,3,5,11,13...|(106,[3,12,18,20,...|(1059,[0,3,5,11,1...|(903,[6,15,21,45,...|(101,[47,58],[1.0...|(1004,[6,15,21,45...|[0.27468654911539...|[0.01831243660769...|       1.0|\n",
      "|1141|<p>I wrote a page...|Data in AJAX call...|       jquery-ajax|  234.0|[data, in, ajax, ...|[i, wrote, a, pag...|[data, ajax, call...|[wrote, page, cal...|(953,[0,1,2,4,6,7...|(106,[1,11,24,47,...|(1059,[0,1,2,4,6,...|(903,[3,5,10,14,1...|(101,[7,19,77],[1...|(1004,[3,5,10,14,...|[1.24453204243810...|[0.08296880282920...|       0.0|\n",
      "|1266|<p>We just switch...|Any tips for usin...|               svn|  182.0|[any, tips, for, ...|[we, just, switch...|[tip, use, subver...|[switch, tf, svn,...|(953,[0,2,3,4,5,8...|(106,[5,9,13],[1....|(1059,[0,2,3,4,5,...|(903,[1,3,6,34,37...|(101,[0,1,6],[1.0...|(1004,[1,3,6,34,3...|[0.24864085224304...|[0.01657605681620...|      12.0|\n",
      "|1339|<p>I can print mo...|argument list in ...|                 c|   31.0|[argument, list, ...|[i, can, print, m...|[argument, list, ...|[print, 2, argume...|(953,[4,6,7,11,13...|(106,[1,47,60],[1...|(1059,[4,6,7,11,1...|(903,[2,9,14,16,2...|(101,[19,32],[1.0...|(1004,[2,9,14,16,...|[0.38392255452775...|[0.02559483696851...|      20.0|\n",
      "|1392|<p>The site needs...|Is there a way fo...|               ssl|  156.0|[is, there, a, wa...|[the, site, needs...|[way, iis6, http,...|[site, need, acce...|(953,[0,2,3,4,8,9...|(106,[0,1,2,4,7,9...|(1059,[0,2,3,4,8,...|(903,[1,13,21,30,...|    (101,[45],[1.0])|(1004,[1,13,21,30...|[0.26192187535860...|[0.01746145835724...|       3.0|\n",
      "|1403|<p>I am facing a ...|SVN replication u...|               svn|  182.0|[svn, replication...|[i, am, facing, a...|[svn, replic, use...|[face, problem, s...|(953,[0,2,3,4,5,8...|    (106,[13],[1.0])|(1059,[0,2,3,4,5,...|(903,[1,14,26,34,...|     (101,[0],[1.0])|(1004,[1,14,26,34...|[0.27468654911539...|[0.01831243660769...|       1.0|\n",
      "|1564|<p>How could i jo...|Join nested / mul...|             mysql|    2.0|[join, nested, /,...|[how, could, i, j...|[join, nest, mult...|[could, join, mul...|(953,[0,1,6,7,10,...|(106,[2,5,68],[1....|(1059,[0,1,6,7,10...|(903,[0,44,47,74,...|    (101,[35],[2.0])|(1004,[0,44,47,74...|[0.14736865523837...|[0.00982457701589...|       2.0|\n",
      "|1716|<p>I want to use ...|Using SSIS BIDS w...|visual-studio-2012|  347.0|[using, ssis, bid...|[i, want, to, use...|[use, ssi, bid, v...|[want, use, ssi, ...|(953,[0,3,4,5,9,1...|(106,[5,13],[1.0,...|(1059,[0,3,4,5,9,...|(903,[1,5,17,21,3...|     (101,[0],[1.0])|(1004,[1,5,17,21,...|[0.21183822575530...|[0.01412254838368...|      15.0|\n",
      "|1854|<p>In my iPhone a...|Warning: UIKit sh...|    multithreading|   20.0|[warning:, uikit,...|[in, my, iphone, ...|[warn, uikit, cal...|[iphon, app, need...|(953,[0,1,4,6,7,1...|(106,[2,10,14,94]...|(1059,[0,1,4,6,7,...|(903,[1,5,12,13,2...|    (101,[40],[1.0])|(1004,[1,5,12,13,...|[0.07995339425553...|[0.00533022628370...|       6.0|\n",
      "|1919|<p>I work for a s...|For remote IT pur...|               vpn|  422.0|[for, remote, it,...|[i, work, for, a,...|[remot, purpos, v...|[work, small, ins...|(953,[0,2,3,4,5,9...|(106,[9,25,32],[1...|(1059,[0,2,3,4,5,...|(903,[9,13,14,21,...|         (101,[],[])|(1004,[9,13,14,21...|[0.25370836528255...|[0.01691389101883...|       1.0|\n",
      "|2432|<p>Please find th...|ImageMagick, crea...|              html|    4.0|[imagemagick,, cr...|[please, find, th...|[imagemagick, cre...|[pleas, find, cod...|(953,[0,1,4,8,9,1...|(106,[19,51],[1.0...|(1059,[0,1,4,8,9,...|(903,[0,1,2,3,6,8...|(101,[1,16,20,83]...|(1004,[0,1,2,3,6,...|[0.39275227331596...|[0.02618348488773...|      33.0|\n",
      "|2465|<p>I have an Open...|Applying Translat...|       objective-c|    6.0|[applying, transl...|[i, have, an, ope...|[appli, translat,...|[opengl, es, scen...|(953,[0,1,2,3,4,5...|(106,[0,16,103],[...|(1059,[0,1,2,3,4,...|(903,[0,1,2,9,10,...|    (101,[78],[1.0])|(1004,[0,1,2,9,10...|[0.24023313110289...|[0.01601554207352...|       6.0|\n",
      "|2520|<pre><code>@{\n",
      "   ...|Access global pag...|             razor|  281.0|[access, global, ...|[@{, int, i, =, 0...|[access, global, ...|[int, 0, helper, ...|(953,[1,2,4,6,7,2...|(106,[1,55,81],[1...|(1059,[1,2,4,6,7,...|(903,[0,8,24,25,3...|(101,[26,46,59],[...|(1004,[0,8,24,25,...|[0.25218665239327...|[0.01681244349288...|       1.0|\n",
      "|2566|<p>How memory is ...|Memory Allocation...|                 c|   31.0|[memory, allocati...|[how, memory, is,...|[memori, alloc, p...|[memori, alloc, p...|(953,[1,2,5,11,22...|(106,[9,64],[1.0,...|(1059,[1,2,5,11,2...|(903,[1,3,5,21,34...|    (101,[15],[1.0])|(1004,[1,3,5,21,3...|[0.23656720474677...|[0.01577114698311...|       6.0|\n",
      "|2633|<p>My question is...|Excel process sti...|             excel|   91.0|[excel, process, ...|[my, question, is...|[excel, process, ...|[question, basic,...|(953,[0,1,2,3,4,5...|(106,[1,67],[1.0,...|(1059,[0,1,2,3,4,...|(903,[0,1,2,4,5,7...|(101,[6,58],[1.0,...|(1004,[0,1,2,4,5,...|[0.64359045617143...|[0.04290603041142...|       0.0|\n",
      "|2642|<p>I'm in the pro...|Trying to make a ...|               css|    5.0|[trying, to, make...|[i'm, in, the, pr...|[tri, make, websi...|[process, write, ...|(953,[0,2,3,4,5,8...|(106,[0,2,5,38,85...|(1059,[0,2,3,4,5,...|(903,[5,21,32,43,...|(101,[26,55],[1.0...|(1004,[5,21,32,43...|[0.94049647460104...|[0.06269976497340...|       5.0|\n",
      "+----+--------------------+--------------------+------------------+-------+--------------------+--------------------+--------------------+--------------------+--------------------+--------------------+--------------------+--------------------+--------------------+--------------------+--------------------+--------------------+----------+\n",
      "only showing top 20 rows\n",
      "\n"
     ]
    }
   ],
   "source": [
    "# TODO: Update with best performing model \n",
    "top_df = rf_trad_result\n",
    "top_df.show()"
   ]
  },
  {
   "cell_type": "code",
   "execution_count": 40,
   "metadata": {},
   "outputs": [],
   "source": [
    "# write prepared file for further use\n",
    "top_df.write.parquet(\"top_df2\")"
   ]
  },
  {
   "cell_type": "code",
   "execution_count": null,
   "metadata": {},
   "outputs": [],
   "source": [
    "top_df = spark.read.parquet(\"top_df2\")\n",
    "top_df.cache()\n",
    "top_df.select([\"tag\", \"tag_idx\", \"prediction\"]).show()"
   ]
  },
  {
   "cell_type": "code",
   "execution_count": null,
   "metadata": {},
   "outputs": [],
   "source": [
    "top_df.count()"
   ]
  },
  {
   "cell_type": "code",
   "execution_count": 31,
   "metadata": {},
   "outputs": [
    {
     "name": "stdout",
     "output_type": "stream",
     "text": [
      "+------------------+-------+----------+\n",
      "|               tag|tag_idx|prediction|\n",
      "+------------------+-------+----------+\n",
      "|             query|   61.0|      15.0|\n",
      "|           windows|   19.0|      23.0|\n",
      "|        nhibernate|  154.0|      20.0|\n",
      "|       performance|   34.0|       1.0|\n",
      "| internet-explorer|   75.0|       1.0|\n",
      "|       jquery-ajax|  234.0|       0.0|\n",
      "|               svn|  182.0|      12.0|\n",
      "|                 c|   31.0|      20.0|\n",
      "|               ssl|  156.0|       3.0|\n",
      "|               svn|  182.0|       1.0|\n",
      "|             mysql|    2.0|       2.0|\n",
      "|visual-studio-2012|  347.0|      15.0|\n",
      "|    multithreading|   20.0|       6.0|\n",
      "|               vpn|  422.0|       1.0|\n",
      "|              html|    4.0|      33.0|\n",
      "|       objective-c|    6.0|       6.0|\n",
      "|             razor|  281.0|       1.0|\n",
      "|                 c|   31.0|       6.0|\n",
      "|             excel|   91.0|       0.0|\n",
      "|               css|    5.0|       5.0|\n",
      "+------------------+-------+----------+\n",
      "only showing top 20 rows\n",
      "\n"
     ]
    }
   ],
   "source": [
    "top_df.select([\"tag\", \"tag_idx\", \"prediction\"]).show()"
   ]
  },
  {
   "cell_type": "code",
   "execution_count": 32,
   "metadata": {},
   "outputs": [
    {
     "name": "stdout",
     "output_type": "stream",
     "text": [
      "Summary Stats\n",
      "Precision = 0.6386554621848739\n",
      "Recall = 0.04452255418863503\n",
      "F1 Score = 0.08324205914567359\n",
      "Weighted recall = 0.18322451029633346\n",
      "Weighted precision = 0.5746728250026691\n",
      "Weighted F(1) Score = 0.2463187383258534\n",
      "Weighted F(0.5) Score = 0.3400012619469306\n",
      "Weighted false positive rate = 0.009260470331998562\n",
      "Class 0.0 precision = 0.7888349514563107\n",
      "Class 0.0 recall = 0.24546827794561935\n",
      "Class 0.0 F1 Measure = 0.3744239631336405\n",
      "Class 1.0 precision = 0.6386554621848739\n",
      "Class 1.0 recall = 0.04452255418863503\n",
      "Class 1.0 F1 Measure = 0.08324205914567359\n",
      "Class 2.0 precision = 0.7808764940239044\n",
      "Class 2.0 recall = 0.30963665086887837\n",
      "Class 2.0 F1 Measure = 0.44343891402714936\n",
      "Class 3.0 precision = 0.47\n",
      "Class 3.0 recall = 0.2781065088757396\n",
      "Class 3.0 F1 Measure = 0.3494423791821561\n",
      "Class 4.0 precision = 0.2631578947368421\n",
      "Class 4.0 recall = 0.20912547528517111\n",
      "Class 4.0 F1 Measure = 0.2330508474576271\n",
      "Class 5.0 precision = 0.6488095238095238\n",
      "Class 5.0 recall = 0.33641975308641975\n",
      "Class 5.0 F1 Measure = 0.44308943089430897\n",
      "Class 6.0 precision = 0.45180722891566266\n",
      "Class 6.0 recall = 0.19788918205804748\n",
      "Class 6.0 F1 Measure = 0.27522935779816515\n",
      "Class 7.0 precision = 0.32934131736526945\n",
      "Class 7.0 recall = 0.14824797843665768\n",
      "Class 7.0 F1 Measure = 0.20446096654275092\n",
      "Class 8.0 precision = 0.5696969696969697\n",
      "Class 8.0 recall = 0.24415584415584415\n",
      "Class 8.0 F1 Measure = 0.3418181818181818\n",
      "Class 9.0 precision = 0.09230769230769231\n",
      "Class 9.0 recall = 0.3333333333333333\n",
      "Class 9.0 F1 Measure = 0.14457831325301207\n",
      "Class 10.0 precision = 0.5148514851485149\n",
      "Class 10.0 recall = 0.37142857142857144\n",
      "Class 10.0 F1 Measure = 0.4315352697095436\n",
      "Class 11.0 precision = 0.711864406779661\n",
      "Class 11.0 recall = 0.3514644351464435\n",
      "Class 11.0 F1 Measure = 0.4705882352941176\n",
      "Class 12.0 precision = 0.6818181818181818\n",
      "Class 12.0 recall = 0.29069767441860467\n",
      "Class 12.0 F1 Measure = 0.40760869565217395\n",
      "Class 13.0 precision = 0.07446808510638298\n",
      "Class 13.0 recall = 0.16666666666666666\n",
      "Class 13.0 F1 Measure = 0.10294117647058823\n",
      "Class 14.0 precision = 0.4772727272727273\n",
      "Class 14.0 recall = 0.28\n",
      "Class 14.0 F1 Measure = 0.3529411764705883\n",
      "Class 15.0 precision = 0.47297297297297297\n",
      "Class 15.0 recall = 0.1724137931034483\n",
      "Class 15.0 F1 Measure = 0.25270758122743686\n",
      "Class 16.0 precision = 0.35\n",
      "Class 16.0 recall = 0.32941176470588235\n",
      "Class 16.0 F1 Measure = 0.33939393939393936\n",
      "Class 17.0 precision = 0.05555555555555555\n",
      "Class 17.0 recall = 0.36363636363636365\n",
      "Class 17.0 F1 Measure = 0.09638554216867468\n",
      "Class 18.0 precision = 0.13043478260869565\n",
      "Class 18.0 recall = 0.2553191489361702\n",
      "Class 18.0 F1 Measure = 0.1726618705035971\n",
      "Class 19.0 precision = 0.02631578947368421\n",
      "Class 19.0 recall = 0.6666666666666666\n",
      "Class 19.0 F1 Measure = 0.05063291139240506\n",
      "Class 20.0 precision = 0.6229508196721312\n",
      "Class 20.0 recall = 0.31666666666666665\n",
      "Class 20.0 F1 Measure = 0.419889502762431\n",
      "Class 21.0 precision = 0.6\n",
      "Class 21.0 recall = 0.2582781456953642\n",
      "Class 21.0 F1 Measure = 0.3611111111111111\n",
      "Class 22.0 precision = 0.0\n",
      "Class 22.0 recall = 0.0\n",
      "Class 22.0 F1 Measure = 0.0\n",
      "Class 23.0 precision = 0.4794520547945205\n",
      "Class 23.0 recall = 0.30973451327433627\n",
      "Class 23.0 F1 Measure = 0.3763440860215053\n",
      "Class 24.0 precision = 0.015625\n",
      "Class 24.0 recall = 0.25\n",
      "Class 24.0 F1 Measure = 0.029411764705882353\n",
      "Class 25.0 precision = 0.23529411764705882\n",
      "Class 25.0 recall = 0.2711864406779661\n",
      "Class 25.0 F1 Measure = 0.25196850393700787\n",
      "Class 26.0 precision = 0.04918032786885246\n",
      "Class 26.0 recall = 0.16666666666666666\n",
      "Class 26.0 F1 Measure = 0.07594936708860758\n",
      "Class 27.0 precision = 0.0\n",
      "Class 27.0 recall = 0.0\n",
      "Class 27.0 F1 Measure = 0.0\n",
      "Class 28.0 precision = 0.1111111111111111\n",
      "Class 28.0 recall = 0.1875\n",
      "Class 28.0 F1 Measure = 0.13953488372093023\n",
      "Class 29.0 precision = 0.1774193548387097\n",
      "Class 29.0 recall = 0.4230769230769231\n",
      "Class 29.0 F1 Measure = 0.25\n",
      "Class 30.0 precision = 0.2631578947368421\n",
      "Class 30.0 recall = 0.25862068965517243\n",
      "Class 30.0 F1 Measure = 0.2608695652173913\n",
      "Class 31.0 precision = 0.20967741935483872\n",
      "Class 31.0 recall = 0.52\n",
      "Class 31.0 F1 Measure = 0.29885057471264365\n",
      "Class 32.0 precision = 0.0\n",
      "Class 32.0 recall = 0.0\n",
      "Class 32.0 F1 Measure = 0.0\n",
      "Class 33.0 precision = 0.24324324324324326\n",
      "Class 33.0 recall = 0.13043478260869565\n",
      "Class 33.0 F1 Measure = 0.16981132075471697\n",
      "Class 34.0 precision = 0.0\n",
      "Class 34.0 recall = 0.0\n",
      "Class 34.0 F1 Measure = 0.0\n",
      "Class 35.0 precision = 0.45652173913043476\n",
      "Class 35.0 recall = 0.2916666666666667\n",
      "Class 35.0 F1 Measure = 0.35593220338983056\n",
      "Class 36.0 precision = 0.0\n",
      "Class 36.0 recall = 0.0\n",
      "Class 36.0 F1 Measure = 0.0\n",
      "Class 37.0 precision = 0.6\n",
      "Class 37.0 recall = 0.3181818181818182\n",
      "Class 37.0 F1 Measure = 0.41584158415841577\n",
      "Class 38.0 precision = 0.0\n",
      "Class 38.0 recall = 0.0\n",
      "Class 38.0 F1 Measure = 0.0\n",
      "Class 39.0 precision = 0.43902439024390244\n",
      "Class 39.0 recall = 0.22784810126582278\n",
      "Class 39.0 F1 Measure = 0.29999999999999993\n",
      "Class 40.0 precision = 0.0\n",
      "Class 40.0 recall = 0.0\n",
      "Class 40.0 F1 Measure = 0.0\n",
      "Class 41.0 precision = 0.0\n",
      "Class 41.0 recall = 0.0\n",
      "Class 41.0 F1 Measure = 0.0\n",
      "Class 42.0 precision = 0.0\n",
      "Class 42.0 recall = 0.0\n",
      "Class 42.0 F1 Measure = 0.0\n",
      "Class 43.0 precision = 0.025\n",
      "Class 43.0 recall = 0.1\n",
      "Class 43.0 F1 Measure = 0.04000000000000001\n",
      "Class 44.0 not in this set!\n",
      "Class 45.0 precision = 0.025\n",
      "Class 45.0 recall = 0.2\n",
      "Class 45.0 F1 Measure = 0.04444444444444445\n",
      "Class 46.0 precision = 0.03333333333333333\n",
      "Class 46.0 recall = 0.2\n",
      "Class 46.0 F1 Measure = 0.05714285714285715\n",
      "Class 47.0 precision = 0.0\n",
      "Class 47.0 recall = 0.0\n",
      "Class 47.0 F1 Measure = 0.0\n",
      "Class 48.0 precision = 0.0\n",
      "Class 48.0 recall = 0.0\n",
      "Class 48.0 F1 Measure = 0.0\n",
      "Class 49.0 precision = 0.023255813953488372\n",
      "Class 49.0 recall = 1.0\n",
      "Class 49.0 F1 Measure = 0.04545454545454545\n",
      "Class 50.0 not in this set!\n",
      "Class 51.0 precision = 0.0\n",
      "Class 51.0 recall = 0.0\n",
      "Class 51.0 F1 Measure = 0.0\n",
      "Class 52.0 precision = 0.03125\n",
      "Class 52.0 recall = 0.3333333333333333\n",
      "Class 52.0 F1 Measure = 0.05714285714285714\n",
      "Class 53.0 precision = 0.0\n",
      "Class 53.0 recall = 0.0\n",
      "Class 53.0 F1 Measure = 0.0\n",
      "Class 54.0 precision = 0.09375\n",
      "Class 54.0 recall = 0.3\n",
      "Class 54.0 F1 Measure = 0.14285714285714285\n",
      "Class 55.0 precision = 0.0\n",
      "Class 55.0 recall = 0.0\n",
      "Class 55.0 F1 Measure = 0.0\n",
      "Class 56.0 precision = 0.0\n",
      "Class 56.0 recall = 0.0\n",
      "Class 56.0 F1 Measure = 0.0\n",
      "Class 57.0 not in this set!\n",
      "Class 58.0 precision = 0.0967741935483871\n",
      "Class 58.0 recall = 0.2\n",
      "Class 58.0 F1 Measure = 0.13043478260869568\n",
      "Class 59.0 precision = 0.0\n",
      "Class 59.0 recall = 0.0\n",
      "Class 59.0 F1 Measure = 0.0\n",
      "Class 60.0 precision = 0.0\n",
      "Class 60.0 recall = 0.0\n",
      "Class 60.0 F1 Measure = 0.0\n",
      "Class 61.0 precision = 0.0\n",
      "Class 61.0 recall = 0.0\n",
      "Class 61.0 F1 Measure = 0.0\n",
      "Class 62.0 precision = 0.1891891891891892\n",
      "Class 62.0 recall = 0.4375\n",
      "Class 62.0 F1 Measure = 0.2641509433962264\n",
      "Class 63.0 precision = 0.43243243243243246\n",
      "Class 63.0 recall = 0.3902439024390244\n",
      "Class 63.0 F1 Measure = 0.4102564102564103\n",
      "Class 64.0 precision = 0.0\n",
      "Class 64.0 recall = 0.0\n",
      "Class 64.0 F1 Measure = 0.0\n",
      "Class 65.0 not in this set!\n",
      "Class 66.0 precision = 0.041666666666666664\n",
      "Class 66.0 recall = 0.5\n",
      "Class 66.0 F1 Measure = 0.07692307692307693\n",
      "Class 67.0 precision = 0.0\n",
      "Class 67.0 recall = 0.0\n",
      "Class 67.0 F1 Measure = 0.0\n",
      "Class 68.0 not in this set!\n",
      "Class 69.0 not in this set!\n",
      "Class 70.0 precision = 0.04\n",
      "Class 70.0 recall = 0.5\n",
      "Class 70.0 F1 Measure = 0.07407407407407407\n",
      "Class 71.0 precision = 0.0\n",
      "Class 71.0 recall = 0.0\n",
      "Class 71.0 F1 Measure = 0.0\n",
      "Class 72.0 precision = 0.0\n",
      "Class 72.0 recall = 0.0\n",
      "Class 72.0 F1 Measure = 0.0\n",
      "Class 73.0 precision = 0.045454545454545456\n",
      "Class 73.0 recall = 0.5\n",
      "Class 73.0 F1 Measure = 0.08333333333333334\n",
      "Class 74.0 precision = 0.0\n",
      "Class 74.0 recall = 0.0\n",
      "Class 74.0 F1 Measure = 0.0\n",
      "Class 75.0 precision = 0.0\n",
      "Class 75.0 recall = 0.0\n",
      "Class 75.0 F1 Measure = 0.0\n",
      "Class 76.0 precision = 0.0\n",
      "Class 76.0 recall = 0.0\n",
      "Class 76.0 F1 Measure = 0.0\n",
      "Class 77.0 precision = 0.0\n",
      "Class 77.0 recall = 0.0\n",
      "Class 77.0 F1 Measure = 0.0\n",
      "Class 78.0 precision = 0.0\n",
      "Class 78.0 recall = 0.0\n",
      "Class 78.0 F1 Measure = 0.0\n",
      "Class 79.0 precision = 0.0\n",
      "Class 79.0 recall = 0.0\n",
      "Class 79.0 F1 Measure = 0.0\n",
      "Class 80.0 precision = 0.0\n",
      "Class 80.0 recall = 0.0\n",
      "Class 80.0 F1 Measure = 0.0\n",
      "Class 81.0 not in this set!\n",
      "Class 82.0 not in this set!\n",
      "Class 83.0 precision = 0.13793103448275862\n",
      "Class 83.0 recall = 0.3076923076923077\n",
      "Class 83.0 F1 Measure = 0.1904761904761905\n",
      "Class 84.0 precision = 0.0\n",
      "Class 84.0 recall = 0.0\n",
      "Class 84.0 F1 Measure = 0.0\n",
      "Class 85.0 not in this set!\n",
      "Class 86.0 precision = 0.02857142857142857\n",
      "Class 86.0 recall = 0.3333333333333333\n",
      "Class 86.0 F1 Measure = 0.05263157894736842\n",
      "Class 87.0 precision = 0.0\n",
      "Class 87.0 recall = 0.0\n",
      "Class 87.0 F1 Measure = 0.0\n",
      "Class 88.0 precision = 0.0\n",
      "Class 88.0 recall = 0.0\n",
      "Class 88.0 F1 Measure = 0.0\n",
      "Class 89.0 precision = 0.0\n",
      "Class 89.0 recall = 0.0\n",
      "Class 89.0 F1 Measure = 0.0\n",
      "Class 90.0 precision = 0.03125\n",
      "Class 90.0 recall = 0.3333333333333333\n",
      "Class 90.0 F1 Measure = 0.05714285714285714\n",
      "Class 91.0 not in this set!\n",
      "Class 92.0 not in this set!\n",
      "Class 93.0 not in this set!\n",
      "Class 94.0 precision = 0.0\n",
      "Class 94.0 recall = 0.0\n",
      "Class 94.0 F1 Measure = 0.0\n",
      "Class 95.0 precision = 0.08\n",
      "Class 95.0 recall = 0.5\n",
      "Class 95.0 F1 Measure = 0.13793103448275865\n",
      "Class 96.0 precision = 0.045454545454545456\n",
      "Class 96.0 recall = 1.0\n",
      "Class 96.0 F1 Measure = 0.08695652173913045\n",
      "Class 97.0 not in this set!\n",
      "Class 98.0 precision = 0.0\n",
      "Class 98.0 recall = 0.0\n",
      "Class 98.0 F1 Measure = 0.0\n",
      "Class 99.0 precision = 0.0\n",
      "Class 99.0 recall = 0.0\n",
      "Class 99.0 F1 Measure = 0.0\n",
      "Class 100.0 precision = 0.0\n",
      "Class 100.0 recall = 0.0\n",
      "Class 100.0 F1 Measure = 0.0\n",
      "Class 101.0 precision = 0.037037037037037035\n",
      "Class 101.0 recall = 0.3333333333333333\n",
      "Class 101.0 F1 Measure = 0.06666666666666667\n",
      "Class 102.0 not in this set!\n",
      "Class 103.0 not in this set!\n",
      "Class 104.0 not in this set!\n",
      "Class 105.0 precision = 0.0\n",
      "Class 105.0 recall = 0.0\n",
      "Class 105.0 F1 Measure = 0.0\n",
      "Class 106.0 precision = 0.08333333333333333\n",
      "Class 106.0 recall = 1.0\n",
      "Class 106.0 F1 Measure = 0.15384615384615385\n",
      "Class 107.0 precision = 0.0\n",
      "Class 107.0 recall = 0.0\n",
      "Class 107.0 F1 Measure = 0.0\n",
      "Class 108.0 precision = 0.0\n",
      "Class 108.0 recall = 0.0\n",
      "Class 108.0 F1 Measure = 0.0\n",
      "Class 109.0 precision = 0.045454545454545456\n",
      "Class 109.0 recall = 0.14285714285714285\n",
      "Class 109.0 F1 Measure = 0.06896551724137931\n",
      "Class 110.0 not in this set!\n",
      "Class 111.0 precision = 0.058823529411764705\n",
      "Class 111.0 recall = 0.3333333333333333\n",
      "Class 111.0 F1 Measure = 0.1\n",
      "Class 112.0 precision = 0.0\n",
      "Class 112.0 recall = 0.0\n",
      "Class 112.0 F1 Measure = 0.0\n",
      "Class 113.0 not in this set!\n",
      "Class 114.0 precision = 0.0\n",
      "Class 114.0 recall = 0.0\n",
      "Class 114.0 F1 Measure = 0.0\n",
      "Class 115.0 precision = 0.0\n",
      "Class 115.0 recall = 0.0\n",
      "Class 115.0 F1 Measure = 0.0\n",
      "Class 116.0 not in this set!\n",
      "Class 117.0 not in this set!\n",
      "Class 118.0 not in this set!\n",
      "Class 119.0 not in this set!\n",
      "Class 120.0 precision = 0.05\n",
      "Class 120.0 recall = 0.25\n",
      "Class 120.0 F1 Measure = 0.08333333333333334\n",
      "Class 121.0 precision = 0.0\n",
      "Class 121.0 recall = 0.0\n",
      "Class 121.0 F1 Measure = 0.0\n",
      "Class 122.0 precision = 0.047619047619047616\n",
      "Class 122.0 recall = 0.14285714285714285\n",
      "Class 122.0 F1 Measure = 0.07142857142857142\n",
      "Class 123.0 precision = 0.0\n",
      "Class 123.0 recall = 0.0\n",
      "Class 123.0 F1 Measure = 0.0\n",
      "Class 124.0 not in this set!\n",
      "Class 125.0 precision = 0.0\n",
      "Class 125.0 recall = 0.0\n",
      "Class 125.0 F1 Measure = 0.0\n",
      "Class 126.0 not in this set!\n",
      "Class 127.0 not in this set!\n",
      "Class 128.0 precision = 0.0\n",
      "Class 128.0 recall = 0.0\n",
      "Class 128.0 F1 Measure = 0.0\n",
      "Class 129.0 not in this set!\n",
      "Class 130.0 precision = 0.0\n",
      "Class 130.0 recall = 0.0\n",
      "Class 130.0 F1 Measure = 0.0\n",
      "Class 131.0 precision = 0.0\n",
      "Class 131.0 recall = 0.0\n",
      "Class 131.0 F1 Measure = 0.0\n",
      "Class 132.0 not in this set!\n",
      "Class 133.0 precision = 0.0\n",
      "Class 133.0 recall = 0.0\n",
      "Class 133.0 F1 Measure = 0.0\n",
      "Class 134.0 precision = 0.0\n",
      "Class 134.0 recall = 0.0\n",
      "Class 134.0 F1 Measure = 0.0\n",
      "Class 135.0 precision = 0.05555555555555555\n",
      "Class 135.0 recall = 0.25\n",
      "Class 135.0 F1 Measure = 0.0909090909090909\n",
      "Class 136.0 precision = 0.05\n",
      "Class 136.0 recall = 0.2\n",
      "Class 136.0 F1 Measure = 0.08000000000000002\n",
      "Class 137.0 precision = 0.0\n",
      "Class 137.0 recall = 0.0\n",
      "Class 137.0 F1 Measure = 0.0\n",
      "Class 138.0 precision = 0.1111111111111111\n",
      "Class 138.0 recall = 0.2222222222222222\n",
      "Class 138.0 F1 Measure = 0.14814814814814814\n"
     ]
    },
    {
     "name": "stdout",
     "output_type": "stream",
     "text": [
      "Class 139.0 not in this set!\n",
      "Class 140.0 precision = 0.0\n",
      "Class 140.0 recall = 0.0\n",
      "Class 140.0 F1 Measure = 0.0\n",
      "Class 141.0 not in this set!\n",
      "Class 142.0 not in this set!\n",
      "Class 143.0 precision = 0.0\n",
      "Class 143.0 recall = 0.0\n",
      "Class 143.0 F1 Measure = 0.0\n",
      "Class 144.0 precision = 0.0\n",
      "Class 144.0 recall = 0.0\n",
      "Class 144.0 F1 Measure = 0.0\n",
      "Class 145.0 not in this set!\n",
      "Class 146.0 precision = 0.0\n",
      "Class 146.0 recall = 0.0\n",
      "Class 146.0 F1 Measure = 0.0\n",
      "Class 147.0 not in this set!\n",
      "Class 148.0 not in this set!\n",
      "Class 149.0 not in this set!\n",
      "Class 150.0 not in this set!\n",
      "Class 151.0 precision = 0.0\n",
      "Class 151.0 recall = 0.0\n",
      "Class 151.0 F1 Measure = 0.0\n",
      "Class 152.0 precision = 0.0\n",
      "Class 152.0 recall = 0.0\n",
      "Class 152.0 F1 Measure = 0.0\n",
      "Class 153.0 not in this set!\n",
      "Class 154.0 precision = 0.06666666666666667\n",
      "Class 154.0 recall = 0.5\n",
      "Class 154.0 F1 Measure = 0.11764705882352941\n",
      "Class 155.0 precision = 0.0\n",
      "Class 155.0 recall = 0.0\n",
      "Class 155.0 F1 Measure = 0.0\n",
      "Class 156.0 not in this set!\n",
      "Class 157.0 not in this set!\n",
      "Class 158.0 precision = 0.05555555555555555\n",
      "Class 158.0 recall = 0.2\n",
      "Class 158.0 F1 Measure = 0.08695652173913045\n",
      "Class 159.0 not in this set!\n",
      "Class 160.0 not in this set!\n",
      "Class 161.0 precision = 0.29411764705882354\n",
      "Class 161.0 recall = 0.45454545454545453\n",
      "Class 161.0 F1 Measure = 0.35714285714285715\n",
      "Class 162.0 precision = 0.0\n",
      "Class 162.0 recall = 0.0\n",
      "Class 162.0 F1 Measure = 0.0\n",
      "Class 163.0 not in this set!\n",
      "Class 164.0 not in this set!\n",
      "Class 165.0 not in this set!\n",
      "Class 166.0 not in this set!\n",
      "Class 167.0 precision = 0.0\n",
      "Class 167.0 recall = 0.0\n",
      "Class 167.0 F1 Measure = 0.0\n",
      "Class 168.0 precision = 0.0\n",
      "Class 168.0 recall = 0.0\n",
      "Class 168.0 F1 Measure = 0.0\n",
      "Class 169.0 not in this set!\n",
      "Class 170.0 not in this set!\n",
      "Class 171.0 precision = 0.0\n",
      "Class 171.0 recall = 0.0\n",
      "Class 171.0 F1 Measure = 0.0\n",
      "Class 172.0 not in this set!\n",
      "Class 173.0 precision = 0.0\n",
      "Class 173.0 recall = 0.0\n",
      "Class 173.0 F1 Measure = 0.0\n",
      "Class 174.0 precision = 0.0625\n",
      "Class 174.0 recall = 0.5\n",
      "Class 174.0 F1 Measure = 0.1111111111111111\n",
      "Class 175.0 not in this set!\n",
      "Class 176.0 not in this set!\n",
      "Class 177.0 precision = 0.0\n",
      "Class 177.0 recall = 0.0\n",
      "Class 177.0 F1 Measure = 0.0\n",
      "Class 178.0 precision = 0.0\n",
      "Class 178.0 recall = 0.0\n",
      "Class 178.0 F1 Measure = 0.0\n",
      "Class 179.0 not in this set!\n",
      "Class 180.0 not in this set!\n",
      "Class 181.0 precision = 0.0\n",
      "Class 181.0 recall = 0.0\n",
      "Class 181.0 F1 Measure = 0.0\n",
      "Class 182.0 precision = 0.0\n",
      "Class 182.0 recall = 0.0\n",
      "Class 182.0 F1 Measure = 0.0\n",
      "Class 183.0 precision = 0.0\n",
      "Class 183.0 recall = 0.0\n",
      "Class 183.0 F1 Measure = 0.0\n",
      "Class 184.0 not in this set!\n",
      "Class 185.0 precision = 0.0\n",
      "Class 185.0 recall = 0.0\n",
      "Class 185.0 F1 Measure = 0.0\n",
      "Class 186.0 not in this set!\n",
      "Class 187.0 not in this set!\n",
      "Class 188.0 precision = 0.0\n",
      "Class 188.0 recall = 0.0\n",
      "Class 188.0 F1 Measure = 0.0\n",
      "Class 189.0 not in this set!\n",
      "Class 190.0 precision = 0.0\n",
      "Class 190.0 recall = 0.0\n",
      "Class 190.0 F1 Measure = 0.0\n",
      "Class 191.0 precision = 0.0\n",
      "Class 191.0 recall = 0.0\n",
      "Class 191.0 F1 Measure = 0.0\n",
      "Class 192.0 precision = 0.07142857142857142\n",
      "Class 192.0 recall = 0.3333333333333333\n",
      "Class 192.0 F1 Measure = 0.11764705882352941\n",
      "Class 193.0 not in this set!\n",
      "Class 194.0 precision = 0.0\n",
      "Class 194.0 recall = 0.0\n",
      "Class 194.0 F1 Measure = 0.0\n",
      "Class 195.0 precision = 0.0\n",
      "Class 195.0 recall = 0.0\n",
      "Class 195.0 F1 Measure = 0.0\n",
      "Class 196.0 precision = 0.0\n",
      "Class 196.0 recall = 0.0\n",
      "Class 196.0 F1 Measure = 0.0\n",
      "Class 197.0 precision = 0.0\n",
      "Class 197.0 recall = 0.0\n",
      "Class 197.0 F1 Measure = 0.0\n",
      "Class 198.0 not in this set!\n",
      "Class 199.0 not in this set!\n",
      "Class 200.0 not in this set!\n",
      "Class 201.0 not in this set!\n",
      "Class 202.0 not in this set!\n",
      "Class 203.0 not in this set!\n",
      "Class 204.0 not in this set!\n",
      "Class 205.0 precision = 0.0\n",
      "Class 205.0 recall = 0.0\n",
      "Class 205.0 F1 Measure = 0.0\n",
      "Class 206.0 not in this set!\n",
      "Class 207.0 not in this set!\n",
      "Class 208.0 not in this set!\n",
      "Class 209.0 not in this set!\n",
      "Class 210.0 not in this set!\n",
      "Class 211.0 not in this set!\n",
      "Class 212.0 not in this set!\n",
      "Class 213.0 not in this set!\n",
      "Class 214.0 not in this set!\n",
      "Class 215.0 precision = 0.0\n",
      "Class 215.0 recall = 0.0\n",
      "Class 215.0 F1 Measure = 0.0\n",
      "Class 216.0 precision = 0.0\n",
      "Class 216.0 recall = 0.0\n",
      "Class 216.0 F1 Measure = 0.0\n",
      "Class 217.0 precision = 0.0\n",
      "Class 217.0 recall = 0.0\n",
      "Class 217.0 F1 Measure = 0.0\n",
      "Class 218.0 precision = 0.0\n",
      "Class 218.0 recall = 0.0\n",
      "Class 218.0 F1 Measure = 0.0\n",
      "Class 219.0 not in this set!\n",
      "Class 220.0 not in this set!\n",
      "Class 221.0 not in this set!\n",
      "Class 222.0 not in this set!\n",
      "Class 223.0 precision = 0.0\n",
      "Class 223.0 recall = 0.0\n",
      "Class 223.0 F1 Measure = 0.0\n",
      "Class 224.0 not in this set!\n",
      "Class 225.0 precision = 0.0\n",
      "Class 225.0 recall = 0.0\n",
      "Class 225.0 F1 Measure = 0.0\n",
      "Class 226.0 not in this set!\n",
      "Class 227.0 precision = 0.0\n",
      "Class 227.0 recall = 0.0\n",
      "Class 227.0 F1 Measure = 0.0\n",
      "Class 228.0 not in this set!\n",
      "Class 229.0 not in this set!\n",
      "Class 230.0 not in this set!\n",
      "Class 231.0 not in this set!\n",
      "Class 232.0 not in this set!\n",
      "Class 233.0 precision = 0.0\n",
      "Class 233.0 recall = 0.0\n",
      "Class 233.0 F1 Measure = 0.0\n",
      "Class 234.0 precision = 0.0\n",
      "Class 234.0 recall = 0.0\n",
      "Class 234.0 F1 Measure = 0.0\n",
      "Class 235.0 not in this set!\n",
      "Class 236.0 not in this set!\n",
      "Class 237.0 not in this set!\n",
      "Class 238.0 not in this set!\n",
      "Class 239.0 not in this set!\n",
      "Class 240.0 not in this set!\n",
      "Class 241.0 not in this set!\n",
      "Class 242.0 not in this set!\n",
      "Class 243.0 precision = 0.0\n",
      "Class 243.0 recall = 0.0\n",
      "Class 243.0 F1 Measure = 0.0\n",
      "Class 244.0 precision = 0.0\n",
      "Class 244.0 recall = 0.0\n",
      "Class 244.0 F1 Measure = 0.0\n",
      "Class 245.0 precision = 0.0\n",
      "Class 245.0 recall = 0.0\n",
      "Class 245.0 F1 Measure = 0.0\n",
      "Class 246.0 not in this set!\n",
      "Class 247.0 not in this set!\n",
      "Class 248.0 not in this set!\n",
      "Class 249.0 not in this set!\n",
      "Class 250.0 not in this set!\n",
      "Class 251.0 not in this set!\n",
      "Class 252.0 not in this set!\n",
      "Class 253.0 not in this set!\n",
      "Class 254.0 not in this set!\n",
      "Class 255.0 precision = 0.0\n",
      "Class 255.0 recall = 0.0\n",
      "Class 255.0 F1 Measure = 0.0\n",
      "Class 256.0 not in this set!\n",
      "Class 257.0 precision = 0.0\n",
      "Class 257.0 recall = 0.0\n",
      "Class 257.0 F1 Measure = 0.0\n",
      "Class 258.0 not in this set!\n",
      "Class 259.0 precision = 0.0\n",
      "Class 259.0 recall = 0.0\n",
      "Class 259.0 F1 Measure = 0.0\n",
      "Class 260.0 not in this set!\n",
      "Class 261.0 not in this set!\n",
      "Class 262.0 not in this set!\n",
      "Class 263.0 not in this set!\n",
      "Class 264.0 not in this set!\n",
      "Class 265.0 not in this set!\n",
      "Class 266.0 precision = 0.0\n",
      "Class 266.0 recall = 0.0\n",
      "Class 266.0 F1 Measure = 0.0\n",
      "Class 267.0 not in this set!\n",
      "Class 268.0 precision = 0.08333333333333333\n",
      "Class 268.0 recall = 0.5\n",
      "Class 268.0 F1 Measure = 0.14285714285714285\n",
      "Class 269.0 not in this set!\n",
      "Class 270.0 not in this set!\n",
      "Class 271.0 not in this set!\n",
      "Class 272.0 not in this set!\n",
      "Class 273.0 not in this set!\n",
      "Class 274.0 not in this set!\n",
      "Class 275.0 not in this set!\n",
      "Class 276.0 not in this set!\n",
      "Class 277.0 not in this set!\n",
      "Class 278.0 not in this set!\n",
      "Class 279.0 not in this set!\n",
      "Class 280.0 precision = 0.3333333333333333\n",
      "Class 280.0 recall = 0.25\n",
      "Class 280.0 F1 Measure = 0.28571428571428575\n",
      "Class 281.0 not in this set!\n",
      "Class 282.0 not in this set!\n",
      "Class 283.0 precision = 0.0\n",
      "Class 283.0 recall = 0.0\n",
      "Class 283.0 F1 Measure = 0.0\n",
      "Class 284.0 not in this set!\n",
      "Class 285.0 precision = 0.1111111111111111\n",
      "Class 285.0 recall = 0.5\n",
      "Class 285.0 F1 Measure = 0.1818181818181818\n",
      "Class 286.0 precision = 0.0\n",
      "Class 286.0 recall = 0.0\n",
      "Class 286.0 F1 Measure = 0.0\n",
      "Class 287.0 not in this set!\n",
      "Class 288.0 not in this set!\n",
      "Class 289.0 not in this set!\n",
      "Class 290.0 not in this set!\n",
      "Class 291.0 not in this set!\n",
      "Class 292.0 not in this set!\n",
      "Class 293.0 precision = 0.14285714285714285\n",
      "Class 293.0 recall = 1.0\n",
      "Class 293.0 F1 Measure = 0.25\n",
      "Class 294.0 not in this set!\n",
      "Class 295.0 not in this set!\n",
      "Class 296.0 not in this set!\n",
      "Class 297.0 not in this set!\n",
      "Class 298.0 precision = 0.0\n",
      "Class 298.0 recall = 0.0\n",
      "Class 298.0 F1 Measure = 0.0\n",
      "Class 299.0 not in this set!\n",
      "Class 300.0 precision = 0.0\n",
      "Class 300.0 recall = 0.0\n",
      "Class 300.0 F1 Measure = 0.0\n",
      "Class 301.0 not in this set!\n",
      "Class 302.0 not in this set!\n",
      "Class 303.0 precision = 0.0\n",
      "Class 303.0 recall = 0.0\n",
      "Class 303.0 F1 Measure = 0.0\n",
      "Class 304.0 precision = 0.0\n",
      "Class 304.0 recall = 0.0\n",
      "Class 304.0 F1 Measure = 0.0\n",
      "Class 305.0 precision = 0.0\n",
      "Class 305.0 recall = 0.0\n",
      "Class 305.0 F1 Measure = 0.0\n",
      "Class 306.0 not in this set!\n",
      "Class 307.0 not in this set!\n",
      "Class 308.0 not in this set!\n"
     ]
    },
    {
     "name": "stdout",
     "output_type": "stream",
     "text": [
      "Class 309.0 not in this set!\n",
      "Class 310.0 not in this set!\n",
      "Class 311.0 not in this set!\n",
      "Class 312.0 not in this set!\n",
      "Class 313.0 not in this set!\n",
      "Class 314.0 not in this set!\n",
      "Class 315.0 not in this set!\n",
      "Class 316.0 not in this set!\n",
      "Class 317.0 not in this set!\n",
      "Class 318.0 not in this set!\n",
      "Class 319.0 not in this set!\n",
      "Class 320.0 not in this set!\n",
      "Class 321.0 not in this set!\n",
      "Class 322.0 precision = 0.0\n",
      "Class 322.0 recall = 0.0\n",
      "Class 322.0 F1 Measure = 0.0\n",
      "Class 323.0 precision = 0.0\n",
      "Class 323.0 recall = 0.0\n",
      "Class 323.0 F1 Measure = 0.0\n",
      "Class 324.0 precision = 0.0\n",
      "Class 324.0 recall = 0.0\n",
      "Class 324.0 F1 Measure = 0.0\n",
      "Class 325.0 not in this set!\n",
      "Class 326.0 not in this set!\n",
      "Class 327.0 not in this set!\n",
      "Class 328.0 precision = 0.0\n",
      "Class 328.0 recall = 0.0\n",
      "Class 328.0 F1 Measure = 0.0\n",
      "Class 329.0 not in this set!\n",
      "Class 330.0 precision = 0.0\n",
      "Class 330.0 recall = 0.0\n",
      "Class 330.0 F1 Measure = 0.0\n",
      "Class 331.0 precision = 0.0\n",
      "Class 331.0 recall = 0.0\n",
      "Class 331.0 F1 Measure = 0.0\n",
      "Class 332.0 not in this set!\n",
      "Class 333.0 not in this set!\n",
      "Class 334.0 precision = 0.0\n",
      "Class 334.0 recall = 0.0\n",
      "Class 334.0 F1 Measure = 0.0\n",
      "Class 335.0 not in this set!\n",
      "Class 336.0 not in this set!\n",
      "Class 337.0 precision = 0.0\n",
      "Class 337.0 recall = 0.0\n",
      "Class 337.0 F1 Measure = 0.0\n",
      "Class 338.0 precision = 0.0\n",
      "Class 338.0 recall = 0.0\n",
      "Class 338.0 F1 Measure = 0.0\n",
      "Class 339.0 not in this set!\n",
      "Class 340.0 not in this set!\n",
      "Class 341.0 precision = 0.0\n",
      "Class 341.0 recall = 0.0\n",
      "Class 341.0 F1 Measure = 0.0\n",
      "Class 342.0 not in this set!\n",
      "Class 343.0 not in this set!\n",
      "Class 344.0 not in this set!\n",
      "Class 345.0 not in this set!\n",
      "Class 346.0 not in this set!\n",
      "Class 347.0 not in this set!\n",
      "Class 348.0 not in this set!\n",
      "Class 349.0 not in this set!\n",
      "Class 350.0 not in this set!\n",
      "Class 351.0 not in this set!\n",
      "Class 352.0 not in this set!\n",
      "Class 353.0 not in this set!\n",
      "Class 354.0 not in this set!\n",
      "Class 355.0 not in this set!\n",
      "Class 356.0 not in this set!\n",
      "Class 357.0 not in this set!\n",
      "Class 358.0 not in this set!\n",
      "Class 359.0 not in this set!\n",
      "Class 360.0 not in this set!\n",
      "Class 361.0 not in this set!\n",
      "Class 362.0 not in this set!\n",
      "Class 363.0 not in this set!\n",
      "Class 364.0 not in this set!\n",
      "Class 365.0 not in this set!\n",
      "Class 366.0 not in this set!\n",
      "Class 367.0 precision = 0.0\n",
      "Class 367.0 recall = 0.0\n",
      "Class 367.0 F1 Measure = 0.0\n",
      "Class 368.0 not in this set!\n",
      "Class 369.0 precision = 0.0\n",
      "Class 369.0 recall = 0.0\n",
      "Class 369.0 F1 Measure = 0.0\n",
      "Class 370.0 not in this set!\n",
      "Class 371.0 not in this set!\n",
      "Class 372.0 not in this set!\n",
      "Class 373.0 not in this set!\n",
      "Class 374.0 not in this set!\n",
      "Class 375.0 not in this set!\n",
      "Class 376.0 not in this set!\n",
      "Class 377.0 precision = 0.0\n",
      "Class 377.0 recall = 0.0\n",
      "Class 377.0 F1 Measure = 0.0\n",
      "Class 378.0 not in this set!\n",
      "Class 379.0 not in this set!\n",
      "Class 380.0 not in this set!\n",
      "Class 381.0 precision = 0.0\n",
      "Class 381.0 recall = 0.0\n",
      "Class 381.0 F1 Measure = 0.0\n",
      "Class 382.0 not in this set!\n",
      "Class 383.0 not in this set!\n",
      "Class 384.0 not in this set!\n",
      "Class 385.0 not in this set!\n",
      "Class 386.0 not in this set!\n",
      "Class 387.0 not in this set!\n",
      "Class 388.0 not in this set!\n",
      "Class 389.0 precision = 0.0\n",
      "Class 389.0 recall = 0.0\n",
      "Class 389.0 F1 Measure = 0.0\n",
      "Class 390.0 not in this set!\n",
      "Class 391.0 not in this set!\n",
      "Class 392.0 not in this set!\n",
      "Class 393.0 not in this set!\n",
      "Class 394.0 not in this set!\n",
      "Class 395.0 not in this set!\n",
      "Class 396.0 not in this set!\n",
      "Class 397.0 not in this set!\n",
      "Class 398.0 not in this set!\n",
      "Class 399.0 not in this set!\n",
      "Class 400.0 not in this set!\n",
      "Class 401.0 not in this set!\n",
      "Class 402.0 not in this set!\n",
      "Class 403.0 not in this set!\n",
      "Class 404.0 not in this set!\n",
      "Class 405.0 not in this set!\n",
      "Class 406.0 not in this set!\n",
      "Class 407.0 not in this set!\n",
      "Class 408.0 not in this set!\n",
      "Class 409.0 not in this set!\n",
      "Class 410.0 not in this set!\n",
      "Class 411.0 not in this set!\n",
      "Class 412.0 not in this set!\n",
      "Class 413.0 not in this set!\n",
      "Class 414.0 not in this set!\n",
      "Class 415.0 not in this set!\n",
      "Class 416.0 not in this set!\n",
      "Class 417.0 precision = 0.0\n",
      "Class 417.0 recall = 0.0\n",
      "Class 417.0 F1 Measure = 0.0\n",
      "Class 418.0 not in this set!\n",
      "Class 419.0 not in this set!\n",
      "Class 420.0 not in this set!\n",
      "Class 421.0 precision = 0.0\n",
      "Class 421.0 recall = 0.0\n",
      "Class 421.0 F1 Measure = 0.0\n",
      "Class 422.0 not in this set!\n",
      "Class 423.0 not in this set!\n",
      "Class 424.0 not in this set!\n",
      "Class 425.0 not in this set!\n",
      "Class 426.0 not in this set!\n",
      "Class 427.0 precision = 0.0\n",
      "Class 427.0 recall = 0.0\n",
      "Class 427.0 F1 Measure = 0.0\n",
      "Class 428.0 not in this set!\n",
      "Class 429.0 not in this set!\n",
      "Class 430.0 not in this set!\n",
      "Class 431.0 not in this set!\n",
      "Class 432.0 not in this set!\n",
      "Class 433.0 not in this set!\n",
      "Class 434.0 not in this set!\n",
      "Class 435.0 precision = 0.0\n",
      "Class 435.0 recall = 0.0\n",
      "Class 435.0 F1 Measure = 0.0\n",
      "Class 436.0 not in this set!\n",
      "Class 437.0 not in this set!\n",
      "Class 438.0 not in this set!\n",
      "Class 439.0 not in this set!\n",
      "Class 440.0 not in this set!\n",
      "Class 441.0 not in this set!\n",
      "Class 442.0 not in this set!\n",
      "Class 443.0 not in this set!\n",
      "Class 444.0 not in this set!\n",
      "Class 445.0 not in this set!\n",
      "Class 446.0 not in this set!\n",
      "Class 447.0 not in this set!\n",
      "Class 448.0 not in this set!\n",
      "Class 449.0 not in this set!\n",
      "Class 450.0 not in this set!\n",
      "Class 451.0 not in this set!\n",
      "Class 452.0 precision = 0.0\n",
      "Class 452.0 recall = 0.0\n",
      "Class 452.0 F1 Measure = 0.0\n",
      "Class 453.0 not in this set!\n",
      "Class 454.0 precision = 0.0\n",
      "Class 454.0 recall = 0.0\n",
      "Class 454.0 F1 Measure = 0.0\n",
      "Class 455.0 not in this set!\n",
      "Class 456.0 not in this set!\n",
      "Class 457.0 not in this set!\n",
      "Class 458.0 not in this set!\n",
      "Class 459.0 not in this set!\n",
      "Class 460.0 not in this set!\n",
      "Class 461.0 not in this set!\n",
      "Class 462.0 not in this set!\n",
      "Class 463.0 not in this set!\n",
      "Class 464.0 not in this set!\n",
      "Class 465.0 not in this set!\n",
      "Class 466.0 not in this set!\n",
      "Class 467.0 not in this set!\n",
      "Class 468.0 not in this set!\n",
      "Class 469.0 not in this set!\n",
      "Class 470.0 not in this set!\n",
      "Class 471.0 not in this set!\n",
      "Class 472.0 not in this set!\n",
      "Class 473.0 not in this set!\n",
      "Class 474.0 not in this set!\n",
      "Class 475.0 not in this set!\n",
      "Class 476.0 not in this set!\n",
      "Class 477.0 not in this set!\n",
      "Class 478.0 precision = 0.0\n",
      "Class 478.0 recall = 0.0\n",
      "Class 478.0 F1 Measure = 0.0\n",
      "Class 479.0 not in this set!\n",
      "Class 480.0 not in this set!\n",
      "Class 481.0 not in this set!\n",
      "Class 482.0 not in this set!\n",
      "Class 483.0 not in this set!\n",
      "Class 484.0 not in this set!\n",
      "Class 485.0 precision = 0.0\n",
      "Class 485.0 recall = 0.0\n",
      "Class 485.0 F1 Measure = 0.0\n",
      "Class 486.0 not in this set!\n",
      "Class 487.0 not in this set!\n",
      "Class 488.0 not in this set!\n",
      "Class 489.0 not in this set!\n",
      "Class 490.0 not in this set!\n",
      "Class 491.0 not in this set!\n",
      "Class 492.0 not in this set!\n",
      "Class 493.0 not in this set!\n",
      "Class 494.0 not in this set!\n",
      "Class 495.0 not in this set!\n",
      "Class 496.0 not in this set!\n",
      "Class 497.0 not in this set!\n",
      "Class 498.0 not in this set!\n",
      "Class 499.0 not in this set!\n"
     ]
    }
   ],
   "source": [
    "from pyspark.mllib.evaluation import MulticlassMetrics\n",
    "\n",
    "\n",
    "def print_metrics(results_df, ground_truth_col='tag_idx', prediction_col='prediction'):\n",
    "    labels_and_predictions = results_df.select([ground_truth_col, prediction_col])\n",
    "    # Instantiate metrics object\n",
    "    metrics = MulticlassMetrics(labels_and_predictions.rdd)\n",
    "    # Overall statistics\n",
    "    precision = metrics.precision(1.0)\n",
    "    recall = metrics.recall(1.0)\n",
    "    f1Score = metrics.fMeasure(1.0)\n",
    "    print(\"Summary Stats\")\n",
    "    print(\"Precision = %s\" % precision)\n",
    "    print(\"Recall = %s\" % recall)\n",
    "    print(\"F1 Score = %s\" % f1Score)\n",
    "    # Weighted stats\n",
    "    print(\"Weighted recall = %s\" % metrics.weightedRecall)\n",
    "    print(\"Weighted precision = %s\" % metrics.weightedPrecision)\n",
    "    print(\"Weighted F(1) Score = %s\" % metrics.weightedFMeasure())\n",
    "    print(\"Weighted F(0.5) Score = %s\" % metrics.weightedFMeasure(beta=0.5))\n",
    "    print(\"Weighted false positive rate = %s\" % metrics.weightedFalsePositiveRate)\n",
    "\n",
    "    # Statistics by class\n",
    "    labels = df.rdd.map(lambda lp: lp.tag_idx).distinct().collect()\n",
    "    # print(labels)\n",
    "    for label in sorted(labels):\n",
    "        try:\n",
    "            print(\"Class %s precision = %s\" % (label, metrics.precision(label)))\n",
    "            print(\"Class %s recall = %s\" % (label, metrics.recall(label)))\n",
    "            print(\"Class %s F1 Measure = %s\" % (label, metrics.fMeasure(label, beta=1.0)))\n",
    "        except: \n",
    "            print(\"Class %s not in this set!\" % (label))\n",
    "\n",
    "print_metrics(top_df)"
   ]
  },
  {
   "cell_type": "code",
   "execution_count": 34,
   "metadata": {},
   "outputs": [],
   "source": [
    "from pyspark.mllib.evaluation import MulticlassMetrics\n",
    "import pandas as pd\n",
    "\n",
    "\n",
    "def get_label_metrics(results_df, ground_truth_col='tag_idx', prediction_col='prediction'):\n",
    "    \"\"\"Get pandas dataframe of top 10 tags with metrics from top_df\n",
    "\n",
    "    Params: \n",
    "        results_df (pyspark DataFrame): top_df to get metrics of\n",
    "\n",
    "    Returns:\n",
    "        (pd.DataFrame): pandas dataframe in form of {column: [row_data]} for plotting\n",
    "    \"\"\"\n",
    "    labels_and_predictions = results_df.select([ground_truth_col, prediction_col])\n",
    "    # Instantiate metrics object\n",
    "    metrics = MulticlassMetrics(labels_and_predictions.rdd)\n",
    "\n",
    "    #get dict of labels to plot\n",
    "    label_metrics = {}\n",
    "\n",
    "    # Statistics by class\n",
    "    labels = df.rdd.map(lambda lp: lp.tag_idx).distinct().collect()\n",
    "    # print(labels)\n",
    "    for label in sorted(labels):\n",
    "        prec_recall_fMeasure = ()\n",
    "        try:\n",
    "            prec = metrics.precision(label)\n",
    "            recall = metrics.recall(label)\n",
    "            fMeasure = metrics.fMeasure(label, beta=1.0)\n",
    "            prec_recall_fMeasure = (fMeasure, prec, recall) \n",
    "            label_metrics[label] = prec_recall_fMeasure\n",
    "        except: \n",
    "            label_metrics[label] = (0,0,0)\n",
    "\n",
    "    # get tags in string form: \n",
    "    tags = results_df.select(['tag', 'tag_idx']).distinct().collect()\n",
    "    tag_pairs = {x['tag_idx']: x['tag'] for x in tags}\n",
    "\n",
    "    # Convert tag classes into strings \n",
    "    tag_metrics = {}\n",
    "    for tag_index in tag_pairs: \n",
    "        tag_metrics[tag_pairs[tag_index]] = label_metrics[tag_index]\n",
    "\n",
    "    # Top 10 tags\n",
    "    top_10_tags = sorted(tag_metrics, key=lambda x: tag_metrics[x][0], reverse=True)[:10]\n",
    "\n",
    "    # Get ready for plotting\n",
    "    plot_dict = {}\n",
    "    tag_list = []\n",
    "    f1_list = []\n",
    "    precision_list = []\n",
    "    recall_list = []\n",
    "\n",
    "    for tag in top_10_tags:\n",
    "        tag_list.append(tag)\n",
    "        f1_list.append(tag_metrics[tag][0])\n",
    "        precision_list.append(tag_metrics[tag][1])\n",
    "        recall_list.append(tag_metrics[tag][2])\n",
    "\n",
    "    plot_df = pd.DataFrame({\"Tag\": tag_list, \"F1Measure\": f1_list, \"Precision\":precision_list, \"Recall\":recall_list})\n",
    "    \n",
    "    return plot_df"
   ]
  },
  {
   "cell_type": "code",
   "execution_count": 35,
   "metadata": {},
   "outputs": [
    {
     "name": "stdout",
     "output_type": "stream",
     "text": [
      "              Tag  F1Measure  Precision    Recall\n",
      "0          arrays   0.470588   0.711864  0.351464\n",
      "1           mysql   0.443439   0.780876  0.309637\n",
      "2             css   0.443089   0.648810  0.336420\n",
      "3           regex   0.431535   0.514851  0.371429\n",
      "4  multithreading   0.419890   0.622951  0.316667\n",
      "5            linq   0.415842   0.600000  0.318182\n",
      "6       templates   0.410256   0.432432  0.390244\n",
      "7             xml   0.407609   0.681818  0.290698\n",
      "8         eclipse   0.376344   0.479452  0.309735\n",
      "9          jquery   0.374424   0.788835  0.245468\n"
     ]
    }
   ],
   "source": [
    "plot_df = get_label_metrics(top_df)\n",
    "print(plot_df)"
   ]
  },
  {
   "cell_type": "code",
   "execution_count": 36,
   "metadata": {},
   "outputs": [
    {
     "name": "stderr",
     "output_type": "stream",
     "text": [
      "\n",
      "Bad key \"text.kerning_factor\" on line 4 in\n",
      "/Users/kailunzhang/opt/anaconda3/lib/python3.7/site-packages/matplotlib/mpl-data/stylelib/_classic_test_patch.mplstyle.\n",
      "You probably need to get an updated matplotlibrc file from\n",
      "https://github.com/matplotlib/matplotlib/blob/v3.1.3/matplotlibrc.template\n",
      "or from the matplotlib source distribution\n",
      "/Users/kailunzhang/opt/anaconda3/lib/python3.7/site-packages/ipykernel_launcher.py:5: UserWarning: Matplotlib is currently using module://ipykernel.pylab.backend_inline, which is a non-GUI backend, so cannot show the figure.\n",
      "  \"\"\"\n"
     ]
    },
    {
     "data": {
      "image/png": "[encoded data removed]",
      "text/plain": [
       "<Figure size 1296x864 with 1 Axes>"
      ]
     },
     "metadata": {
      "needs_background": "light"
     },
     "output_type": "display_data"
    }
   ],
   "source": [
    "import matplotlib.pyplot as plt\n",
    "import seaborn as sns\n",
    "fig, ax = plt.subplots(nrows=1, ncols=1, figsize=[18,12])\n",
    "sns.barplot(x=\"Tag\", y=\"F1Measure\", data=plot_df, ax=ax)\n",
    "fig.show()"
   ]
  },
  {
   "cell_type": "code",
   "execution_count": 37,
   "metadata": {},
   "outputs": [
    {
     "name": "stderr",
     "output_type": "stream",
     "text": [
      "/Users/kailunzhang/opt/anaconda3/lib/python3.7/site-packages/ipykernel_launcher.py:5: UserWarning: Matplotlib is currently using module://ipykernel.pylab.backend_inline, which is a non-GUI backend, so cannot show the figure.\n",
      "  \"\"\"\n"
     ]
    },
    {
     "data": {
      "image/png": "[encoded data removed]",
      "text/plain": [
       "<Figure size 1296x864 with 1 Axes>"
      ]
     },
     "metadata": {
      "needs_background": "light"
     },
     "output_type": "display_data"
    }
   ],
   "source": [
    "import matplotlib.pyplot as plt\n",
    "import seaborn as sns\n",
    "fig, ax = plt.subplots(nrows=1, ncols=1, figsize=[18,12])\n",
    "sns.barplot(x=\"Tag\", y=\"Precision\", data=plot_df, ax=ax)\n",
    "fig.show()"
   ]
  },
  {
   "cell_type": "code",
   "execution_count": 38,
   "metadata": {},
   "outputs": [
    {
     "name": "stderr",
     "output_type": "stream",
     "text": [
      "/Users/kailunzhang/opt/anaconda3/lib/python3.7/site-packages/ipykernel_launcher.py:5: UserWarning: Matplotlib is currently using module://ipykernel.pylab.backend_inline, which is a non-GUI backend, so cannot show the figure.\n",
      "  \"\"\"\n"
     ]
    },
    {
     "data": {
      "image/png": "[encoded data removed]",
      "text/plain": [
       "<Figure size 1296x864 with 1 Axes>"
      ]
     },
     "metadata": {
      "needs_background": "light"
     },
     "output_type": "display_data"
    }
   ],
   "source": [
    "import matplotlib.pyplot as plt\n",
    "import seaborn as sns\n",
    "fig, ax = plt.subplots(nrows=1, ncols=1, figsize=[18,12])\n",
    "sns.barplot(x=\"Tag\", y=\"Recall\", data=plot_df, ax=ax)\n",
    "fig.show()"
   ]
  },
  {
   "cell_type": "code",
   "execution_count": 39,
   "metadata": {},
   "outputs": [
    {
     "name": "stderr",
     "output_type": "stream",
     "text": [
      "/Users/kailunzhang/opt/anaconda3/lib/python3.7/site-packages/ipykernel_launcher.py:9: UserWarning: Matplotlib is currently using module://ipykernel.pylab.backend_inline, which is a non-GUI backend, so cannot show the figure.\n",
      "  if __name__ == '__main__':\n"
     ]
    },
    {
     "data": {
      "image/png": "[encoded data removed]",
      "text/plain": [
       "<Figure size 1296x864 with 1 Axes>"
      ]
     },
     "metadata": {
      "needs_background": "light"
     },
     "output_type": "display_data"
    }
   ],
   "source": [
    "\n",
    "lr_trad = 0.187\n",
    "\n",
    "rf_trad = 0.247\n",
    "this_dict = {'Models': [\"LR\", \"RF\"], \"F1\": [lr_trad, rf_trad]}\n",
    "\n",
    "seaborn_df = pd.DataFrame.from_dict(this_dict)\n",
    "fig, ax = plt.subplots(nrows=1, ncols=1, figsize=[18,12])\n",
    "sns.barplot(x=\"Models\", y=\"F1\", data=seaborn_df, ax =ax)\n",
    "fig.show()"
   ]
  },
  {
   "cell_type": "code",
   "execution_count": null,
   "metadata": {},
   "outputs": [],
   "source": []
  }
 ],
 "metadata": {
  "application/vnd.databricks.v1+notebook": {
   "dashboards": [],
   "language": "python",
   "notebookName": "Machine Learning Training and Predictions",
   "notebookOrigID": 3436719999264986,
   "widgets": {}
  },
  "kernelspec": {
   "display_name": "Python 3",
   "language": "python",
   "name": "python3"
  },
  "language_info": {
   "codemirror_mode": {
    "name": "ipython",
    "version": 3
   },
   "file_extension": ".py",
   "mimetype": "text/x-python",
   "name": "python",
   "nbconvert_exporter": "python",
   "pygments_lexer": "ipython3",
   "version": "3.7.6"
  }
 },
 "nbformat": 4,
 "nbformat_minor": 1
}
