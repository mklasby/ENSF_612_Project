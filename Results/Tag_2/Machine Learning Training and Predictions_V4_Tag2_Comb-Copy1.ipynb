{
 "cells": [
  {
   "cell_type": "markdown",
   "metadata": {
    "application/vnd.databricks.v1+cell": {
     "inputWidgets": {},
     "nuid": "94bcd22c-af1c-4217-8d42-b3e7834f4512",
     "showTitle": false,
     "title": ""
    }
   },
   "source": [
    "# Model training and predictions \n",
    "### Read from file and data cleaning"
   ]
  },
  {
   "cell_type": "code",
   "execution_count": 1,
   "metadata": {},
   "outputs": [],
   "source": [
    "from pyspark.sql import SparkSession\n",
    "spark  = SparkSession.builder.appName('App').config(\"spark.driver.memory\", \"14g\").getOrCreate()"
   ]
  },
  {
   "cell_type": "code",
   "execution_count": 2,
   "metadata": {},
   "outputs": [
    {
     "name": "stdout",
     "output_type": "stream",
     "text": [
      "[('spark.rdd.compress', 'True'), ('spark.app.name', 'App'), ('spark.serializer.objectStreamReset', '100'), ('spark.master', 'local[*]'), ('spark.submit.pyFiles', ''), ('spark.executor.id', 'driver'), ('spark.submit.deployMode', 'client'), ('spark.app.id', 'local-1607753514944'), ('spark.driver.port', '49773'), ('spark.driver.memory', '14g'), ('spark.driver.host', 'kailundembp.hitronhub.home'), ('spark.ui.showConsoleProgress', 'true')]\n"
     ]
    }
   ],
   "source": [
    "print(spark.sparkContext._conf.getAll())"
   ]
  },
  {
   "cell_type": "code",
   "execution_count": 3,
   "metadata": {},
   "outputs": [],
   "source": [
    "\"\"\" NOTE: If prepared data exists, load it here: \n",
    "\"\"\"\n",
    "\n",
    "test_df = spark.read.parquet(\"test_df_tag2\")\n",
    "test_df = test_df.repartition(16)\n",
    "train_df = spark.read.parquet(\"train_df_tag2\")\n",
    "train_df = train_df.repartition(16)"
   ]
  },
  {
   "cell_type": "code",
   "execution_count": 2,
   "metadata": {
    "application/vnd.databricks.v1+cell": {
     "inputWidgets": {},
     "nuid": "065feedb-a74d-4330-adc9-cc9ad5f84691",
     "showTitle": false,
     "title": ""
    }
   },
   "outputs": [],
   "source": [
    "# File location and type\n",
    "file_location = \"sample_comb2.csv\"\n",
    "\n",
    "# CSV options\n",
    "infer_schema = \"true\"\n",
    "first_row_is_header = \"true\"\n",
    "delimiter = \",\"\n",
    "multiline = \"true\"\n",
    "escape = \"\\\"\"\n",
    "\n",
    "# The applied options are for CSV files. For other file types, these will be ignored.\n",
    "df = spark.read.csv(file_location,\n",
    "                  inferSchema = infer_schema, \n",
    "                  sep = delimiter, \n",
    "                  header = first_row_is_header, \n",
    "                  multiLine = multiline, \n",
    "                  escape = escape)\n",
    "df = df.repartition(16)"
   ]
  },
  {
   "cell_type": "code",
   "execution_count": 6,
   "metadata": {},
   "outputs": [
    {
     "name": "stdout",
     "output_type": "stream",
     "text": [
      "+--------------------+--------------------+------------------+\n",
      "|                Body|               Title|               tag|\n",
      "+--------------------+--------------------+------------------+\n",
      "|<p>My code looks ...|Ambiguous Overloa...|            string|\n",
      "|<p>I'm getting</p...|Entity framework ...|entity-framework-4|\n",
      "|<p>I disable a bu...|setEnabled Not wo...|       objective-c|\n",
      "|<p>i have just do...|Oxite Blog Engine...|     asp.net-mvc-2|\n",
      "|<p>Note - I have ...|Is the iPhone \"cr...|              cron|\n",
      "|<p>I have an issu...|How to send a ses...|              ajax|\n",
      "|<p>Why are we usi...|Why are we using ...|             loops|\n",
      "|<p>Can any one sh...|   C# and PostgreSQL|              .net|\n",
      "|<p>I am building ...|A Binary choice b...|              .net|\n",
      "|<p>I know multipl...|How do I loop the...|       objective-c|\n",
      "|<p>The title sums...|How to build Goog...|     serialization|\n",
      "|<p>I am developin...|No file creation/...|              file|\n",
      "|<p>I want my face...|Is there a way to...|            iframe|\n",
      "|<p>I have a small...|How will the URL ...|       mod-rewrite|\n",
      "|<p>Eclipse is aut...|Eclipse is auto-c...|           eclipse|\n",
      "|<p>I am using asp...|Reliable Way to g...|           asp.net|\n",
      "|<p>I need to writ...|Print full call s...|           logging|\n",
      "|<p>So what I'm tr...|Getting My JavaSc...|        javascript|\n",
      "|<p>How can I chan...|how to change the...|            ubuntu|\n",
      "|<p>I think in the...|When deploying py...|         webserver|\n",
      "+--------------------+--------------------+------------------+\n",
      "only showing top 20 rows\n",
      "\n"
     ]
    }
   ],
   "source": [
    "df.show()"
   ]
  },
  {
   "cell_type": "markdown",
   "metadata": {
    "application/vnd.databricks.v1+cell": {
     "inputWidgets": {},
     "nuid": "e54dae11-6071-4213-b321-82dceaf39d26",
     "showTitle": false,
     "title": ""
    }
   },
   "source": [
    "### Indexing tags in both test and train data sets"
   ]
  },
  {
   "cell_type": "code",
   "execution_count": 8,
   "metadata": {
    "application/vnd.databricks.v1+cell": {
     "inputWidgets": {},
     "nuid": "e5db86d3-2799-44dd-8d9e-561f2ca04ce9",
     "showTitle": false,
     "title": ""
    }
   },
   "outputs": [],
   "source": [
    "from pyspark.ml.feature import StringIndexer\n",
    "\n",
    "#Encode tag's using String indexer\n",
    "\n",
    "tag_idx = StringIndexer(inputCol='tag', outputCol = 'tag_idx')\n",
    "tag_encode = tag_idx.fit(df)\n",
    "df = tag_encode.transform(df)"
   ]
  },
  {
   "cell_type": "code",
   "execution_count": 8,
   "metadata": {
    "application/vnd.databricks.v1+cell": {
     "inputWidgets": {},
     "nuid": "289fe291-d258-4f3e-bedd-9df37a585581",
     "showTitle": false,
     "title": ""
    }
   },
   "outputs": [
    {
     "data": {
      "text/plain": [
       "99831"
      ]
     },
     "execution_count": 8,
     "metadata": {},
     "output_type": "execute_result"
    }
   ],
   "source": [
    "df.count()"
   ]
  },
  {
   "cell_type": "markdown",
   "metadata": {
    "application/vnd.databricks.v1+cell": {
     "inputWidgets": {},
     "nuid": "b3048eeb-1785-4ae8-a074-cb7005a17ce8",
     "showTitle": false,
     "title": ""
    }
   },
   "source": [
    "### Split test/train sets"
   ]
  },
  {
   "cell_type": "code",
   "execution_count": 9,
   "metadata": {
    "application/vnd.databricks.v1+cell": {
     "inputWidgets": {},
     "nuid": "8169090a-d13a-4424-ab48-9d2c4c441fcd",
     "showTitle": false,
     "title": ""
    }
   },
   "outputs": [],
   "source": [
    "TRAINING_DATA_RATIO = 0.9\n",
    "RANDOM_SEED = 1234\n",
    "\n",
    "splits = [TRAINING_DATA_RATIO, 1.0 - TRAINING_DATA_RATIO]\n",
    "training_data, test_data = df.randomSplit(splits, RANDOM_SEED)"
   ]
  },
  {
   "cell_type": "code",
   "execution_count": 10,
   "metadata": {
    "application/vnd.databricks.v1+cell": {
     "inputWidgets": {},
     "nuid": "bd817135-9e82-41b1-9b31-eb29175e2b33",
     "showTitle": false,
     "title": ""
    }
   },
   "outputs": [
    {
     "name": "stdout",
     "output_type": "stream",
     "text": [
      "Number of training set rows: 89911\n",
      "Number of test set rows: 9920\n"
     ]
    }
   ],
   "source": [
    "print(\"Number of training set rows: %d\" % training_data.count())\n",
    "print(\"Number of test set rows: %d\" % test_data.count())"
   ]
  },
  {
   "cell_type": "markdown",
   "metadata": {
    "application/vnd.databricks.v1+cell": {
     "inputWidgets": {},
     "nuid": "a04fd838-ed54-4370-a033-eee96911d62c",
     "showTitle": false,
     "title": ""
    }
   },
   "source": [
    "# Preprocessing "
   ]
  },
  {
   "cell_type": "code",
   "execution_count": 11,
   "metadata": {},
   "outputs": [
    {
     "name": "stderr",
     "output_type": "stream",
     "text": [
      "[nltk_data] Downloading package punkt to\n",
      "[nltk_data]     /Users/kailunzhang/nltk_data...\n",
      "[nltk_data]   Package punkt is already up-to-date!\n",
      "[nltk_data] Downloading package stopwords to\n",
      "[nltk_data]     /Users/kailunzhang/nltk_data...\n",
      "[nltk_data]   Package stopwords is already up-to-date!\n"
     ]
    }
   ],
   "source": [
    "from bs4 import BeautifulSoup\n",
    "import nltk\n",
    "nltk.download('punkt')\n",
    "nltk.download('stopwords')\n",
    "from nltk.corpus import stopwords\n",
    "stop_en = stopwords.words('english')\n",
    "from nltk.tokenize import sent_tokenize\n",
    "from nltk.tokenize import word_tokenize\n",
    "from nltk.stem import PorterStemmer\n",
    "from nltk.tokenize import RegexpTokenizer\n",
    "from pyspark.sql.functions import *\n",
    "from pyspark.sql.types import *\n",
    "from pyspark.ml.feature import RegexTokenizer\n",
    "\n",
    "\"\"\" Helper functions for preprocessing. TODO: Consider wrapping into class below?\n",
    "\"\"\"\n",
    "\n",
    "@udf(\"String\")\n",
    "def lazy_prep_udf(c):\n",
    "  \"\"\"\n",
    "  Clean noises from the string of text in given column\n",
    "\n",
    "  Args:\n",
    "    c - Column containing string of text\n",
    "\n",
    "  Returns:\n",
    "    Column with the cleaned string of text\n",
    "  \"\"\"\n",
    "  df = BeautifulSoup(c)\n",
    "  \n",
    "  #noise\n",
    "  urls = df.find_all('a')\n",
    "  if urls != None:\n",
    "    if len(urls)>0: \n",
    "      df.a.clear()\n",
    "  \n",
    "  return df.get_text().lower()\n",
    "\n",
    "def tokenize(df, inputCol, outputCol):\n",
    "  \"\"\"\n",
    "Split string of text in dataframe to word tokens.\n",
    "\n",
    "Args:\n",
    "  @param df Dataframe containing string of text\n",
    "  @param inputCol name of input column containin the string of texts\n",
    "  @param outputCol name of output column containin the word tokens\n",
    "  \n",
    "Returns:\n",
    "  Dataframe containing the output column and the input column is dropped\n",
    "\"\"\"\n",
    "  tokenizer = RegexTokenizer(inputCol = inputCol, outputCol = outputCol, pattern=r\"\\s+\") \n",
    "  df = tokenizer.transform(df).drop(inputCol)\n",
    "  return df\n",
    "\n",
    "def remove_punc(text):\n",
    "  \"\"\"Removes all punctuation marks from text.\n",
    "  Args: \n",
    "    text (String): text column to convert \n",
    "  Returns:\n",
    "    String.sql.Row: text w.o punctuation \n",
    "  \"\"\"\n",
    "  mod_punc = '!\"$%&\\'()*,-./:;<=>?@[\\\\]^_`{|}~'\n",
    "  text = text.translate(str.maketrans(' ', ' ', mod_punc))\n",
    "  return text.strip()\n",
    "\n",
    "\n",
    "def remove_num(text):\n",
    "  \"\"\"Removes all numbers from text.\n",
    "  Args: \n",
    "    text (String): text column to convert \n",
    "  Returns:\n",
    "    String: text w.o numbers \n",
    "  \"\"\"\n",
    "  numbers=\"0123456789\"\n",
    "  text = text.translate(str.maketrans(' ', ' ', numbers))\n",
    "  return text.strip()\n",
    "\n",
    "\n",
    "  from nltk.tokenize import RegexpTokenizer \n",
    "\n",
    "@udf(\"String\")\n",
    "def trad_prep_udf(body):\n",
    "  \"\"\"Traditional body text preprocessing pieline. \n",
    "  Args: \n",
    "    text (pyspark.sql.Row): Text String to process\n",
    "  Returns: \n",
    "    pyspark.sql.Row.ArrayType: cleaned tokens \n",
    "  \"\"\"\n",
    "  body = BeautifulSoup(body)\n",
    "  stemmer = PorterStemmer()\n",
    "  \n",
    "  #noise\n",
    "  urls = body.find_all('a')\n",
    "  if len(urls)>0: \n",
    "    body.a.clear()\n",
    "  \n",
    "  text = body.get_text()\n",
    "  \n",
    "  words = []\n",
    "  text = text.lower()\n",
    "\n",
    "  tokenizer = RegexpTokenizer(r'\\w+')\n",
    "  # text = remove_punc(text)\n",
    "  # text = remove_num(text)\n",
    "  sents=tokenizer.tokenize(text)\n",
    "  for sent in sents: \n",
    "    for word in nltk.word_tokenize(sent):\n",
    "      if word in stop_en: continue\n",
    "      # if len(word) < 3: continue\n",
    "      words.append(stemmer.stem(word))\n",
    "  return \" \".join(words)\n",
    "\n",
    "\n",
    "  \"\"\"\n",
    "Combine word tokens from title and body.\n",
    "\n",
    "Args:\n",
    "  df1 Dataframe containing Column with lists of stemmed word tokens from title\n",
    "  inputCol1 name of the column containing lists of stemmed word tokens from title, cannot be same as inputCol2\n",
    "  df2 Dataframe containing Column with lists of stemmed word tokens from body\n",
    "  inputCol2 name of the column containing lists of stemmed word tokens from body, cannot be same as inputCol2\n",
    "  outputCol column name of the ouput column containing the combined list of word tokens from title and body\n",
    "\"\"\"\n",
    "def combine_tokens(df, inputCol1, inputCol2, outputCol):\n",
    "  result = df.withColumn(outputCol, concat(col(inputCol1), col(inputCol2)))\n",
    "  return result"
   ]
  },
  {
   "cell_type": "code",
   "execution_count": 12,
   "metadata": {
    "application/vnd.databricks.v1+cell": {
     "inputWidgets": {},
     "nuid": "0a396fbd-bd45-42c9-9e63-4625969c443d",
     "showTitle": false,
     "title": ""
    }
   },
   "outputs": [],
   "source": [
    "class Preprocessing:\n",
    "  \"\"\"Preprocessing stackoverflow question by remove html tags and tokenize words\"\"\"\n",
    "  \n",
    "  def __init__(self, df, titleCol, bodyCol):\n",
    "    \"\"\"\n",
    "    Construct a Proprocessing object with attribute df: df cleans the text string in the given df using either lazy or traditional preprocessing\n",
    "    \"\"\"\n",
    "    df = df.withColumn(\"Lazy_Title\", lazy_prep_udf( df[titleCol] ) )\n",
    "    df = df.withColumn(\"Lazy_Body\", lazy_prep_udf( df[bodyCol] ) )\n",
    "    df = df.withColumn(\"Trad_Title\", trad_prep_udf( df[titleCol] ) )\n",
    "    self.df = df.withColumn(\"Trad_Body\", trad_prep_udf( df[bodyCol] ) )\n",
    "\n",
    "  def get_token(self):\n",
    "    self.df = tokenize(self.df, \"Lazy_Title\", 'Lazy_Title_Tokens')\n",
    "    self.df = tokenize(self.df, \"Lazy_Body\", 'Lazy_Body_Tokens')\n",
    "    self.df = tokenize(self.df, \"Trad_Title\", 'Trad_Title_Tokens')\n",
    "    self.df = tokenize(self.df, \"Trad_Body\", 'Trad_Body_Tokens')\n",
    "    return self.df"
   ]
  },
  {
   "cell_type": "code",
   "execution_count": 77,
   "metadata": {},
   "outputs": [],
   "source": [
    "#Pre-processing the data\n",
    "preProcessing = Preprocessing(df, \"Title\", \"Body\")\n",
    "df_data = preProcessing.get_token()"
   ]
  },
  {
   "cell_type": "code",
   "execution_count": 78,
   "metadata": {},
   "outputs": [
    {
     "name": "stdout",
     "output_type": "stream",
     "text": [
      "+--------------+-----+\n",
      "|           tag|count|\n",
      "+--------------+-----+\n",
      "|        jquery| 3911|\n",
      "|          .net| 2546|\n",
      "|         mysql| 2388|\n",
      "|       asp.net| 2021|\n",
      "|          html| 1905|\n",
      "|           css| 1765|\n",
      "|   objective-c| 1758|\n",
      "|           ios| 1691|\n",
      "|       android| 1466|\n",
      "|    javascript| 1153|\n",
      "|        arrays| 1139|\n",
      "|           sql| 1106|\n",
      "|         regex| 1075|\n",
      "|           xml|  991|\n",
      "|          ruby|  967|\n",
      "|    sql-server|  920|\n",
      "|           wpf|  801|\n",
      "|      database|  790|\n",
      "|multithreading|  767|\n",
      "|       windows|  762|\n",
      "+--------------+-----+\n",
      "only showing top 20 rows\n",
      "\n"
     ]
    }
   ],
   "source": [
    "from pyspark.sql.functions import desc, col\n",
    "\n",
    "tag_counts = df.select('tag').groupby('tag').count().sort(desc('count'))\n",
    "tag_counts.sort(col('count').desc()).show()"
   ]
  },
  {
   "cell_type": "code",
   "execution_count": 79,
   "metadata": {},
   "outputs": [],
   "source": [
    "body_counts = df_data.select('Trad_Body_Tokens').rdd.flatMap(lambda l : [(w,1) for w in l.Trad_Body_Tokens]).reduceByKey(lambda a,b: a+b).collect()\n",
    "body_counts.sort(key=lambda tup: -tup[1])"
   ]
  },
  {
   "cell_type": "code",
   "execution_count": 80,
   "metadata": {},
   "outputs": [
    {
     "data": {
      "text/plain": [
       "[('0', 99584),\n",
       " ('use', 96038),\n",
       " ('1', 93425),\n",
       " ('new', 56676),\n",
       " ('get', 55132),\n",
       " ('class', 54582),\n",
       " ('file', 53863),\n",
       " ('id', 52945),\n",
       " ('name', 50970),\n",
       " ('2', 49484)]"
      ]
     },
     "metadata": {},
     "output_type": "display_data"
    }
   ],
   "source": [
    "display(body_counts[:10])"
   ]
  },
  {
   "cell_type": "code",
   "execution_count": 81,
   "metadata": {},
   "outputs": [],
   "source": [
    "title_counts = df_data.select('Trad_Title_Tokens').rdd.flatMap(lambda l : [(w,1) for w in l.Trad_Title_Tokens]).reduceByKey(lambda a,b: a+b).collect()\n",
    "title_counts.sort(key=lambda tup: -tup[1])"
   ]
  },
  {
   "cell_type": "code",
   "execution_count": 82,
   "metadata": {},
   "outputs": [
    {
     "data": {
      "text/plain": [
       "[('use', 9969),\n",
       " ('file', 5649),\n",
       " ('c', 5208),\n",
       " ('get', 4318),\n",
       " ('jqueri', 4240),\n",
       " ('php', 4086),\n",
       " ('error', 3427),\n",
       " ('net', 3378),\n",
       " ('data', 3318),\n",
       " ('android', 3201)]"
      ]
     },
     "metadata": {},
     "output_type": "display_data"
    }
   ],
   "source": [
    "display(title_counts[:10])"
   ]
  },
  {
   "cell_type": "code",
   "execution_count": null,
   "metadata": {},
   "outputs": [],
   "source": []
  },
  {
   "cell_type": "code",
   "execution_count": 13,
   "metadata": {
    "application/vnd.databricks.v1+cell": {
     "inputWidgets": {},
     "nuid": "7578aed6-f212-4f34-a64b-e7932436a2c3",
     "showTitle": false,
     "title": ""
    }
   },
   "outputs": [],
   "source": [
    "#Pre-processing the data\n",
    "preProcessing = Preprocessing(test_data, \"Title\", \"Body\")\n",
    "test_data = preProcessing.get_token()\n",
    "preProcessing = Preprocessing(training_data, \"Title\", \"Body\")\n",
    "training_data = preProcessing.get_token()\n"
   ]
  },
  {
   "cell_type": "markdown",
   "metadata": {
    "application/vnd.databricks.v1+cell": {
     "inputWidgets": {},
     "nuid": "4625edde-dab5-4a10-8f95-288b6987da53",
     "showTitle": false,
     "title": ""
    }
   },
   "source": [
    "# Machine Learning Data Preparation"
   ]
  },
  {
   "cell_type": "markdown",
   "metadata": {
    "application/vnd.databricks.v1+cell": {
     "inputWidgets": {},
     "nuid": "395ce8e9-2359-4434-aa05-4b6ea45716b5",
     "showTitle": false,
     "title": ""
    }
   },
   "source": [
    "### Feature Engineering"
   ]
  },
  {
   "cell_type": "code",
   "execution_count": 14,
   "metadata": {},
   "outputs": [],
   "source": [
    "from pyspark.ml.feature import CountVectorizer, IDF, NGram, VectorAssembler, StringIndexer, HashingTF\n",
    "from pyspark.ml import Pipeline\n",
    "def feature_engineer():\n",
    "# FOR LAZY PRE-PROCESSING\n",
    "  lazy_body_vector = CountVectorizer(inputCol = 'Lazy_Body_Tokens', outputCol = 'lazy_body_vector', minDF=0.01 , maxDF=0.85)\n",
    "  lazy_title_vector = CountVectorizer(inputCol = 'Lazy_Title_Tokens', outputCol = 'lazy_title_vector', minDF=0.01 , maxDF=0.85)\n",
    "  # FOR TRAD PRE-PROCESSING\n",
    "  trad_body_vector = CountVectorizer(inputCol = 'Trad_Body_Tokens', outputCol = 'trad_body_vector', minDF=0.01 , maxDF=0.99)\n",
    "  trad_title_vector = CountVectorizer(inputCol = 'Trad_Title_Tokens', outputCol = 'trad_title_vector', minDF=0.01 , maxDF=0.99)\n",
    "\n",
    "  lazy_features = VectorAssembler(inputCols=['lazy_body_vector', 'lazy_title_vector'], outputCol='lazy_features')\n",
    "  trad_features = VectorAssembler(inputCols=['trad_body_vector', 'trad_title_vector'], outputCol='trad_features')\n",
    "  pipe = Pipeline(stages=[lazy_body_vector, lazy_title_vector, lazy_features, trad_body_vector, trad_title_vector, trad_features])\n",
    "  pipe_model = pipe.fit(training_data)\n",
    "  train_df = pipe_model.transform(training_data)  \n",
    "  test_df = pipe_model.transform(test_data)\n",
    "  return train_df, test_df"
   ]
  },
  {
   "cell_type": "code",
   "execution_count": 15,
   "metadata": {
    "application/vnd.databricks.v1+cell": {
     "inputWidgets": {},
     "nuid": "ab8d93cb-96cf-4acc-b3f2-df9b062f9d3c",
     "showTitle": false,
     "title": ""
    }
   },
   "outputs": [],
   "source": [
    "train_df, test_df = feature_engineer()"
   ]
  },
  {
   "cell_type": "code",
   "execution_count": 16,
   "metadata": {},
   "outputs": [
    {
     "name": "stdout",
     "output_type": "stream",
     "text": [
      "+--------------------+--------------------+--------------------+\n",
      "|    Trad_Body_Tokens|       trad_features|                Body|\n",
      "+--------------------+--------------------+--------------------+\n",
      "|[possibl, duplic,...|(999,[1,3,12,14,2...|<blockquote>\n",
      "  <p...|\n",
      "|[possibl, duplic,...|(999,[1,14,26,30,...|<blockquote>\n",
      "  <p...|\n",
      "|[possibl, duplic,...|(999,[4,6,85,106,...|<blockquote>\n",
      "  <p...|\n",
      "|[pars, error, syn...|(999,[5,7,8,11,17...|<blockquote>\n",
      "  <p...|\n",
      "|[abstract, write,...|(999,[1,4,10,13,1...|<h3>Abstract</h3>...|\n",
      "|[sum_, n, 1, inft...|(999,[0,1,2,42,43...|<p>$$\\sum_{n=1}^\\...|\n",
      "|[1, see, panelgri...|(999,[2,5,9,13,20...|<p>1) I can see t...|\n",
      "|[seem, work, norm...|(999,[1,10,14,15,...|<p><a href=\"http:...|\n",
      "|[situat, insid, d...|(999,[0,1,3,14,20...|<p><a href=\"http:...|\n",
      "|[mention, includ,...|(999,[31,65,70,76...|<p><a href=\"http:...|\n",
      "|[io, app, contain...|(999,[0,4,7,9,10,...|<p><br>\n",
      "My iOS ap...|\n",
      "|[see, imag, attac...|(999,[1,15,20,28,...|<p><img src=\"http...|\n",
      "|[descript, 2, sys...|(999,[1,9,34,43,4...|<p><strong>Descri...|\n",
      "|[ajax, call, cons...|(999,[1,2,9,17,29...|<p><strong>From  ...|\n",
      "|[updat, 5, 10, 20...|(999,[0,1,2,4,6,9...|<p><strong>UPDATE...|\n",
      "|[imag, pie, chart...|(999,[10,11,14,16...|<p><strong>What I...|\n",
      "|[purpos, question...|(999,[14,20,34,59...|<p><strong>the pu...|\n",
      "|[window, form, ap...|(999,[6,11,18,27,...|<p>A Windows Form...|\n",
      "|[process, system,...|(999,[1,4,6,8,13,...|<p>A process in o...|\n",
      "|[remot, linux, we...|(999,[36,92,101,2...|<p>A remote linux...|\n",
      "+--------------------+--------------------+--------------------+\n",
      "only showing top 20 rows\n",
      "\n"
     ]
    }
   ],
   "source": [
    "test_df.select(\"Trad_Body_Tokens\", \"trad_features\", 'Body').show()"
   ]
  },
  {
   "cell_type": "markdown",
   "metadata": {
    "application/vnd.databricks.v1+cell": {
     "inputWidgets": {},
     "nuid": "53a18ae5-d3d3-42ec-a232-ecaa76765e5a",
     "showTitle": false,
     "title": ""
    }
   },
   "source": [
    "# Model Training"
   ]
  },
  {
   "cell_type": "markdown",
   "metadata": {},
   "source": [
    "## Metrics helper"
   ]
  },
  {
   "cell_type": "code",
   "execution_count": 18,
   "metadata": {},
   "outputs": [],
   "source": [
    "from pyspark.mllib.evaluation import MulticlassMetrics\n",
    "\n",
    "\n",
    "def print_metrics(results_df, by_tag = False, ground_truth_col='tag_idx', prediction_col='prediction'):\n",
    "    labels_and_predictions = results_df.select([ground_truth_col, prediction_col])\n",
    "    # Instantiate metrics object\n",
    "    metrics = MulticlassMetrics(labels_and_predictions.rdd)\n",
    "    # Overall statistics\n",
    "    precision = metrics.precision(1.0)\n",
    "    recall = metrics.recall(1.0)\n",
    "    f1Score = metrics.fMeasure(1.0)\n",
    "    print(\"Summary Stats\")\n",
    "    print(\"Precision = %s\" % precision)\n",
    "    print(\"Recall = %s\" % recall)\n",
    "    print(\"F1 Score = %s\" % f1Score)\n",
    "    # Weighted stats\n",
    "    print(\"Weighted recall = %s\" % metrics.weightedRecall)\n",
    "    print(\"Weighted precision = %s\" % metrics.weightedPrecision)\n",
    "    print(\"Weighted F(1) Score = %s\" % metrics.weightedFMeasure())\n",
    "    print(\"Weighted F(0.5) Score = %s\" % metrics.weightedFMeasure(beta=0.5))\n",
    "    print(\"Weighted false positive rate = %s\" % metrics.weightedFalsePositiveRate)\n",
    "\n",
    "    if by_tag: \n",
    "        # Statistics by class\n",
    "        labels = df.rdd.map(lambda lp: lp.tag_idx).distinct().collect()\n",
    "        # print(labels)\n",
    "        for label in sorted(labels):\n",
    "            try:\n",
    "                print(\"Class %s precision = %s\" % (label, metrics.precision(label)))\n",
    "                print(\"Class %s recall = %s\" % (label, metrics.recall(label)))\n",
    "                print(\"Class %s F1 Measure = %s\" % (label, metrics.fMeasure(label, beta=1.0)))\n",
    "            except: \n",
    "                print(\"Class %s not in this set!\" % (label))"
   ]
  },
  {
   "cell_type": "markdown",
   "metadata": {
    "application/vnd.databricks.v1+cell": {
     "inputWidgets": {},
     "nuid": "b6263fc0-8c15-432e-8e0d-469888daba62",
     "showTitle": false,
     "title": ""
    }
   },
   "source": [
    "## Logistic Regression"
   ]
  },
  {
   "cell_type": "markdown",
   "metadata": {
    "application/vnd.databricks.v1+cell": {
     "inputWidgets": {},
     "nuid": "1de3f3b4-9709-4d78-a507-7c16a5205b28",
     "showTitle": false,
     "title": ""
    }
   },
   "source": [
    "**Hyperparameter Tuning**"
   ]
  },
  {
   "cell_type": "code",
   "execution_count": 19,
   "metadata": {
    "application/vnd.databricks.v1+cell": {
     "inputWidgets": {},
     "nuid": "b2c3a978-fb4a-4668-a140-a94bd71a1cae",
     "showTitle": false,
     "title": ""
    }
   },
   "outputs": [],
   "source": [
    "from pyspark.ml.tuning import TrainValidationSplit, ParamGridBuilder\n",
    "from pyspark.ml.evaluation import MulticlassClassificationEvaluator\n",
    "from pyspark.ml.classification import LogisticRegression\n",
    "from pyspark.ml.feature import IndexToString\n",
    "\n",
    "\n",
    "lr = LogisticRegression(featuresCol = \"trad_features\", labelCol = \"tag_idx\")\n",
    "\n",
    "paramGrid = ParamGridBuilder()\\\n",
    "    .addGrid(lr.regParam, [0, 0.1, 1.0]) \\\n",
    "    .addGrid(lr.fitIntercept, [False, True])\\\n",
    "    .addGrid(lr.elasticNetParam, [0.0, 0.5, 1.0])\\\n",
    "    .build()\n",
    "\n",
    "lr_tvs = TrainValidationSplit(estimator=lr, \n",
    "                          estimatorParamMaps=paramGrid,\n",
    "                          evaluator = MulticlassClassificationEvaluator(labelCol='tag_idx'), \n",
    "                          trainRatio=0.9, \n",
    "                          seed=0\n",
    "                         )\n",
    "\n",
    "lr_grid_search = lr_tvs.fit(train_df)"
   ]
  },
  {
   "cell_type": "code",
   "execution_count": 20,
   "metadata": {},
   "outputs": [
    {
     "name": "stdout",
     "output_type": "stream",
     "text": [
      "Best Param (regParam):  0.0\n",
      "Best Param (elasticNetParam):  0.0\n",
      "Best Param (fitIntercept):  True\n"
     ]
    }
   ],
   "source": [
    "print('Best Param (regParam): ', lr_grid_search.bestModel._java_obj.getRegParam())\n",
    "print('Best Param (elasticNetParam): ', lr_grid_search.bestModel._java_obj.getElasticNetParam())\n",
    "print('Best Param (fitIntercept): ', lr_grid_search.bestModel._java_obj.getFitIntercept())"
   ]
  },
  {
   "cell_type": "markdown",
   "metadata": {
    "application/vnd.databricks.v1+cell": {
     "inputWidgets": {},
     "nuid": "941b6e25-aca0-4396-ac3f-259858856f87",
     "showTitle": false,
     "title": ""
    }
   },
   "source": [
    "**Model training and transformation of test set**"
   ]
  },
  {
   "cell_type": "code",
   "execution_count": null,
   "metadata": {
    "application/vnd.databricks.v1+cell": {
     "inputWidgets": {},
     "nuid": "291c6655-3752-4f6c-a76d-0350712d5709",
     "showTitle": false,
     "title": ""
    }
   },
   "outputs": [],
   "source": [
    "from pyspark.ml.classification import LogisticRegression\n",
    "# Lazy model\n",
    "# lr_lazy = LogisticRegression(featuresCol = \"lazy_features\", labelCol = \"tag_idx\", fitIntercept=False, elasticNetParam=0, regParam=0.01)\n",
    "# lr_lazy_model = lr_lazy.fit(train_df)\n",
    "# lr_lazy_results = lr_lazy_model.transform(test_df)"
   ]
  },
  {
   "cell_type": "code",
   "execution_count": 22,
   "metadata": {
    "application/vnd.databricks.v1+cell": {
     "inputWidgets": {},
     "nuid": "eb12f781-fefa-4701-9e98-1d356a5d04c2",
     "showTitle": false,
     "title": ""
    }
   },
   "outputs": [],
   "source": [
    "from pyspark.ml.classification import LogisticRegression\n",
    "# Trad model\n",
    "lr_trad = LogisticRegression(featuresCol = \"trad_features\", labelCol = \"tag_idx\", fitIntercept=True, elasticNetParam=0.0, regParam=0.0)\n",
    "lr_trad_model = lr_trad.fit(train_df)\n",
    "lr_trad_results = lr_trad_model.transform(test_df)"
   ]
  },
  {
   "cell_type": "markdown",
   "metadata": {
    "application/vnd.databricks.v1+cell": {
     "inputWidgets": {},
     "nuid": "9c89235e-9b48-4f41-b5ec-2def5a0cf989",
     "showTitle": false,
     "title": ""
    }
   },
   "source": [
    "**Performance Metrics**"
   ]
  },
  {
   "cell_type": "code",
   "execution_count": 25,
   "metadata": {
    "application/vnd.databricks.v1+cell": {
     "inputWidgets": {},
     "nuid": "3b5006f9-eca7-4ddc-be08-522eef4f2543",
     "showTitle": false,
     "title": ""
    }
   },
   "outputs": [
    {
     "name": "stdout",
     "output_type": "stream",
     "text": [
      "Summary Stats\n",
      "Precision = 0.09954751131221719\n",
      "Recall = 0.09649122807017543\n",
      "F1 Score = 0.09799554565701557\n",
      "Weighted recall = 0.18538306451612915\n",
      "Weighted precision = 0.19485865722594883\n",
      "Weighted F(1) Score = 0.18693310119681966\n",
      "Weighted F(0.5) Score = 0.19091495662009184\n",
      "Weighted false positive rate = 0.005670633008854041\n"
     ]
    }
   ],
   "source": [
    "# Trad Metrics\n",
    "#lr_trad = LogisticRegression(featuresCol = \"trad_features\", labelCol = \"tag_idx\", fitIntercept=False, elasticNetParam=0.0, regParam=0)\n",
    "print_metrics(lr_trad_results)"
   ]
  },
  {
   "cell_type": "code",
   "execution_count": 26,
   "metadata": {},
   "outputs": [
    {
     "name": "stdout",
     "output_type": "stream",
     "text": [
      "Summary Stats\n",
      "Precision = 0.09954751131221719\n",
      "Recall = 0.09649122807017543\n",
      "F1 Score = 0.09799554565701557\n",
      "Weighted recall = 0.18538306451612915\n",
      "Weighted precision = 0.19485865722594883\n",
      "Weighted F(1) Score = 0.18693310119681966\n",
      "Weighted F(0.5) Score = 0.19091495662009184\n",
      "Weighted false positive rate = 0.005670633008854041\n"
     ]
    }
   ],
   "source": [
    "# Trad Metrics\n",
    "#lr_trad = LogisticRegression(featuresCol = \"trad_features\", labelCol = \"tag_idx\", fitIntercept=False, elasticNetParam=0.0, regParam=0.01)\n",
    "#print_metrics(lr_trad_results)"
   ]
  },
  {
   "cell_type": "markdown",
   "metadata": {
    "application/vnd.databricks.v1+cell": {
     "inputWidgets": {},
     "nuid": "78f66ea8-63e3-414d-a14a-e44c45433e72",
     "showTitle": false,
     "title": ""
    }
   },
   "source": [
    "##Random Forest"
   ]
  },
  {
   "cell_type": "markdown",
   "metadata": {
    "application/vnd.databricks.v1+cell": {
     "inputWidgets": {},
     "nuid": "5f024fa7-1511-46e5-8690-2a760c54b8a4",
     "showTitle": false,
     "title": ""
    }
   },
   "source": [
    "**Model training and transformation of test set**"
   ]
  },
  {
   "cell_type": "code",
   "execution_count": 35,
   "metadata": {
    "application/vnd.databricks.v1+cell": {
     "inputWidgets": {},
     "nuid": "f38f1e78-330a-4efa-8652-f51e24d58002",
     "showTitle": false,
     "title": ""
    }
   },
   "outputs": [],
   "source": [
    "from pyspark.ml.classification import RandomForestClassifier\n",
    "# Trad Model\n",
    "# TODO: Select best hyper parameters\n",
    "rf_trad = RandomForestClassifier(featuresCol = \"trad_features\", labelCol = \"tag_idx\", maxDepth=15, numTrees=15)\n",
    "rf_trad_model = rf_trad.fit(train_df)\n",
    "rf_trad_result = rf_trad_model.transform(test_df)"
   ]
  },
  {
   "cell_type": "markdown",
   "metadata": {
    "application/vnd.databricks.v1+cell": {
     "inputWidgets": {},
     "nuid": "4a6fd10f-777e-4505-86c8-15c116b3a436",
     "showTitle": false,
     "title": ""
    }
   },
   "source": [
    "**Performance Metrics**"
   ]
  },
  {
   "cell_type": "code",
   "execution_count": 37,
   "metadata": {},
   "outputs": [
    {
     "name": "stdout",
     "output_type": "stream",
     "text": [
      "Weighted recall = 0.18639112903225805\n",
      "Weighted precision = 0.598517786217488\n",
      "Weighted F(1) Score = 0.24704593349782364\n",
      "Weighted F(0.5) Score = 0.339775643932226\n",
      "Weighted false positive rate = 0.00862824210063521\n"
     ]
    }
   ],
   "source": [
    "# Trad Metrics 15 x 15\n",
    "from pyspark.mllib.evaluation import MulticlassMetrics\n",
    "\n",
    "#Get labels/predictions in RDD expected by metrics classes\n",
    "rf_trad_labels_and_predictions = rf_trad_result.select([\"tag_idx\", \"prediction\"])\n",
    "\n",
    "# Instantiate metrics object\n",
    "rf_trad_metrics = MulticlassMetrics(rf_trad_labels_and_predictions.rdd)\n",
    "\n",
    "# Weighted stats\n",
    "print(\"Weighted recall = %s\" % rf_trad_metrics.weightedRecall)\n",
    "print(\"Weighted precision = %s\" % rf_trad_metrics.weightedPrecision)\n",
    "print(\"Weighted F(1) Score = %s\" % rf_trad_metrics.weightedFMeasure())\n",
    "print(\"Weighted F(0.5) Score = %s\" % rf_trad_metrics.weightedFMeasure(beta=0.5))\n",
    "print(\"Weighted false positive rate = %s\" % rf_trad_metrics.weightedFalsePositiveRate)"
   ]
  },
  {
   "cell_type": "markdown",
   "metadata": {
    "application/vnd.databricks.v1+cell": {
     "inputWidgets": {},
     "nuid": "44099856-5436-483d-b518-a55d418e5cb2",
     "showTitle": false,
     "title": ""
    }
   },
   "source": [
    "# Results Analysis\n",
    "As we can see from the above, the __ and __ model performed best on the lazy features and traditional features, respectively. We will now use the __ model to determine the highest performing and lowest performing classes."
   ]
  },
  {
   "cell_type": "code",
   "execution_count": 38,
   "metadata": {},
   "outputs": [
    {
     "name": "stdout",
     "output_type": "stream",
     "text": [
      "+--------------------+--------------------+--------------------+-------+--------------------+--------------------+--------------------+--------------------+--------------------+--------------------+--------------------+--------------------+--------------------+--------------------+--------------------+--------------------+----------+\n",
      "|                Body|               Title|                 tag|tag_idx|   Lazy_Title_Tokens|    Lazy_Body_Tokens|   Trad_Title_Tokens|    Trad_Body_Tokens|    lazy_body_vector|   lazy_title_vector|       lazy_features|    trad_body_vector|   trad_title_vector|       trad_features|       rawPrediction|         probability|prediction|\n",
      "+--------------------+--------------------+--------------------+-------+--------------------+--------------------+--------------------+--------------------+--------------------+--------------------+--------------------+--------------------+--------------------+--------------------+--------------------+--------------------+----------+\n",
      "|<blockquote>\n",
      "  <p...|what is the diffe...|              string|   22.0|[what, is, the, d...|[possible, duplic...|[differ, use, str...|[possibl, duplic,...|(949,[1,2,6,7,24,...|(104,[4,11,13,33,...|(1053,[1,2,6,7,24...|(898,[1,3,12,14,2...|(101,[0,21,49],[1...|(999,[1,3,12,14,2...|[0.20873749869863...|[0.01391583324657...|      22.0|\n",
      "|<blockquote>\n",
      "  <p...|trying to POST wi...|                post|  299.0|[trying, to, post...|[possible, duplic...|[tri, post, pytho...|[possibl, duplic,...|(949,[0,3,4,9,10,...|(104,[0,5,70],[1....|(1053,[0,3,4,9,10...|(898,[1,14,26,30,...|    (101,[40],[1.0])|(999,[1,14,26,30,...|[0.71759425011148...|[0.04783961667409...|      20.0|\n",
      "|<blockquote>\n",
      "  <p...|How do I install ...|        installation|  257.0|[how, do, i, inst...|[possible, duplic...|[instal, color, s...|[possibl, duplic,...|(949,[0,5,8,10,13...|(104,[3,9,12,20],...|(1053,[0,5,8,10,1...|(898,[4,6,85,106,...|         (101,[],[])|(999,[4,6,85,106,...|[0.25814167291427...|[0.01720944486095...|       1.0|\n",
      "|<blockquote>\n",
      "  <p...|Parse error: synt...|             parsing|  127.0|[parse, error:, s...|[parse, error:, s...|[pars, error, syn...|[pars, error, syn...|(949,[1,2,4,6,7,1...|(104,[12,25],[1.0...|(1053,[1,2,4,6,7,...|(898,[5,7,8,11,17...|     (101,[6],[2.0])|(999,[5,7,8,11,17...|[1.53995286450799...|[0.10266352430053...|       5.0|\n",
      "|<h3>Abstract</h3>...|Get objects by va...|                .net|    1.0|[get, objects, by...|[abstract, i, am,...|[get, object, val...|[abstract, write,...|(949,[0,1,2,3,4,5...|(104,[6,23,41,46]...|(1053,[0,1,2,3,4,...|(898,[1,4,10,13,1...|(101,[3,10,15],[1...|(999,[1,4,10,13,1...|[0.25814167291427...|[0.01720944486095...|       1.0|\n",
      "|<p>$$\\sum_{n=1}^\\...|Convergence/Diver...|sequences-and-series|  427.0|[convergence/dive...|[$$\\sum_{n=1}^\\in...|[converg, diverg,...|[sum_, n, 1, inft...|(949,[0,2,3,5,10,...|    (104,[13],[1.0])|(1053,[0,2,3,5,10...|(898,[0,1,2,42,43...|     (101,[0],[1.0])|(999,[0,1,2,42,43...|[0.25814167291427...|[0.01720944486095...|       1.0|\n",
      "|<p>1) I can see t...|JSF 2 : panelGrid...|               jsf-2|  362.0|[jsf, 2, :, panel...|[1), i, can, see,...|[jsf, 2, panelgri...|[1, see, panelgri...|(949,[0,2,3,4,5,9...|         (104,[],[])|(1053,[0,2,3,4,5,...|(898,[2,5,9,13,20...|    (101,[51],[1.0])|(999,[2,5,9,13,20...|[0.66605320931535...|[0.04440354728769...|       5.0|\n",
      "|<p><a href=\"http:...|Strange IE bug on...|              jquery|    0.0|[strange, ie, bug...|[(this, seems, to...|[strang, ie, bug,...|[seem, work, norm...|(949,[0,2,3,4,5,8...|     (104,[8],[1.0])|(1053,[0,2,3,4,5,...|(898,[1,10,14,15,...|    (101,[65],[1.0])|(999,[1,10,14,15,...|[0.29945731154307...|[0.01996382076953...|       1.0|\n",
      "|<p><a href=\"http:...|Webkit opacity tr...|                 css|    5.0|[webkit, opacity,...|[the, situation, ...|[webkit, opac, tr...|[situat, insid, d...|(949,[0,2,3,4,5,8...|(104,[5,61],[1.0,...|(1053,[0,2,3,4,5,...|(898,[0,1,3,14,20...|(101,[43,64],[1.0...|(999,[0,1,3,14,20...|[1.26242195174035...|[0.08416146344935...|       0.0|\n",
      "|<p><a href=\"http:...|Navigation bars w...|                xaml|  112.0|[navigation, bars...|[does, mention, t...|[navig, bar, thum...|[mention, includ,...|(949,[0,4,9,11,12...|(104,[1,5,36],[1....|(1053,[0,4,9,11,1...|(898,[31,65,70,76...|    (101,[13],[1.0])|(999,[31,65,70,76...|[0.22255368928269...|[0.01483691261884...|       7.0|\n",
      "|<p><br>\n",
      "My iOS ap...|CFStream SSL erro...|         objective-c|    6.0|[cfstream, ssl, e...|[my, ios, app, co...|[cfstream, ssl, e...|[io, app, contain...|(949,[0,1,2,3,5,6...|    (104,[26],[1.0])|(1053,[0,1,2,3,5,...|(898,[0,4,7,9,10,...|     (101,[6],[1.0])|(999,[0,4,7,9,10,...|[0.17197802061449...|[0.01146520137429...|       6.0|\n",
      "|<p><img src=\"http...|Substitue for css...|                 css|    5.0|[substitue, for, ...|[as, you, can, se...|[substitu, css, u...|[see, imag, attac...|(949,[0,1,2,3,4,5...|     (104,[9],[1.0])|(1053,[0,1,2,3,4,...|(898,[1,15,20,28,...|    (101,[90],[1.0])|(999,[1,15,20,28,...|[0.66605569902895...|[0.04440371326859...|       5.0|\n",
      "|<p><strong>Descri...|Problem in access...|             windows|   19.0|[problem, in, acc...|[description, i, ...|[problem, access,...|[descript, 2, sys...|(949,[0,2,3,4,5,8...|(104,[1,8,13,36,1...|(1053,[0,2,3,4,5,...|(898,[1,9,34,43,4...|(101,[0,13,46,58]...|(999,[1,9,34,43,4...|[0.18009320011192...|[0.01200621334079...|      50.0|\n",
      "|<p><strong>From  ...|How to constructi...|              jquery|    0.0|[how, to, constru...|[from, ajax, call...|[construct, javas...|[ajax, call, cons...|(949,[0,1,2,4,8,9...|(104,[0,3,5,35,44...|(1053,[0,1,2,4,8,...|(898,[1,2,9,17,29...|(101,[17,23],[1.0...|(999,[1,2,9,17,29...|[1.84703714893935...|[0.12313580992929...|      10.0|\n",
      "|<p><strong>UPDATE...|Parsing Apache lo...|                perl|  101.0|[parsing, apache,...|[updated, 5-10-20...|[pars, apach, log...|[updat, 5, 10, 20...|(949,[0,1,2,3,5,6...|     (104,[1],[1.0])|(1053,[0,1,2,3,5,...|(898,[0,1,2,4,6,9...|         (101,[],[])|(999,[0,1,2,4,6,9...|[0.26611699655155...|[0.01774113310343...|      12.0|\n",
      "|<p><strong>What I...|Showing tooltip o...|                 css|    5.0|[showing, tooltip...|[what, i, have, i...|[show, tooltip, m...|[imag, pie, chart...|(949,[0,1,2,4,5,6...|(104,[8,49],[1.0,...|(1053,[0,1,2,4,5,...|(898,[10,11,14,16...|(101,[20,77],[1.0...|(999,[10,11,14,16...|[1.78467813944135...|[0.11897854262942...|       5.0|\n",
      "|<p><strong>the pu...|A comparison betw...|                .net|    1.0|[a, comparison, b...|[the, purpose, of...|[comparison, coco...|[purpos, question...|(949,[2,3,5,8,9,1...|(104,[2,4,7,92],[...|(1053,[2,3,5,8,9,...|(898,[14,20,34,59...|     (101,[7],[1.0])|(999,[14,20,34,59...|[0.23305601699264...|[0.01553706779950...|       1.0|\n",
      "|<p>A Windows Form...|VS2010: View .set...|  visual-studio-2010|   36.0|[vs2010:, view, ....|[a, windows, form...|[vs2010, view, se...|[window, form, ap...|(949,[0,2,4,5,22,...|(104,[19,90],[1.0...|(1053,[0,2,4,5,22...|(898,[6,11,18,27,...|(101,[1,29,52],[1...|(999,[6,11,18,27,...|[0.26970715126289...|[0.01798047675085...|       1.0|\n",
      "|<p>A process in o...|Designing databas...|            database|   17.0|[designing, datab...|[a, process, in, ...|[design, databas,...|[process, system,...|(949,[0,2,3,4,5,8...|(104,[6,17,38,50,...|(1053,[0,2,3,4,5,...|(898,[1,4,6,8,13,...|(101,[32,50,51],[...|(999,[1,4,6,8,13,...|[0.18587387353168...|[0.01239159156877...|      17.0|\n",
      "|<p>A remote linux...|What steps to tak...|             apache2|  223.0|[what, steps, to,...|[a, remote, linux...|[step, take, find...|[remot, linux, we...|(949,[0,3,38,64,7...|(104,[0,4,33,99,1...|(1053,[0,3,38,64,...|(898,[36,92,101,2...|(101,[58,69],[1.0...|(999,[36,92,101,2...|[0.19781945787747...|[0.01318796385849...|      24.0|\n",
      "+--------------------+--------------------+--------------------+-------+--------------------+--------------------+--------------------+--------------------+--------------------+--------------------+--------------------+--------------------+--------------------+--------------------+--------------------+--------------------+----------+\n",
      "only showing top 20 rows\n",
      "\n"
     ]
    }
   ],
   "source": [
    "# TODO: Update with best performing model \n",
    "top_df = rf_trad_result\n",
    "top_df.show()"
   ]
  },
  {
   "cell_type": "code",
   "execution_count": null,
   "metadata": {},
   "outputs": [],
   "source": []
  },
  {
   "cell_type": "code",
   "execution_count": 40,
   "metadata": {},
   "outputs": [],
   "source": [
    "# write prepared file for further use\n",
    "top_df.write.parquet(\"top_df1\")"
   ]
  },
  {
   "cell_type": "code",
   "execution_count": 7,
   "metadata": {},
   "outputs": [
    {
     "name": "stdout",
     "output_type": "stream",
     "text": [
      "+----------------+-------+----------+\n",
      "|             tag|tag_idx|prediction|\n",
      "+----------------+-------+----------+\n",
      "|          jquery|    0.0|       0.0|\n",
      "|      coldfusion|  331.0|       1.0|\n",
      "|            .net|    1.0|       1.0|\n",
      "|      javascript|    9.0|      20.0|\n",
      "|           swing|   26.0|       1.0|\n",
      "|          jquery|    0.0|       0.0|\n",
      "|             sql|   11.0|       2.0|\n",
      "|web-applications|  165.0|     344.0|\n",
      "|   ruby-on-rails|   70.0|       2.0|\n",
      "|      batch-file|  379.0|       1.0|\n",
      "|           swing|   26.0|       1.0|\n",
      "|web-applications|  165.0|      13.0|\n",
      "|           mysql|    2.0|       2.0|\n",
      "|          jquery|    0.0|       0.0|\n",
      "|           regex|   12.0|       1.0|\n",
      "|           shell|   76.0|       1.0|\n",
      "|      networking|   47.0|       1.0|\n",
      "|         android|    8.0|       8.0|\n",
      "|         asp.net|    3.0|       3.0|\n",
      "|entity-framework|   81.0|     407.0|\n",
      "+----------------+-------+----------+\n",
      "only showing top 20 rows\n",
      "\n"
     ]
    }
   ],
   "source": [
    "top_df = spark.read.parquet(\"top_df1\")\n",
    "top_df.cache()\n",
    "top_df.select([\"tag\", \"tag_idx\", \"prediction\"]).show()"
   ]
  },
  {
   "cell_type": "code",
   "execution_count": 64,
   "metadata": {},
   "outputs": [
    {
     "data": {
      "text/plain": [
       "19839"
      ]
     },
     "execution_count": 64,
     "metadata": {},
     "output_type": "execute_result"
    }
   ],
   "source": [
    "top_df.count()"
   ]
  },
  {
   "cell_type": "code",
   "execution_count": 9,
   "metadata": {},
   "outputs": [
    {
     "name": "stdout",
     "output_type": "stream",
     "text": [
      "+----------------+-------+----------+------------------+\n",
      "|             tag|tag_idx|prediction|     predicted_tag|\n",
      "+----------------+-------+----------+------------------+\n",
      "|          jquery|    0.0|       0.0|            jquery|\n",
      "|      coldfusion|  331.0|       1.0|              .net|\n",
      "|            .net|    1.0|       1.0|              .net|\n",
      "|      javascript|    9.0|      20.0|              ajax|\n",
      "|           swing|   26.0|       1.0|              .net|\n",
      "|          jquery|    0.0|       0.0|            jquery|\n",
      "|             sql|   11.0|       2.0|             mysql|\n",
      "|web-applications|  165.0|     344.0|        spring-mvc|\n",
      "|   ruby-on-rails|   70.0|       2.0|             mysql|\n",
      "|      batch-file|  379.0|       1.0|              .net|\n",
      "|           swing|   26.0|       1.0|              .net|\n",
      "|web-applications|  165.0|      13.0|               xml|\n",
      "|           mysql|    2.0|       2.0|             mysql|\n",
      "|          jquery|    0.0|       0.0|            jquery|\n",
      "|           regex|   12.0|       1.0|              .net|\n",
      "|           shell|   76.0|       1.0|              .net|\n",
      "|      networking|   47.0|       1.0|              .net|\n",
      "|         android|    8.0|       8.0|           android|\n",
      "|         asp.net|    3.0|       3.0|           asp.net|\n",
      "|entity-framework|   81.0|     407.0|entity-framework-4|\n",
      "+----------------+-------+----------+------------------+\n",
      "only showing top 20 rows\n",
      "\n"
     ]
    }
   ],
   "source": [
    "from pyspark.ml.feature import IndexToString\n",
    "from pyspark.sql import functions as F\n",
    "from pyspark.ml.feature import StringIndexer\n",
    "\n",
    "#Encode tag's using String indexer\n",
    "decoder = IndexToString(inputCol=\"prediction\", outputCol=\"predicted_tag\", labels=tag_encode.labels)\n",
    "top_df = decoder.transform(top_df)\n",
    "top_df.select([\"tag\", \"tag_idx\", \"prediction\", \"predicted_tag\"]).show()"
   ]
  },
  {
   "cell_type": "code",
   "execution_count": 10,
   "metadata": {},
   "outputs": [],
   "source": [
    "from pyspark.mllib.evaluation import MulticlassMetrics\n",
    "import pandas as pd\n",
    "from pyspark.sql.functions import desc, col\n",
    "\n",
    "def get_label_metrics(results_df, ground_truth_col='tag_idx', prediction_col='prediction'):\n",
    "    \"\"\"Get pandas dataframe of top 10 tags with metrics from top_df\n",
    "\n",
    "    Params: \n",
    "        results_df (pyspark DataFrame): top_df to get metrics of\n",
    "\n",
    "    Returns:\n",
    "        (pd.DataFrame): pandas dataframe in form of {column: [row_data]} for plotting\n",
    "    \"\"\"\n",
    "    labels_and_predictions = results_df.select([ground_truth_col, prediction_col])\n",
    "    # Instantiate metrics object\n",
    "    metrics = MulticlassMetrics(labels_and_predictions.rdd)\n",
    "\n",
    "    #get dict of labels to plot\n",
    "    label_metrics = {}\n",
    "\n",
    "    # Statistics by class\n",
    "    labels = df.rdd.map(lambda lp: lp.tag_idx).distinct().collect()\n",
    "    # print(labels)\n",
    "    for label in sorted(labels):\n",
    "        prec_recall_fMeasure = ()\n",
    "        try:\n",
    "            prec = metrics.precision(label)\n",
    "            recall = metrics.recall(label)\n",
    "            fMeasure = metrics.fMeasure(label, beta=1.0)\n",
    "            prec_recall_fMeasure = (fMeasure, prec, recall) \n",
    "            label_metrics[label] = prec_recall_fMeasure\n",
    "        except: \n",
    "            label_metrics[label] = (0,0,0)\n",
    "\n",
    "    # get tags in string form: \n",
    "    tags = results_df.select(['tag', 'tag_idx']).distinct().collect()\n",
    "    tag_pairs = {x['tag_idx']: x['tag'] for x in tags}\n",
    "\n",
    "    # Convert tag classes into strings \n",
    "    tag_metrics = {}\n",
    "    for tag_index in tag_pairs: \n",
    "        tag_metrics[tag_pairs[tag_index]] = label_metrics[tag_index]\n",
    "\n",
    "    # Top 10 tags\n",
    "    top_10_tags = sorted(tag_metrics, key=lambda x: tag_metrics[x][0], reverse=True)\n",
    "\n",
    "    # Get overall tag counts from input DF\n",
    "    tag_counts = train_df.select('tag').groupby('tag').count().sort(desc('count')).collect()\n",
    "    tag_counts = {x['tag']: x['count'] for x in tag_counts}\n",
    "\n",
    "    # Get ready for plotting\n",
    "    plot_dict = {}\n",
    "    tag_list = []\n",
    "    f1_list = []\n",
    "    precision_list = []\n",
    "    recall_list = []\n",
    "    tag_count_list = []\n",
    "\n",
    "    for tag in top_10_tags:\n",
    "        tag_list.append(tag)\n",
    "        f1_list.append(tag_metrics[tag][0])\n",
    "        precision_list.append(tag_metrics[tag][1])\n",
    "        recall_list.append(tag_metrics[tag][2])\n",
    "        tag_count_list.append(tag_counts[tag])\n",
    "\n",
    "    plot_df = pd.DataFrame({\"Tag\": tag_list, \"F1Measure\": f1_list, \"Precision\":precision_list, \"Recall\":recall_list, \"Count\":tag_count_list})\n",
    "    \n",
    "    return plot_df"
   ]
  },
  {
   "cell_type": "code",
   "execution_count": 11,
   "metadata": {},
   "outputs": [
    {
     "name": "stdout",
     "output_type": "stream",
     "text": [
      "                Tag  F1Measure  Precision    Recall  Count\n",
      "0             regex   0.561983   0.635514  0.503704   1008\n",
      "1           eclipse   0.511364   0.681818  0.409091    589\n",
      "2            arrays   0.491803   0.789474  0.357143    984\n",
      "3    multithreading   0.435233   0.494118  0.388889    682\n",
      "4               css   0.428571   0.600000  0.333333   1618\n",
      "..              ...        ...        ...       ...    ...\n",
      "495     performance   0.000000   0.000000  0.000000    470\n",
      "496            mvvm   0.000000   0.000000  0.000000     84\n",
      "497             wcf   0.000000   0.000000  0.000000    319\n",
      "498        homework   0.000000   0.000000  0.000000    220\n",
      "499          filter   0.000000   0.000000  0.000000     66\n",
      "\n",
      "[500 rows x 5 columns]\n"
     ]
    }
   ],
   "source": [
    "plot_df = get_label_metrics(top_df)\n",
    "print(plot_df)"
   ]
  },
  {
   "cell_type": "code",
   "execution_count": 23,
   "metadata": {},
   "outputs": [
    {
     "data": {
      "text/html": [
       "<div>\n",
       "<style scoped>\n",
       "    .dataframe tbody tr th:only-of-type {\n",
       "        vertical-align: middle;\n",
       "    }\n",
       "\n",
       "    .dataframe tbody tr th {\n",
       "        vertical-align: top;\n",
       "    }\n",
       "\n",
       "    .dataframe thead th {\n",
       "        text-align: right;\n",
       "    }\n",
       "</style>\n",
       "<table border=\"1\" class=\"dataframe\">\n",
       "  <thead>\n",
       "    <tr style=\"text-align: right;\">\n",
       "      <th></th>\n",
       "      <th>Tag</th>\n",
       "      <th>F1Measure</th>\n",
       "      <th>Precision</th>\n",
       "      <th>Recall</th>\n",
       "      <th>Count</th>\n",
       "    </tr>\n",
       "  </thead>\n",
       "  <tbody>\n",
       "    <tr>\n",
       "      <th>0</th>\n",
       "      <td>regex</td>\n",
       "      <td>0.561983</td>\n",
       "      <td>0.635514</td>\n",
       "      <td>0.503704</td>\n",
       "      <td>1008</td>\n",
       "    </tr>\n",
       "    <tr>\n",
       "      <th>1</th>\n",
       "      <td>eclipse</td>\n",
       "      <td>0.511364</td>\n",
       "      <td>0.681818</td>\n",
       "      <td>0.409091</td>\n",
       "      <td>589</td>\n",
       "    </tr>\n",
       "    <tr>\n",
       "      <th>2</th>\n",
       "      <td>arrays</td>\n",
       "      <td>0.491803</td>\n",
       "      <td>0.789474</td>\n",
       "      <td>0.357143</td>\n",
       "      <td>984</td>\n",
       "    </tr>\n",
       "    <tr>\n",
       "      <th>3</th>\n",
       "      <td>multithreading</td>\n",
       "      <td>0.435233</td>\n",
       "      <td>0.494118</td>\n",
       "      <td>0.388889</td>\n",
       "      <td>682</td>\n",
       "    </tr>\n",
       "    <tr>\n",
       "      <th>4</th>\n",
       "      <td>css</td>\n",
       "      <td>0.428571</td>\n",
       "      <td>0.600000</td>\n",
       "      <td>0.333333</td>\n",
       "      <td>1618</td>\n",
       "    </tr>\n",
       "    <tr>\n",
       "      <th>5</th>\n",
       "      <td>jquery</td>\n",
       "      <td>0.427696</td>\n",
       "      <td>0.828979</td>\n",
       "      <td>0.288192</td>\n",
       "      <td>3429</td>\n",
       "    </tr>\n",
       "    <tr>\n",
       "      <th>6</th>\n",
       "      <td>.htaccess</td>\n",
       "      <td>0.409091</td>\n",
       "      <td>0.310345</td>\n",
       "      <td>0.600000</td>\n",
       "      <td>261</td>\n",
       "    </tr>\n",
       "    <tr>\n",
       "      <th>7</th>\n",
       "      <td>xml</td>\n",
       "      <td>0.402332</td>\n",
       "      <td>0.741935</td>\n",
       "      <td>0.276000</td>\n",
       "      <td>983</td>\n",
       "    </tr>\n",
       "    <tr>\n",
       "      <th>8</th>\n",
       "      <td>facebook</td>\n",
       "      <td>0.395604</td>\n",
       "      <td>0.500000</td>\n",
       "      <td>0.327273</td>\n",
       "      <td>423</td>\n",
       "    </tr>\n",
       "    <tr>\n",
       "      <th>9</th>\n",
       "      <td>mysql</td>\n",
       "      <td>0.387164</td>\n",
       "      <td>0.782427</td>\n",
       "      <td>0.257221</td>\n",
       "      <td>2113</td>\n",
       "    </tr>\n",
       "  </tbody>\n",
       "</table>\n",
       "</div>"
      ],
      "text/plain": [
       "              Tag  F1Measure  Precision    Recall  Count\n",
       "0           regex   0.561983   0.635514  0.503704   1008\n",
       "1         eclipse   0.511364   0.681818  0.409091    589\n",
       "2          arrays   0.491803   0.789474  0.357143    984\n",
       "3  multithreading   0.435233   0.494118  0.388889    682\n",
       "4             css   0.428571   0.600000  0.333333   1618\n",
       "5          jquery   0.427696   0.828979  0.288192   3429\n",
       "6       .htaccess   0.409091   0.310345  0.600000    261\n",
       "7             xml   0.402332   0.741935  0.276000    983\n",
       "8        facebook   0.395604   0.500000  0.327273    423\n",
       "9           mysql   0.387164   0.782427  0.257221   2113"
      ]
     },
     "execution_count": 23,
     "metadata": {},
     "output_type": "execute_result"
    }
   ],
   "source": [
    "plot_df[:10]"
   ]
  },
  {
   "cell_type": "code",
   "execution_count": 12,
   "metadata": {},
   "outputs": [
    {
     "name": "stdout",
     "output_type": "stream",
     "text": [
      "                        Tag  F1Measure  Precision  Recall  Count\n",
      "291     windows-server-2003        0.0        0.0     0.0     38\n",
      "395                workflow        0.0        0.0     0.0     38\n",
      "121  multidimensional-array        0.0        0.0     0.0     39\n",
      "458                triggers        0.0        0.0     0.0     39\n",
      "431                download        0.0        0.0     0.0     40\n",
      "407                     gps        0.0        0.0     0.0     41\n",
      "445                  router        0.0        0.0     0.0     41\n",
      "178               amazon-s3        0.0        0.0     0.0     42\n",
      "468              namespaces        0.0        0.0     0.0     42\n",
      "240                checkbox        0.0        0.0     0.0     43\n"
     ]
    }
   ],
   "source": [
    "bottom_10 = plot_df.sort_values(\"Count\").head(10)\n",
    "print(bottom_10)"
   ]
  },
  {
   "cell_type": "code",
   "execution_count": 13,
   "metadata": {},
   "outputs": [
    {
     "name": "stderr",
     "output_type": "stream",
     "text": [
      "\n",
      "Bad key \"text.kerning_factor\" on line 4 in\n",
      "/Users/kailunzhang/opt/anaconda3/lib/python3.7/site-packages/matplotlib/mpl-data/stylelib/_classic_test_patch.mplstyle.\n",
      "You probably need to get an updated matplotlibrc file from\n",
      "https://github.com/matplotlib/matplotlib/blob/v3.1.3/matplotlibrc.template\n",
      "or from the matplotlib source distribution\n",
      "/Users/kailunzhang/opt/anaconda3/lib/python3.7/site-packages/ipykernel_launcher.py:5: UserWarning: Matplotlib is currently using module://ipykernel.pylab.backend_inline, which is a non-GUI backend, so cannot show the figure.\n",
      "  \"\"\"\n"
     ]
    },
    {
     "data": {
      "image/png": "[encoded data removed]",
      "text/plain": [
       "<Figure size 1296x864 with 1 Axes>"
      ]
     },
     "metadata": {
      "needs_background": "light"
     },
     "output_type": "display_data"
    }
   ],
   "source": [
    "import matplotlib.pyplot as plt\n",
    "import seaborn as sns\n",
    "fig, ax = plt.subplots(nrows=1, ncols=1, figsize=[18,12])\n",
    "sns.barplot(x=\"Tag\", y=\"F1Measure\", data=plot_df[:10], ax=ax)\n",
    "fig.show()\n",
    "# TODO: Update file name \n",
    "plt.savefig(\"Tag2_top10_f1\")"
   ]
  },
  {
   "cell_type": "code",
   "execution_count": 14,
   "metadata": {},
   "outputs": [
    {
     "name": "stderr",
     "output_type": "stream",
     "text": [
      "/Users/kailunzhang/opt/anaconda3/lib/python3.7/site-packages/ipykernel_launcher.py:5: UserWarning: Matplotlib is currently using module://ipykernel.pylab.backend_inline, which is a non-GUI backend, so cannot show the figure.\n",
      "  \"\"\"\n"
     ]
    },
    {
     "data": {
      "image/png": "[encoded data removed]",
      "text/plain": [
       "<Figure size 1296x864 with 1 Axes>"
      ]
     },
     "metadata": {
      "needs_background": "light"
     },
     "output_type": "display_data"
    }
   ],
   "source": [
    "import matplotlib.pyplot as plt\n",
    "import seaborn as sns\n",
    "fig, ax = plt.subplots(nrows=1, ncols=1, figsize=[18,12])\n",
    "sns.barplot(x=\"Tag\", y=\"F1Measure\", data=bottom_10, ax=ax)\n",
    "fig.show()\n",
    "plt.savefig(\"Tag2_bottom10_f1\")"
   ]
  },
  {
   "cell_type": "code",
   "execution_count": 15,
   "metadata": {},
   "outputs": [
    {
     "name": "stderr",
     "output_type": "stream",
     "text": [
      "/Users/kailunzhang/opt/anaconda3/lib/python3.7/site-packages/ipykernel_launcher.py:5: UserWarning: Matplotlib is currently using module://ipykernel.pylab.backend_inline, which is a non-GUI backend, so cannot show the figure.\n",
      "  \"\"\"\n"
     ]
    },
    {
     "data": {
      "image/png": "[encoded data removed]",
      "text/plain": [
       "<Figure size 1296x864 with 1 Axes>"
      ]
     },
     "metadata": {
      "needs_background": "light"
     },
     "output_type": "display_data"
    }
   ],
   "source": [
    "import matplotlib.pyplot as plt\n",
    "import seaborn as sns\n",
    "fig, ax = plt.subplots(nrows=1, ncols=1, figsize=[18,12])\n",
    "sns.barplot(x=\"Tag\", y=\"Precision\", data=plot_df[:10], ax=ax)\n",
    "fig.show()\n",
    "plt.savefig(\"Tag2_top10_prec\")"
   ]
  },
  {
   "cell_type": "code",
   "execution_count": 16,
   "metadata": {},
   "outputs": [
    {
     "name": "stderr",
     "output_type": "stream",
     "text": [
      "/Users/kailunzhang/opt/anaconda3/lib/python3.7/site-packages/ipykernel_launcher.py:5: UserWarning: Matplotlib is currently using module://ipykernel.pylab.backend_inline, which is a non-GUI backend, so cannot show the figure.\n",
      "  \"\"\"\n"
     ]
    },
    {
     "data": {
      "image/png": "[encoded data removed]",
      "text/plain": [
       "<Figure size 1296x864 with 1 Axes>"
      ]
     },
     "metadata": {
      "needs_background": "light"
     },
     "output_type": "display_data"
    }
   ],
   "source": [
    "import matplotlib.pyplot as plt\n",
    "import seaborn as sns\n",
    "fig, ax = plt.subplots(nrows=1, ncols=1, figsize=[18,12])\n",
    "sns.barplot(x=\"Tag\", y=\"Recall\", data=plot_df[:10], ax=ax)\n",
    "fig.show()\n",
    "plt.savefig(\"Tag2_top10_recall\")"
   ]
  },
  {
   "cell_type": "code",
   "execution_count": 17,
   "metadata": {},
   "outputs": [
    {
     "name": "stderr",
     "output_type": "stream",
     "text": [
      "/Users/kailunzhang/opt/anaconda3/lib/python3.7/site-packages/ipykernel_launcher.py:5: UserWarning: Matplotlib is currently using module://ipykernel.pylab.backend_inline, which is a non-GUI backend, so cannot show the figure.\n",
      "  \"\"\"\n"
     ]
    },
    {
     "data": {
      "image/png": "[encoded data removed]",
      "text/plain": [
       "<Figure size 1296x864 with 1 Axes>"
      ]
     },
     "metadata": {
      "needs_background": "light"
     },
     "output_type": "display_data"
    }
   ],
   "source": [
    "import matplotlib.pyplot as plt\n",
    "import seaborn as sns\n",
    "fig, ax = plt.subplots(nrows=1, ncols=1, figsize=[18,12])\n",
    "sns.barplot(x=\"Tag\", y=\"Count\", data=plot_df[:10], ax=ax)\n",
    "fig.show()\n",
    "plt.savefig(\"Tag2_top10_count\")"
   ]
  },
  {
   "cell_type": "code",
   "execution_count": 18,
   "metadata": {},
   "outputs": [
    {
     "name": "stderr",
     "output_type": "stream",
     "text": [
      "/Users/kailunzhang/opt/anaconda3/lib/python3.7/site-packages/ipykernel_launcher.py:5: UserWarning: Matplotlib is currently using module://ipykernel.pylab.backend_inline, which is a non-GUI backend, so cannot show the figure.\n",
      "  \"\"\"\n"
     ]
    },
    {
     "data": {
      "image/png": "[encoded data removed]",
      "text/plain": [
       "<Figure size 1296x864 with 1 Axes>"
      ]
     },
     "metadata": {
      "needs_background": "light"
     },
     "output_type": "display_data"
    }
   ],
   "source": [
    "import matplotlib.pyplot as plt\n",
    "import seaborn as sns\n",
    "fig, ax = plt.subplots(nrows=1, ncols=1, figsize=[18,12])\n",
    "sns.barplot(x=\"Tag\", y=\"Count\", data=bottom_10, ax=ax)\n",
    "fig.show()\n",
    "plt.savefig(\"Tag2_bottom10_count\")"
   ]
  },
  {
   "cell_type": "code",
   "execution_count": 19,
   "metadata": {},
   "outputs": [
    {
     "name": "stderr",
     "output_type": "stream",
     "text": [
      "/Users/kailunzhang/opt/anaconda3/lib/python3.7/site-packages/ipykernel_launcher.py:7: UserWarning: Matplotlib is currently using module://ipykernel.pylab.backend_inline, which is a non-GUI backend, so cannot show the figure.\n",
      "  import sys\n"
     ]
    },
    {
     "data": {
      "image/png": "[encoded data removed]",
      "text/plain": [
       "<Figure size 1296x864 with 1 Axes>"
      ]
     },
     "metadata": {
      "needs_background": "light"
     },
     "output_type": "display_data"
    }
   ],
   "source": [
    "# Counts vs F1\n",
    "\n",
    "import matplotlib.pyplot as plt\n",
    "import seaborn as sns\n",
    "fig, ax = plt.subplots(nrows=1, ncols=1, figsize=[18,12])\n",
    "sns.scatterplot(x=\"Count\", y=\"F1Measure\", data=plot_df, ax=ax)\n",
    "fig.show()\n",
    "plt.savefig(\"Tag 2 F1Measure vs Count\")"
   ]
  },
  {
   "cell_type": "code",
   "execution_count": null,
   "metadata": {},
   "outputs": [],
   "source": []
  },
  {
   "cell_type": "code",
   "execution_count": null,
   "metadata": {},
   "outputs": [],
   "source": []
  }
 ],
 "metadata": {
  "application/vnd.databricks.v1+notebook": {
   "dashboards": [],
   "language": "python",
   "notebookName": "Machine Learning Training and Predictions",
   "notebookOrigID": 3436719999264986,
   "widgets": {}
  },
  "kernelspec": {
   "display_name": "Python 3",
   "language": "python",
   "name": "python3"
  },
  "language_info": {
   "codemirror_mode": {
    "name": "ipython",
    "version": 3
   },
   "file_extension": ".py",
   "mimetype": "text/x-python",
   "name": "python",
   "nbconvert_exporter": "python",
   "pygments_lexer": "ipython3",
   "version": "3.7.6"
  }
 },
 "nbformat": 4,
 "nbformat_minor": 1
}
